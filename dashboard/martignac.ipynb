{
 "cells": [
  {
   "cell_type": "raw",
   "id": "12c62cd892c563e8",
   "metadata": {
    "collapsed": false
   },
   "source": [
    "---\n",
    "title: \"Martignac\"\n",
    "author: \"Dashboard\"\n",
    "format: dashboard\n",
    "server: shiny\n",
    "theme: cosmo\n",
    "---"
   ]
  },
  {
   "cell_type": "code",
   "execution_count": 1,
   "id": "adb267d8d91b5452",
   "metadata": {
    "ExecuteTime": {
     "end_time": "2024-03-21T14:50:08.560012Z",
     "start_time": "2024-03-21T14:50:08.500676Z"
    }
   },
   "outputs": [
    {
     "name": "stderr",
     "output_type": "stream",
     "text": [
      "WARNING:MDAnalysis.coordinates.AMBER:netCDF4 is not available. Writing AMBER ncdf files will be slow.\n"
     ]
    }
   ],
   "source": [
    "#| context: setup\n",
    "from dataclasses import asdict\n",
    "import pandas as pd\n",
    "from itables import show\n",
    "from shiny import render, reactive, ui\n",
    "\n",
    "from martignac.nomad.entries import (\n",
    "    get_entries_of_my_uploads,\n",
    "    get_entries_in_database,\n",
    "    DEFAULT_DATABASE,\n",
    ")\n",
    "\n",
    "def make_clickable(val):\n",
    "    return '<a target=\"_blank\" href=\"{}\">link</a>'.format(val)"
   ]
  },
  {
   "cell_type": "code",
   "execution_count": 2,
   "id": "474fd9f1-f0d2-4e55-a0fa-27dd8258cfe1",
   "metadata": {
    "ExecuteTime": {
     "end_time": "2024-03-21T15:04:09.263879Z",
     "start_time": "2024-03-21T15:04:08.996586Z"
    }
   },
   "outputs": [
    {
     "name": "stderr",
     "output_type": "stream",
     "text": [
      "INFO:martignac.nomad.utils:Sending post request @ https://nomad-lab.eu/prod/v1/test/api/v1/entries/query\n"
     ]
    },
    {
     "name": "stderr",
     "output_type": "stream",
     "text": [
      "INFO:martignac.nomad.entries:retrieving entry IWfLp8VCyT7z9t3BtVy21Q5WZSRW on test server\n"
     ]
    },
    {
     "name": "stderr",
     "output_type": "stream",
     "text": [
      "INFO:martignac.nomad.utils:Sending get request @ https://nomad-lab.eu/prod/v1/test/api/v1/entries/IWfLp8VCyT7z9t3BtVy21Q5WZSRW\n"
     ]
    },
    {
     "name": "stderr",
     "output_type": "stream",
     "text": [
      "INFO:martignac.nomad.users:retrieving user 30d3a108-d2cc-45ec-9ddb-0c1dc6a2c99b on prod server\n"
     ]
    },
    {
     "name": "stderr",
     "output_type": "stream",
     "text": [
      "INFO:martignac.nomad.utils:Sending get request @ https://nomad-lab.eu/prod/v1/test/api/v1/users/30d3a108-d2cc-45ec-9ddb-0c1dc6a2c99b\n"
     ]
    },
    {
     "name": "stderr",
     "output_type": "stream",
     "text": [
      "INFO:martignac.nomad.uploads:retrieving all uploads on test server\n"
     ]
    },
    {
     "name": "stderr",
     "output_type": "stream",
     "text": [
      "INFO:martignac.nomad.utils:Sending get request @ https://nomad-lab.eu/prod/v1/test/api/v1/uploads\n"
     ]
    },
    {
     "name": "stderr",
     "output_type": "stream",
     "text": [
      "INFO:martignac.nomad.utils:Requesting authentication token @ https://nomad-lab.eu/prod/v1/test/api/v1\n"
     ]
    },
    {
     "name": "stderr",
     "output_type": "stream",
     "text": [
      "INFO:martignac.nomad.users:retrieving user 7c85bdf1-8b53-40a8-81a4-04f26ff56f29 on prod server\n"
     ]
    },
    {
     "name": "stderr",
     "output_type": "stream",
     "text": [
      "INFO:martignac.nomad.utils:Sending get request @ https://nomad-lab.eu/prod/v1/test/api/v1/users/7c85bdf1-8b53-40a8-81a4-04f26ff56f29\n"
     ]
    },
    {
     "name": "stderr",
     "output_type": "stream",
     "text": [
      "INFO:martignac.nomad.entries:retrieving entries for upload Hbwh9S0-RLehQIh90nfhAQ on test server\n"
     ]
    },
    {
     "name": "stderr",
     "output_type": "stream",
     "text": [
      "INFO:martignac.nomad.utils:Sending get request @ https://nomad-lab.eu/prod/v1/test/api/v1/uploads/Hbwh9S0-RLehQIh90nfhAQ/entries\n"
     ]
    },
    {
     "name": "stderr",
     "output_type": "stream",
     "text": [
      "INFO:martignac.nomad.entries:retrieving entries for upload oWleQmrGQ96m1uu8rnfurg on test server\n"
     ]
    },
    {
     "name": "stderr",
     "output_type": "stream",
     "text": [
      "INFO:martignac.nomad.utils:Sending get request @ https://nomad-lab.eu/prod/v1/test/api/v1/uploads/oWleQmrGQ96m1uu8rnfurg/entries\n"
     ]
    },
    {
     "name": "stderr",
     "output_type": "stream",
     "text": [
      "INFO:martignac.nomad.entries:retrieving entries for upload QKFgx6_bQyGncwz6Pbdiww on test server\n"
     ]
    },
    {
     "name": "stderr",
     "output_type": "stream",
     "text": [
      "INFO:martignac.nomad.utils:Sending get request @ https://nomad-lab.eu/prod/v1/test/api/v1/uploads/QKFgx6_bQyGncwz6Pbdiww/entries\n"
     ]
    },
    {
     "name": "stderr",
     "output_type": "stream",
     "text": [
      "INFO:martignac.nomad.entries:retrieving entries for upload SIlgD-99Rm-kwsNiEBzB6w on test server\n"
     ]
    },
    {
     "name": "stderr",
     "output_type": "stream",
     "text": [
      "INFO:martignac.nomad.utils:Sending get request @ https://nomad-lab.eu/prod/v1/test/api/v1/uploads/SIlgD-99Rm-kwsNiEBzB6w/entries\n"
     ]
    }
   ],
   "source": [
    "# entries\n",
    "entries = get_entries_in_database()\n",
    "df_e = pd.json_normalize({**asdict(e), \"url\": e.nomad_gui_url} for e in entries)\n",
    "df_e = df_e[[\"entry_id\", \"upload_id\", \"entry_type\", \"entry_create_time\", \"url\"]]\n",
    "\n",
    "\n",
    "# uploads\n",
    "upload_entries = get_entries_of_my_uploads()\n",
    "df_u = pd.json_normalize(\n",
    "    {**asdict(e), \"workflow_name\": e.workflow_name, \"state_point\": e.state_point, \"mdp_files\": e.mdp_files, \"url\": e.nomad_gui_url} \n",
    "    for e in upload_entries if e.comment and e._comment_dict.get(\"state_point\") and e._comment_dict.get(\"workflow_name\")\n",
    ")\n",
    "sp_columns = [c for c in df_u.columns if \"state_point\" in c]\n",
    "df_u = df_u[\n",
    "    [\"entry_id\", \"upload_id\", \"entry_name\", \"entry_type\", \"workflow_name\", \"mdp_files\", *sp_columns, \"entry_create_time\", \"url\"]\n",
    "]\n",
    "df_u[\"entry_create_time\"] = pd.to_datetime(df_u[\"entry_create_time\"]).dt.date"
   ]
  },
  {
   "cell_type": "raw",
   "id": "3b01f82c752a0ebd",
   "metadata": {
    "collapsed": false
   },
   "source": [
    "# Main\n",
    "\n",
    "## Row {height=30%}"
   ]
  },
  {
   "cell_type": "code",
   "execution_count": 3,
   "id": "780b52cf-dea2-4afd-926e-cdee9d2cd097",
   "metadata": {
    "ExecuteTime": {
     "end_time": "2024-03-21T14:48:16.444904Z",
     "start_time": "2024-03-21T14:48:16.432480Z"
    }
   },
   "outputs": [
    {
     "data": {
      "text/plain": [
       "{'value': 14}"
      ]
     },
     "execution_count": 3,
     "metadata": {},
     "output_type": "execute_result"
    }
   ],
   "source": [
    "#| content: valuebox\n",
    "#| title: \"Number of entries\"\n",
    "#| icon: plus-circle\n",
    "#| color: \"success\"\n",
    "dict(\n",
    "  value = len(df_e) + len(df_u)\n",
    ")"
   ]
  },
  {
   "cell_type": "code",
   "execution_count": 4,
   "id": "9f73132b-5c2e-49e4-abf1-6f376a11a74c",
   "metadata": {
    "ExecuteTime": {
     "end_time": "2024-03-21T14:48:17.027836Z",
     "start_time": "2024-03-21T14:48:17.022922Z"
    }
   },
   "outputs": [
    {
     "data": {
      "text/plain": [
       "{'value': 'HJdEI1q4SV-c5Di43BTT_Q', 'color': 'secondary'}"
      ]
     },
     "execution_count": 4,
     "metadata": {},
     "output_type": "execute_result"
    }
   ],
   "source": [
    "#| content: valuebox\n",
    "#| title: \"Dataset ID\"\n",
    "dict(\n",
    "    value = DEFAULT_DATABASE,\n",
    "    color = \"secondary\"\n",
    ")"
   ]
  },
  {
   "cell_type": "raw",
   "id": "9aa12055-7fc9-486c-b31d-6ce140976abe",
   "metadata": {},
   "source": [
    "## Row {height=30%}"
   ]
  },
  {
   "cell_type": "code",
   "execution_count": 5,
   "id": "d932e3da7b56266b",
   "metadata": {
    "ExecuteTime": {
     "end_time": "2024-03-21T14:53:13.078095Z",
     "start_time": "2024-03-21T14:53:13.073940Z"
    }
   },
   "outputs": [
    {
     "data": {
      "text/html": [
       "<div class=\"shiny-html-output\" id=\"df_entries\"></div>"
      ],
      "text/plain": [
       "<IPython.core.display.HTML object>"
      ]
     },
     "metadata": {},
     "output_type": "display_data"
    }
   ],
   "source": [
    "#| title: \"Entries\"\n",
    "@render.table\n",
    "def df_entries():\n",
    "    return df_e.style.format({'url': make_clickable})"
   ]
  },
  {
   "cell_type": "raw",
   "id": "e033088eb181a06a",
   "metadata": {
    "collapsed": false
   },
   "source": [
    "## Row {height=50%}"
   ]
  },
  {
   "cell_type": "code",
   "execution_count": 6,
   "id": "5ae38b07433ef09d",
   "metadata": {
    "ExecuteTime": {
     "end_time": "2024-03-21T14:58:25.106051Z",
     "start_time": "2024-03-21T14:58:25.083736Z"
    }
   },
   "outputs": [
    {
     "data": {
      "text/html": [
       "<div class=\"shiny-html-output\" id=\"df_uploads\"></div>"
      ],
      "text/plain": [
       "<IPython.core.display.HTML object>"
      ]
     },
     "metadata": {},
     "output_type": "display_data"
    }
   ],
   "source": [
    "#| title: \"Uploads\"\n",
    "@render.table\n",
    "def df_uploads():\n",
    "    return df_u.style.format({'url': make_clickable})"
   ]
  },
  {
   "cell_type": "raw",
   "id": "d8cbbf5b-882f-4e6e-aef0-189f1c0d9530",
   "metadata": {},
   "source": [
    "# Solute generation"
   ]
  },
  {
   "cell_type": "code",
   "execution_count": 7,
   "id": "b45c134d-6497-43f9-bf0b-2ef9a0c86db2",
   "metadata": {
    "ExecuteTime": {
     "end_time": "2024-03-21T14:48:18.783892Z",
     "start_time": "2024-03-21T14:48:18.778749Z"
    }
   },
   "outputs": [
    {
     "data": {
      "text/html": [
       "<style type=\"text/css\">\n",
       "</style>\n",
       "<table id=\"T_8f023\" class=\"display nowrap compact\"style=\"table-layout:auto;width:auto;margin:auto;caption-side:bottom\">\n",
       "  <thead>\n",
       "    <tr>\n",
       "      <th class=\"blank level0\" >&nbsp;</th>\n",
       "      <th id=\"T_8f023_level0_col0\" class=\"col_heading level0 col0\" >entry_id</th>\n",
       "      <th id=\"T_8f023_level0_col1\" class=\"col_heading level0 col1\" >upload_id</th>\n",
       "      <th id=\"T_8f023_level0_col2\" class=\"col_heading level0 col2\" >entry_name</th>\n",
       "      <th id=\"T_8f023_level0_col3\" class=\"col_heading level0 col3\" >entry_type</th>\n",
       "      <th id=\"T_8f023_level0_col4\" class=\"col_heading level0 col4\" >mdp_files</th>\n",
       "      <th id=\"T_8f023_level0_col5\" class=\"col_heading level0 col5\" >state_point.solute_name</th>\n",
       "      <th id=\"T_8f023_level0_col6\" class=\"col_heading level0 col6\" >entry_create_time</th>\n",
       "      <th id=\"T_8f023_level0_col7\" class=\"col_heading level0 col7\" >url</th>\n",
       "    </tr>\n",
       "  </thead>\n",
       "  <tbody>\n",
       "    <tr>\n",
       "      <th id=\"T_8f023_level0_row0\" class=\"row_heading level0 row0\" >1</th>\n",
       "      <td id=\"T_8f023_row0_col0\" class=\"data row0 col0\" >wInlNdcJYGQjDgPVzDKFl-b2WMES</td>\n",
       "      <td id=\"T_8f023_row0_col1\" class=\"data row0 col1\" >oWleQmrGQ96m1uu8rnfurg</td>\n",
       "      <td id=\"T_8f023_row0_col2\" class=\"data row0 col2\" >solute_generation.archive.yaml</td>\n",
       "      <td id=\"T_8f023_row0_col3\" class=\"data row0 col3\" >Workflow</td>\n",
       "      <td id=\"T_8f023_row0_col4\" class=\"data row0 col4\" >2d7a9e52d14d23e0dfb97192d75a3463</td>\n",
       "      <td id=\"T_8f023_row0_col5\" class=\"data row0 col5\" >P6</td>\n",
       "      <td id=\"T_8f023_row0_col6\" class=\"data row0 col6\" >2024-03-21</td>\n",
       "      <td id=\"T_8f023_row0_col7\" class=\"data row0 col7\" ><a target=\"_blank\" href=\"https://nomad-lab.eu/prod/v1/test/gui/user/uploads/upload/id/oWleQmrGQ96m1uu8rnfurg/entry/id/wInlNdcJYGQjDgPVzDKFl-b2WMES\">link</a></td>\n",
       "    </tr>\n",
       "  </tbody>\n",
       "</table>\n",
       "\n",
       "<link href=\"https://www.unpkg.com/dt_for_itables@2.0.1/dt_bundle.css\" rel=\"stylesheet\">\n",
       "<script type=\"module\">\n",
       "    import {DataTable, jQuery as $} from 'https://www.unpkg.com/dt_for_itables@2.0.1/dt_bundle.js';\n",
       "\n",
       "    document.querySelectorAll(\"#T_8f023:not(.dataTable)\").forEach(table => {\n",
       "        // Define the table data\n",
       "        \n",
       "\n",
       "        // Define the dt_args\n",
       "        let dt_args = {\"layout\": {\"topStart\": \"pageLength\", \"topEnd\": \"search\", \"bottomStart\": \"info\", \"bottomEnd\": \"paging\"}, \"autoWidth\": false, \"buttons\": [], \"dom\": \"fiBrtlp\", \"info\": true, \"keys\": true, \"language\": {\"info\": \"Showing _TOTAL_ entries\"}, \"lengthChange\": false, \"order\": [], \"ordering\": true, \"paging\": false, \"responsive\": true, \"searching\": true};\n",
       "        \n",
       "\n",
       "        \n",
       "        new DataTable(table, dt_args);\n",
       "    });\n",
       "</script>\n"
      ],
      "text/plain": [
       "<IPython.core.display.HTML object>"
      ]
     },
     "metadata": {},
     "output_type": "display_data"
    }
   ],
   "source": [
    "#| title: \"Uploads\"\n",
    "show(\n",
    "    df_u[(df_u[\"workflow_name\"] == \"SoluteGenFlow\") & (df_u[\"entry_type\"] == \"Workflow\")]\n",
    "    .drop([\"workflow_name\", \"state_point.type\", \"state_point.solvent_name\", \n",
    "           # \"state_point.lambda_state\"\n",
    "          ], axis=1)\n",
    "    .sort_values(\"state_point.solute_name\")\n",
    "    .style.format({'url': make_clickable})\n",
    ")"
   ]
  },
  {
   "cell_type": "raw",
   "id": "000a9ee4-7c93-48e7-8456-da2b253c1b80",
   "metadata": {},
   "source": [
    "# Solvent generation"
   ]
  },
  {
   "cell_type": "code",
   "execution_count": 8,
   "id": "d7693b8c-9bd0-4bd1-9fc5-2892f3344be7",
   "metadata": {
    "ExecuteTime": {
     "end_time": "2024-03-21T14:48:19.335711Z",
     "start_time": "2024-03-21T14:48:19.333424Z"
    }
   },
   "outputs": [
    {
     "data": {
      "text/html": [
       "<style type=\"text/css\">\n",
       "</style>\n",
       "<table id=\"T_b2500\" class=\"display nowrap compact\"style=\"table-layout:auto;width:auto;margin:auto;caption-side:bottom\">\n",
       "  <thead>\n",
       "    <tr>\n",
       "      <th class=\"blank level0\" >&nbsp;</th>\n",
       "      <th id=\"T_b2500_level0_col0\" class=\"col_heading level0 col0\" >entry_id</th>\n",
       "      <th id=\"T_b2500_level0_col1\" class=\"col_heading level0 col1\" >upload_id</th>\n",
       "      <th id=\"T_b2500_level0_col2\" class=\"col_heading level0 col2\" >entry_name</th>\n",
       "      <th id=\"T_b2500_level0_col3\" class=\"col_heading level0 col3\" >entry_type</th>\n",
       "      <th id=\"T_b2500_level0_col4\" class=\"col_heading level0 col4\" >mdp_files</th>\n",
       "      <th id=\"T_b2500_level0_col5\" class=\"col_heading level0 col5\" >state_point.solvent_name</th>\n",
       "      <th id=\"T_b2500_level0_col6\" class=\"col_heading level0 col6\" >entry_create_time</th>\n",
       "      <th id=\"T_b2500_level0_col7\" class=\"col_heading level0 col7\" >url</th>\n",
       "    </tr>\n",
       "  </thead>\n",
       "  <tbody>\n",
       "    <tr>\n",
       "      <th id=\"T_b2500_level0_row0\" class=\"row_heading level0 row0\" >4</th>\n",
       "      <td id=\"T_b2500_row0_col0\" class=\"data row0 col0\" >rHIoTH--Q6yh-erHfc7mbSWDczzr</td>\n",
       "      <td id=\"T_b2500_row0_col1\" class=\"data row0 col1\" >QKFgx6_bQyGncwz6Pbdiww</td>\n",
       "      <td id=\"T_b2500_row0_col2\" class=\"data row0 col2\" >solvent_generation.archive.yaml</td>\n",
       "      <td id=\"T_b2500_row0_col3\" class=\"data row0 col3\" >Workflow</td>\n",
       "      <td id=\"T_b2500_row0_col4\" class=\"data row0 col4\" >ba2c4618058c83ba0ab2d9d7ba76bd1f</td>\n",
       "      <td id=\"T_b2500_row0_col5\" class=\"data row0 col5\" >HD</td>\n",
       "      <td id=\"T_b2500_row0_col6\" class=\"data row0 col6\" >2024-03-21</td>\n",
       "      <td id=\"T_b2500_row0_col7\" class=\"data row0 col7\" ><a target=\"_blank\" href=\"https://nomad-lab.eu/prod/v1/test/gui/user/uploads/upload/id/QKFgx6_bQyGncwz6Pbdiww/entry/id/rHIoTH--Q6yh-erHfc7mbSWDczzr\">link</a></td>\n",
       "    </tr>\n",
       "  </tbody>\n",
       "</table>\n",
       "\n",
       "<link href=\"https://www.unpkg.com/dt_for_itables@2.0.1/dt_bundle.css\" rel=\"stylesheet\">\n",
       "<script type=\"module\">\n",
       "    import {DataTable, jQuery as $} from 'https://www.unpkg.com/dt_for_itables@2.0.1/dt_bundle.js';\n",
       "\n",
       "    document.querySelectorAll(\"#T_b2500:not(.dataTable)\").forEach(table => {\n",
       "        // Define the table data\n",
       "        \n",
       "\n",
       "        // Define the dt_args\n",
       "        let dt_args = {\"layout\": {\"topStart\": \"pageLength\", \"topEnd\": \"search\", \"bottomStart\": \"info\", \"bottomEnd\": \"paging\"}, \"autoWidth\": false, \"buttons\": [], \"dom\": \"fiBrtlp\", \"info\": true, \"keys\": true, \"language\": {\"info\": \"Showing _TOTAL_ entries\"}, \"lengthChange\": false, \"order\": [], \"ordering\": true, \"paging\": false, \"responsive\": true, \"searching\": true};\n",
       "        \n",
       "\n",
       "        \n",
       "        new DataTable(table, dt_args);\n",
       "    });\n",
       "</script>\n"
      ],
      "text/plain": [
       "<IPython.core.display.HTML object>"
      ]
     },
     "metadata": {},
     "output_type": "display_data"
    }
   ],
   "source": [
    "#| title: \"Uploads\"\n",
    "show(\n",
    "    df_u[(df_u[\"workflow_name\"] == \"SolventGenFlow\") & (df_u[\"entry_type\"] == \"Workflow\")]\n",
    "    .drop([\"workflow_name\", \"state_point.type\", \"state_point.solute_name\", \n",
    "           # \"state_point.lambda_state\"\n",
    "          ], axis=1)\n",
    "    .sort_values(\"state_point.solvent_name\")\n",
    "    .style.format({'url': make_clickable})\n",
    ")"
   ]
  },
  {
   "cell_type": "raw",
   "id": "94d8644f-1a11-4367-9841-a2aac723a1d8",
   "metadata": {},
   "source": [
    "# Solute solvation"
   ]
  },
  {
   "cell_type": "code",
   "execution_count": 9,
   "id": "73c25a6b-28f1-45b2-87f7-060257e2aeee",
   "metadata": {},
   "outputs": [
    {
     "data": {
      "text/html": [
       "<style type=\"text/css\">\n",
       "</style>\n",
       "<table id=\"T_49f07\" class=\"display nowrap compact\"style=\"table-layout:auto;width:auto;margin:auto;caption-side:bottom\">\n",
       "  <thead>\n",
       "    <tr>\n",
       "      <th class=\"blank level0\" >&nbsp;</th>\n",
       "      <th id=\"T_49f07_level0_col0\" class=\"col_heading level0 col0\" >entry_id</th>\n",
       "      <th id=\"T_49f07_level0_col1\" class=\"col_heading level0 col1\" >upload_id</th>\n",
       "      <th id=\"T_49f07_level0_col2\" class=\"col_heading level0 col2\" >mdp_files</th>\n",
       "      <th id=\"T_49f07_level0_col3\" class=\"col_heading level0 col3\" >state_point.solute_name</th>\n",
       "      <th id=\"T_49f07_level0_col4\" class=\"col_heading level0 col4\" >state_point.solvent_name</th>\n",
       "      <th id=\"T_49f07_level0_col5\" class=\"col_heading level0 col5\" >entry_create_time</th>\n",
       "      <th id=\"T_49f07_level0_col6\" class=\"col_heading level0 col6\" >url</th>\n",
       "    </tr>\n",
       "  </thead>\n",
       "  <tbody>\n",
       "    <tr>\n",
       "      <th id=\"T_49f07_level0_row0\" class=\"row_heading level0 row0\" >7</th>\n",
       "      <td id=\"T_49f07_row0_col0\" class=\"data row0 col0\" >PIPds3gv6JmVgmUVttXRw6NZuoSY</td>\n",
       "      <td id=\"T_49f07_row0_col1\" class=\"data row0 col1\" >SIlgD-99Rm-kwsNiEBzB6w</td>\n",
       "      <td id=\"T_49f07_row0_col2\" class=\"data row0 col2\" >20b07a164f9519df9622051af672c209</td>\n",
       "      <td id=\"T_49f07_row0_col3\" class=\"data row0 col3\" >P6</td>\n",
       "      <td id=\"T_49f07_row0_col4\" class=\"data row0 col4\" >HD</td>\n",
       "      <td id=\"T_49f07_row0_col5\" class=\"data row0 col5\" >2024-03-21</td>\n",
       "      <td id=\"T_49f07_row0_col6\" class=\"data row0 col6\" ><a target=\"_blank\" href=\"https://nomad-lab.eu/prod/v1/test/gui/user/uploads/upload/id/SIlgD-99Rm-kwsNiEBzB6w/entry/id/PIPds3gv6JmVgmUVttXRw6NZuoSY\">link</a></td>\n",
       "    </tr>\n",
       "  </tbody>\n",
       "</table>\n",
       "\n",
       "<link href=\"https://www.unpkg.com/dt_for_itables@2.0.1/dt_bundle.css\" rel=\"stylesheet\">\n",
       "<script type=\"module\">\n",
       "    import {DataTable, jQuery as $} from 'https://www.unpkg.com/dt_for_itables@2.0.1/dt_bundle.js';\n",
       "\n",
       "    document.querySelectorAll(\"#T_49f07:not(.dataTable)\").forEach(table => {\n",
       "        // Define the table data\n",
       "        \n",
       "\n",
       "        // Define the dt_args\n",
       "        let dt_args = {\"layout\": {\"topStart\": \"pageLength\", \"topEnd\": \"search\", \"bottomStart\": \"info\", \"bottomEnd\": \"paging\"}, \"autoWidth\": false, \"buttons\": [], \"dom\": \"fiBrtlp\", \"info\": true, \"keys\": true, \"language\": {\"info\": \"Showing _TOTAL_ entries\"}, \"lengthChange\": false, \"order\": [], \"ordering\": true, \"paging\": false, \"responsive\": true, \"searching\": true};\n",
       "        \n",
       "\n",
       "        \n",
       "        new DataTable(table, dt_args);\n",
       "    });\n",
       "</script>\n"
      ],
      "text/plain": [
       "<IPython.core.display.HTML object>"
      ]
     },
     "metadata": {},
     "output_type": "display_data"
    }
   ],
   "source": [
    "#| title: \"Uploads\"\n",
    "show(\n",
    "    df_u[(df_u[\"workflow_name\"] == \"SoluteSolvationFlow\") & (df_u[\"entry_type\"] == \"Workflow\") & (df_u[\"entry_name\"] == \"full_workflow.solute_solvation.archive.yaml\")]\n",
    "    .drop([\"entry_name\", \"entry_type\", \"workflow_name\", \"state_point.type\", \n",
    "           # \"state_point.lambda_state\"\n",
    "          ], axis=1)\n",
    "    .sort_values(\"state_point.solvent_name\")\n",
    "    .style.format({'url': make_clickable})\n",
    ")"
   ]
  },
  {
   "cell_type": "raw",
   "id": "b741e1c2-0a1a-4fb6-96c8-317296489bf8",
   "metadata": {},
   "source": [
    "# Alchemical transformations"
   ]
  },
  {
   "cell_type": "code",
   "execution_count": 10,
   "id": "8cfa39a4-53d5-4c51-a388-6f615fbac6cb",
   "metadata": {},
   "outputs": [
    {
     "data": {
      "text/html": [
       "<style type=\"text/css\">\n",
       "</style>\n",
       "<table id=\"T_e207d\" class=\"display nowrap compact\"style=\"table-layout:auto;width:auto;margin:auto;caption-side:bottom\">\n",
       "  <thead>\n",
       "    <tr>\n",
       "      <th class=\"blank level0\" >&nbsp;</th>\n",
       "      <th id=\"T_e207d_level0_col0\" class=\"col_heading level0 col0\" >entry_id</th>\n",
       "      <th id=\"T_e207d_level0_col1\" class=\"col_heading level0 col1\" >upload_id</th>\n",
       "      <th id=\"T_e207d_level0_col2\" class=\"col_heading level0 col2\" >mdp_files</th>\n",
       "      <th id=\"T_e207d_level0_col3\" class=\"col_heading level0 col3\" >state_point.solute_name</th>\n",
       "      <th id=\"T_e207d_level0_col4\" class=\"col_heading level0 col4\" >state_point.solvent_name</th>\n",
       "      <th id=\"T_e207d_level0_col5\" class=\"col_heading level0 col5\" >entry_create_time</th>\n",
       "      <th id=\"T_e207d_level0_col6\" class=\"col_heading level0 col6\" >url</th>\n",
       "    </tr>\n",
       "  </thead>\n",
       "  <tbody>\n",
       "  </tbody>\n",
       "</table>\n",
       "\n",
       "<link href=\"https://www.unpkg.com/dt_for_itables@2.0.1/dt_bundle.css\" rel=\"stylesheet\">\n",
       "<script type=\"module\">\n",
       "    import {DataTable, jQuery as $} from 'https://www.unpkg.com/dt_for_itables@2.0.1/dt_bundle.js';\n",
       "\n",
       "    document.querySelectorAll(\"#T_e207d:not(.dataTable)\").forEach(table => {\n",
       "        // Define the table data\n",
       "        \n",
       "\n",
       "        // Define the dt_args\n",
       "        let dt_args = {\"layout\": {\"topStart\": \"pageLength\", \"topEnd\": \"search\", \"bottomStart\": \"info\", \"bottomEnd\": \"paging\"}, \"autoWidth\": false, \"buttons\": [], \"dom\": \"fiBrtlp\", \"info\": true, \"keys\": true, \"language\": {\"info\": \"Showing _TOTAL_ entries\"}, \"lengthChange\": false, \"order\": [], \"ordering\": true, \"paging\": false, \"responsive\": true, \"searching\": true};\n",
       "        \n",
       "\n",
       "        \n",
       "        new DataTable(table, dt_args);\n",
       "    });\n",
       "</script>\n"
      ],
      "text/plain": [
       "<IPython.core.display.HTML object>"
      ]
     },
     "metadata": {},
     "output_type": "display_data"
    }
   ],
   "source": [
    "#| title: \"Uploads\"\n",
    "show(\n",
    "    df_u[(df_u[\"workflow_name\"] == \"AlchemicalTransformationFlow\") & (df_u[\"entry_type\"] == \"Workflow\") & (df_u[\"entry_name\"] == \"full_workflow.alchemical_transformation.archive.yaml\")]\n",
    "    .drop([\"entry_name\", \"entry_type\", \"workflow_name\", \"state_point.type\", \n",
    "           # \"state_point.lambda_state\"\n",
    "          ], axis=1)\n",
    "    .sort_values(\"state_point.solvent_name\")\n",
    "    .style.format({'url': make_clickable})\n",
    ")"
   ]
  },
  {
   "cell_type": "code",
   "execution_count": 11,
   "id": "bc8d6b7e-2aed-4e06-ae68-bab9172f26f5",
   "metadata": {},
   "outputs": [],
   "source": []
  }
 ],
 "metadata": {
  "kernelspec": {
   "display_name": "Python 3 (ipykernel)",
   "language": "python",
   "name": "python3"
  },
  "language_info": {
   "codemirror_mode": {
    "name": "ipython",
    "version": 3
   },
   "file_extension": ".py",
   "mimetype": "text/x-python",
   "name": "python",
   "nbconvert_exporter": "python",
   "pygments_lexer": "ipython3",
   "version": "3.9.18"
  }
 },
 "nbformat": 4,
 "nbformat_minor": 5
}
