{
 "cells": [
  {
   "cell_type": "raw",
   "id": "12c62cd892c563e8",
   "metadata": {
    "collapsed": false,
    "jupyter": {
     "outputs_hidden": false
    }
   },
   "source": [
    "---\n",
    "title: \"Martignac\"\n",
    "author: \"Dashboard\"\n",
    "format: dashboard\n",
    "server: shiny\n",
    "theme: cosmo\n",
    "---"
   ]
  },
  {
   "cell_type": "code",
   "execution_count": 1,
   "id": "adb267d8d91b5452",
   "metadata": {
    "ExecuteTime": {
     "end_time": "2024-03-18T12:34:10.824409Z",
     "start_time": "2024-03-18T12:34:10.813758Z"
    },
    "jupyter": {
     "outputs_hidden": false
    }
   },
   "outputs": [
    {
     "name": "stderr",
     "output_type": "stream",
     "text": [
      "WARNING:MDAnalysis.coordinates.AMBER:netCDF4 is not available. Writing AMBER ncdf files will be slow.\n"
     ]
    }
   ],
   "source": [
    "from pprint import pprint\n",
    "from dataclasses import asdict\n",
    "import datetime as dt\n",
    "import pandas as pd\n",
    "import networkx as nx\n",
    "import matplotlib.pyplot as plt\n",
    "from itables import show\n",
    "\n",
    "from martignac.nomad.uploads import get_upload_by_id, get_all_my_uploads\n",
    "from martignac.nomad.datasets import get_dataset_by_id\n",
    "from martignac.nomad.users import get_user_by_id\n",
    "from martignac.nomad.entries import (\n",
    "    query_entries, \n",
    "    get_entry_by_id, \n",
    "    get_entries_of_upload, \n",
    "    find_entries_corresponding_to_job, \n",
    "    download_raw_data_of_job,\n",
    "    get_entries_of_my_uploads,\n",
    "    get_entries_in_database,\n",
    "    DEFAULT_DATABASE,\n",
    "    DEFAULT_USE_PROD\n",
    ")\n",
    "\n",
    "def make_clickable(val):\n",
    "    # target _blank to open new window\n",
    "    return '<a target=\"_blank\" href=\"{}\">link</a>'.format(val)"
   ]
  },
  {
   "cell_type": "code",
   "execution_count": 2,
   "id": "474fd9f1-f0d2-4e55-a0fa-27dd8258cfe1",
   "metadata": {},
   "outputs": [
    {
     "name": "stderr",
     "output_type": "stream",
     "text": [
      "INFO:martignac.nomad.utils:Sending post request @ https://nomad-lab.eu/prod/v1/test/api/v1/entries/query\n"
     ]
    },
    {
     "name": "stderr",
     "output_type": "stream",
     "text": [
      "INFO:martignac.nomad.entries:retrieving entry IWfLp8VCyT7z9t3BtVy21Q5WZSRW on test server\n"
     ]
    },
    {
     "name": "stderr",
     "output_type": "stream",
     "text": [
      "INFO:martignac.nomad.utils:Sending get request @ https://nomad-lab.eu/prod/v1/test/api/v1/entries/IWfLp8VCyT7z9t3BtVy21Q5WZSRW\n"
     ]
    },
    {
     "name": "stderr",
     "output_type": "stream",
     "text": [
      "INFO:martignac.nomad.users:retrieving user 30d3a108-d2cc-45ec-9ddb-0c1dc6a2c99b on prod server\n"
     ]
    },
    {
     "name": "stderr",
     "output_type": "stream",
     "text": [
      "INFO:martignac.nomad.utils:Sending get request @ https://nomad-lab.eu/prod/v1/test/api/v1/users/30d3a108-d2cc-45ec-9ddb-0c1dc6a2c99b\n"
     ]
    },
    {
     "name": "stderr",
     "output_type": "stream",
     "text": [
      "INFO:martignac.nomad.uploads:retrieving all uploads on test server\n"
     ]
    },
    {
     "name": "stderr",
     "output_type": "stream",
     "text": [
      "INFO:martignac.nomad.utils:Sending get request @ https://nomad-lab.eu/prod/v1/test/api/v1/uploads\n"
     ]
    },
    {
     "name": "stderr",
     "output_type": "stream",
     "text": [
      "INFO:martignac.nomad.utils:Requesting authentication token @ https://nomad-lab.eu/prod/v1/test/api/v1\n"
     ]
    },
    {
     "name": "stderr",
     "output_type": "stream",
     "text": [
      "INFO:martignac.nomad.users:retrieving user 7c85bdf1-8b53-40a8-81a4-04f26ff56f29 on prod server\n"
     ]
    },
    {
     "name": "stderr",
     "output_type": "stream",
     "text": [
      "INFO:martignac.nomad.utils:Sending get request @ https://nomad-lab.eu/prod/v1/test/api/v1/users/7c85bdf1-8b53-40a8-81a4-04f26ff56f29\n"
     ]
    },
    {
     "name": "stderr",
     "output_type": "stream",
     "text": [
      "INFO:martignac.nomad.entries:retrieving entries for upload Hbwh9S0-RLehQIh90nfhAQ on test server\n"
     ]
    },
    {
     "name": "stderr",
     "output_type": "stream",
     "text": [
      "INFO:martignac.nomad.utils:Sending get request @ https://nomad-lab.eu/prod/v1/test/api/v1/uploads/Hbwh9S0-RLehQIh90nfhAQ/entries\n"
     ]
    },
    {
     "name": "stderr",
     "output_type": "stream",
     "text": [
      "INFO:martignac.nomad.entries:retrieving entries for upload VRlAv-gdQBKxU9CrSU8T2w on test server\n"
     ]
    },
    {
     "name": "stderr",
     "output_type": "stream",
     "text": [
      "INFO:martignac.nomad.utils:Sending get request @ https://nomad-lab.eu/prod/v1/test/api/v1/uploads/VRlAv-gdQBKxU9CrSU8T2w/entries\n"
     ]
    },
    {
     "name": "stderr",
     "output_type": "stream",
     "text": [
      "INFO:martignac.nomad.entries:retrieving entries for upload J-08brjXSZC5JBTOAfQLJA on test server\n"
     ]
    },
    {
     "name": "stderr",
     "output_type": "stream",
     "text": [
      "INFO:martignac.nomad.utils:Sending get request @ https://nomad-lab.eu/prod/v1/test/api/v1/uploads/J-08brjXSZC5JBTOAfQLJA/entries\n"
     ]
    },
    {
     "name": "stderr",
     "output_type": "stream",
     "text": [
      "INFO:martignac.nomad.entries:retrieving entries for upload DjbzajfaToyB18CQR44ywQ on test server\n"
     ]
    },
    {
     "name": "stderr",
     "output_type": "stream",
     "text": [
      "INFO:martignac.nomad.utils:Sending get request @ https://nomad-lab.eu/prod/v1/test/api/v1/uploads/DjbzajfaToyB18CQR44ywQ/entries\n"
     ]
    }
   ],
   "source": [
    "# entries\n",
    "entries = get_entries_in_database()\n",
    "df_e = pd.json_normalize({**asdict(e), \"url\": e.nomad_gui_url} for e in entries)\n",
    "df_e = df_e[[\"entry_id\", \"upload_id\", \"entry_type\", \"entry_create_time\", \"url\"]]\n",
    "\n",
    "\n",
    "# uploads\n",
    "upload_entries = get_entries_of_my_uploads()\n",
    "df_u = pd.json_normalize(\n",
    "    {**asdict(e), \"workflow_name\": e.workflow_name, \"state_point\": e.state_point, \"mdp_files\": e.mdp_files, \"url\": e.nomad_gui_url} \n",
    "    for e in upload_entries if e.comment and e._comment_dict.get(\"state_point\") and e._comment_dict.get(\"workflow_name\")\n",
    ")\n",
    "sp_columns = [c for c in df_u.columns if \"state_point\" in c]\n",
    "df_u = df_u[\n",
    "    [\"entry_id\", \"upload_id\", \"entry_name\", \"entry_type\", \"workflow_name\", \"mdp_files\", *sp_columns, \"entry_create_time\", \"url\"]\n",
    "]\n",
    "df_u[\"entry_create_time\"] = pd.to_datetime(df_u[\"entry_create_time\"]).dt.date"
   ]
  },
  {
   "cell_type": "raw",
   "id": "3b01f82c752a0ebd",
   "metadata": {
    "collapsed": false,
    "jupyter": {
     "outputs_hidden": false
    }
   },
   "source": [
    "# Main\n",
    "\n",
    "## Row {height=30%}"
   ]
  },
  {
   "cell_type": "code",
   "execution_count": 3,
   "id": "780b52cf-dea2-4afd-926e-cdee9d2cd097",
   "metadata": {},
   "outputs": [
    {
     "data": {
      "text/plain": [
       "{'value': 17}"
      ]
     },
     "execution_count": 3,
     "metadata": {},
     "output_type": "execute_result"
    }
   ],
   "source": [
    "#| content: valuebox\n",
    "#| title: \"Number of entries\"\n",
    "#| icon: plus-circle\n",
    "#| color: \"success\"\n",
    "dict(\n",
    "  value = len(df_e) + len(df_u)\n",
    ")"
   ]
  },
  {
   "cell_type": "code",
   "execution_count": 4,
   "id": "9f73132b-5c2e-49e4-abf1-6f376a11a74c",
   "metadata": {},
   "outputs": [
    {
     "data": {
      "text/plain": [
       "{'value': 'HJdEI1q4SV-c5Di43BTT_Q', 'color': 'secondary'}"
      ]
     },
     "execution_count": 4,
     "metadata": {},
     "output_type": "execute_result"
    }
   ],
   "source": [
    "#| content: valuebox\n",
    "#| title: \"Dataset ID\"\n",
    "dict(\n",
    "    value = DEFAULT_DATABASE,\n",
    "    color = \"secondary\"\n",
    ")"
   ]
  },
  {
   "cell_type": "raw",
   "id": "9aa12055-7fc9-486c-b31d-6ce140976abe",
   "metadata": {},
   "source": [
    "## Row {height=30%}"
   ]
  },
  {
   "cell_type": "code",
   "execution_count": 5,
   "id": "d932e3da7b56266b",
   "metadata": {
    "ExecuteTime": {
     "end_time": "2024-03-18T12:37:04.375702Z",
     "start_time": "2024-03-18T12:37:04.368418Z"
    },
    "jupyter": {
     "outputs_hidden": false
    }
   },
   "outputs": [
    {
     "data": {
      "text/html": [
       "<style type=\"text/css\">\n",
       "</style>\n",
       "<table id=\"T_f46f0\" class=\"display nowrap compact\"style=\"table-layout:auto;width:auto;margin:auto;caption-side:bottom\">\n",
       "  <thead>\n",
       "    <tr>\n",
       "      <th id=\"T_f46f0_level0_col0\" class=\"col_heading level0 col0\" >entry_id</th>\n",
       "      <th id=\"T_f46f0_level0_col1\" class=\"col_heading level0 col1\" >upload_id</th>\n",
       "      <th id=\"T_f46f0_level0_col2\" class=\"col_heading level0 col2\" >entry_type</th>\n",
       "      <th id=\"T_f46f0_level0_col3\" class=\"col_heading level0 col3\" >entry_create_time</th>\n",
       "      <th id=\"T_f46f0_level0_col4\" class=\"col_heading level0 col4\" >url</th>\n",
       "    </tr>\n",
       "  </thead>\n",
       "  <tbody>\n",
       "    <tr>\n",
       "      <td id=\"T_f46f0_row0_col0\" class=\"data row0 col0\" >IWfLp8VCyT7z9t3BtVy21Q5WZSRW</td>\n",
       "      <td id=\"T_f46f0_row0_col1\" class=\"data row0 col1\" >Hbwh9S0-RLehQIh90nfhAQ</td>\n",
       "      <td id=\"T_f46f0_row0_col2\" class=\"data row0 col2\" >GROMACS MolecularDynamics</td>\n",
       "      <td id=\"T_f46f0_row0_col3\" class=\"data row0 col3\" >2024-02-14 09:43:59.527000+00:00</td>\n",
       "      <td id=\"T_f46f0_row0_col4\" class=\"data row0 col4\" ><a target=\"_blank\" href=\"https://nomad-lab.eu/prod/v1/test/gui/user/uploads/upload/id/Hbwh9S0-RLehQIh90nfhAQ/entry/id/IWfLp8VCyT7z9t3BtVy21Q5WZSRW\">link</a></td>\n",
       "    </tr>\n",
       "  </tbody>\n",
       "</table>\n",
       "\n",
       "<link href=\"https://www.unpkg.com/dt_for_itables@2.0.1/dt_bundle.css\" rel=\"stylesheet\">\n",
       "<script type=\"module\">\n",
       "    import {DataTable, jQuery as $} from 'https://www.unpkg.com/dt_for_itables@2.0.1/dt_bundle.js';\n",
       "\n",
       "    document.querySelectorAll(\"#T_f46f0:not(.dataTable)\").forEach(table => {\n",
       "        // Define the table data\n",
       "        \n",
       "\n",
       "        // Define the dt_args\n",
       "        let dt_args = {\"layout\": {\"topStart\": \"pageLength\", \"topEnd\": \"search\", \"bottomStart\": \"info\", \"bottomEnd\": \"paging\"}, \"autoWidth\": false, \"buttons\": [], \"dom\": \"fiBrtlp\", \"info\": true, \"keys\": true, \"language\": {\"info\": \"Showing _TOTAL_ entries\"}, \"lengthChange\": false, \"order\": [], \"ordering\": true, \"paging\": false, \"responsive\": true, \"searching\": true};\n",
       "        \n",
       "\n",
       "        \n",
       "        new DataTable(table, dt_args);\n",
       "    });\n",
       "</script>\n"
      ],
      "text/plain": [
       "<IPython.core.display.HTML object>"
      ]
     },
     "metadata": {},
     "output_type": "display_data"
    }
   ],
   "source": [
    "#| title: \"Entries\"\n",
    "show(df_e.style.format({'url': make_clickable}))"
   ]
  },
  {
   "cell_type": "raw",
   "id": "e033088eb181a06a",
   "metadata": {
    "collapsed": false,
    "jupyter": {
     "outputs_hidden": false
    }
   },
   "source": [
    "## Row {height=50%}"
   ]
  },
  {
   "cell_type": "code",
   "execution_count": 6,
   "id": "5ae38b07433ef09d",
   "metadata": {
    "ExecuteTime": {
     "end_time": "2024-03-18T12:34:49.991161Z",
     "start_time": "2024-03-18T12:34:48.839466Z"
    },
    "jupyter": {
     "outputs_hidden": false
    }
   },
   "outputs": [
    {
     "data": {
      "text/html": [
       "<style type=\"text/css\">\n",
       "</style>\n",
       "<table id=\"T_cb810\" class=\"display nowrap compact\"style=\"table-layout:auto;width:auto;margin:auto;caption-side:bottom\">\n",
       "  <thead>\n",
       "    <tr>\n",
       "      <th id=\"T_cb810_level0_col0\" class=\"col_heading level0 col0\" >entry_id</th>\n",
       "      <th id=\"T_cb810_level0_col1\" class=\"col_heading level0 col1\" >upload_id</th>\n",
       "      <th id=\"T_cb810_level0_col2\" class=\"col_heading level0 col2\" >entry_name</th>\n",
       "      <th id=\"T_cb810_level0_col3\" class=\"col_heading level0 col3\" >entry_type</th>\n",
       "      <th id=\"T_cb810_level0_col4\" class=\"col_heading level0 col4\" >workflow_name</th>\n",
       "      <th id=\"T_cb810_level0_col5\" class=\"col_heading level0 col5\" >mdp_files</th>\n",
       "      <th id=\"T_cb810_level0_col6\" class=\"col_heading level0 col6\" >state_point.type</th>\n",
       "      <th id=\"T_cb810_level0_col7\" class=\"col_heading level0 col7\" >state_point.solute_name</th>\n",
       "      <th id=\"T_cb810_level0_col8\" class=\"col_heading level0 col8\" >state_point.solvent_name</th>\n",
       "      <th id=\"T_cb810_level0_col9\" class=\"col_heading level0 col9\" >entry_create_time</th>\n",
       "      <th id=\"T_cb810_level0_col10\" class=\"col_heading level0 col10\" >url</th>\n",
       "    </tr>\n",
       "  </thead>\n",
       "  <tbody>\n",
       "    <tr>\n",
       "      <td id=\"T_cb810_row0_col0\" class=\"data row0 col0\" >prsfcogv6852DaQcPdGzh0OqyCER</td>\n",
       "      <td id=\"T_cb810_row0_col1\" class=\"data row0 col1\" >VRlAv-gdQBKxU9CrSU8T2w</td>\n",
       "      <td id=\"T_cb810_row0_col2\" class=\"data row0 col2\" >solute_generation.archive.yaml</td>\n",
       "      <td id=\"T_cb810_row0_col3\" class=\"data row0 col3\" >Workflow</td>\n",
       "      <td id=\"T_cb810_row0_col4\" class=\"data row0 col4\" >SoluteGenFlow</td>\n",
       "      <td id=\"T_cb810_row0_col5\" class=\"data row0 col5\" >8f3517435fd911f25f11440d8eb22caa</td>\n",
       "      <td id=\"T_cb810_row0_col6\" class=\"data row0 col6\" >solute</td>\n",
       "      <td id=\"T_cb810_row0_col7\" class=\"data row0 col7\" >P6</td>\n",
       "      <td id=\"T_cb810_row0_col8\" class=\"data row0 col8\" >nan</td>\n",
       "      <td id=\"T_cb810_row0_col9\" class=\"data row0 col9\" >2024-03-19</td>\n",
       "      <td id=\"T_cb810_row0_col10\" class=\"data row0 col10\" ><a target=\"_blank\" href=\"https://nomad-lab.eu/prod/v1/test/gui/user/uploads/upload/id/VRlAv-gdQBKxU9CrSU8T2w/entry/id/prsfcogv6852DaQcPdGzh0OqyCER\">link</a></td>\n",
       "    </tr>\n",
       "    <tr>\n",
       "      <td id=\"T_cb810_row1_col0\" class=\"data row1 col0\" >LojhthjtotmEKo-WrOvbB_yQEmcj</td>\n",
       "      <td id=\"T_cb810_row1_col1\" class=\"data row1 col1\" >VRlAv-gdQBKxU9CrSU8T2w</td>\n",
       "      <td id=\"T_cb810_row1_col2\" class=\"data row1 col2\" >GROMACS GeometryOptimization simulation</td>\n",
       "      <td id=\"T_cb810_row1_col3\" class=\"data row1 col3\" >GROMACS GeometryOptimization</td>\n",
       "      <td id=\"T_cb810_row1_col4\" class=\"data row1 col4\" >SoluteGenFlow</td>\n",
       "      <td id=\"T_cb810_row1_col5\" class=\"data row1 col5\" >8f3517435fd911f25f11440d8eb22caa</td>\n",
       "      <td id=\"T_cb810_row1_col6\" class=\"data row1 col6\" >solute</td>\n",
       "      <td id=\"T_cb810_row1_col7\" class=\"data row1 col7\" >P6</td>\n",
       "      <td id=\"T_cb810_row1_col8\" class=\"data row1 col8\" >nan</td>\n",
       "      <td id=\"T_cb810_row1_col9\" class=\"data row1 col9\" >2024-03-19</td>\n",
       "      <td id=\"T_cb810_row1_col10\" class=\"data row1 col10\" ><a target=\"_blank\" href=\"https://nomad-lab.eu/prod/v1/test/gui/user/uploads/upload/id/VRlAv-gdQBKxU9CrSU8T2w/entry/id/LojhthjtotmEKo-WrOvbB_yQEmcj\">link</a></td>\n",
       "    </tr>\n",
       "    <tr>\n",
       "      <td id=\"T_cb810_row2_col0\" class=\"data row2 col0\" >7Tik7MPpFHYJ1l5DskIL7HtPbXZx</td>\n",
       "      <td id=\"T_cb810_row2_col1\" class=\"data row2 col1\" >J-08brjXSZC5JBTOAfQLJA</td>\n",
       "      <td id=\"T_cb810_row2_col2\" class=\"data row2 col2\" >GROMACS MolecularDynamics simulation</td>\n",
       "      <td id=\"T_cb810_row2_col3\" class=\"data row2 col3\" >GROMACS MolecularDynamics</td>\n",
       "      <td id=\"T_cb810_row2_col4\" class=\"data row2 col4\" >SolventGenFlow</td>\n",
       "      <td id=\"T_cb810_row2_col5\" class=\"data row2 col5\" >ba2c4618058c83ba0ab2d9d7ba76bd1f</td>\n",
       "      <td id=\"T_cb810_row2_col6\" class=\"data row2 col6\" >solvent</td>\n",
       "      <td id=\"T_cb810_row2_col7\" class=\"data row2 col7\" >nan</td>\n",
       "      <td id=\"T_cb810_row2_col8\" class=\"data row2 col8\" >HD</td>\n",
       "      <td id=\"T_cb810_row2_col9\" class=\"data row2 col9\" >2024-03-19</td>\n",
       "      <td id=\"T_cb810_row2_col10\" class=\"data row2 col10\" ><a target=\"_blank\" href=\"https://nomad-lab.eu/prod/v1/test/gui/user/uploads/upload/id/J-08brjXSZC5JBTOAfQLJA/entry/id/7Tik7MPpFHYJ1l5DskIL7HtPbXZx\">link</a></td>\n",
       "    </tr>\n",
       "    <tr>\n",
       "      <td id=\"T_cb810_row3_col0\" class=\"data row3 col0\" >Umudk_qAcSEBx932rJl5R9Uhar8D</td>\n",
       "      <td id=\"T_cb810_row3_col1\" class=\"data row3 col1\" >J-08brjXSZC5JBTOAfQLJA</td>\n",
       "      <td id=\"T_cb810_row3_col2\" class=\"data row3 col2\" >solvent_generation.archive.yaml</td>\n",
       "      <td id=\"T_cb810_row3_col3\" class=\"data row3 col3\" >Workflow</td>\n",
       "      <td id=\"T_cb810_row3_col4\" class=\"data row3 col4\" >SolventGenFlow</td>\n",
       "      <td id=\"T_cb810_row3_col5\" class=\"data row3 col5\" >ba2c4618058c83ba0ab2d9d7ba76bd1f</td>\n",
       "      <td id=\"T_cb810_row3_col6\" class=\"data row3 col6\" >solvent</td>\n",
       "      <td id=\"T_cb810_row3_col7\" class=\"data row3 col7\" >nan</td>\n",
       "      <td id=\"T_cb810_row3_col8\" class=\"data row3 col8\" >HD</td>\n",
       "      <td id=\"T_cb810_row3_col9\" class=\"data row3 col9\" >2024-03-19</td>\n",
       "      <td id=\"T_cb810_row3_col10\" class=\"data row3 col10\" ><a target=\"_blank\" href=\"https://nomad-lab.eu/prod/v1/test/gui/user/uploads/upload/id/J-08brjXSZC5JBTOAfQLJA/entry/id/Umudk_qAcSEBx932rJl5R9Uhar8D\">link</a></td>\n",
       "    </tr>\n",
       "    <tr>\n",
       "      <td id=\"T_cb810_row4_col0\" class=\"data row4 col0\" >0M435ZEJ8-mzHL9LEy8ONHQothr_</td>\n",
       "      <td id=\"T_cb810_row4_col1\" class=\"data row4 col1\" >J-08brjXSZC5JBTOAfQLJA</td>\n",
       "      <td id=\"T_cb810_row4_col2\" class=\"data row4 col2\" >GROMACS GeometryOptimization simulation</td>\n",
       "      <td id=\"T_cb810_row4_col3\" class=\"data row4 col3\" >GROMACS GeometryOptimization</td>\n",
       "      <td id=\"T_cb810_row4_col4\" class=\"data row4 col4\" >SolventGenFlow</td>\n",
       "      <td id=\"T_cb810_row4_col5\" class=\"data row4 col5\" >ba2c4618058c83ba0ab2d9d7ba76bd1f</td>\n",
       "      <td id=\"T_cb810_row4_col6\" class=\"data row4 col6\" >solvent</td>\n",
       "      <td id=\"T_cb810_row4_col7\" class=\"data row4 col7\" >nan</td>\n",
       "      <td id=\"T_cb810_row4_col8\" class=\"data row4 col8\" >HD</td>\n",
       "      <td id=\"T_cb810_row4_col9\" class=\"data row4 col9\" >2024-03-19</td>\n",
       "      <td id=\"T_cb810_row4_col10\" class=\"data row4 col10\" ><a target=\"_blank\" href=\"https://nomad-lab.eu/prod/v1/test/gui/user/uploads/upload/id/J-08brjXSZC5JBTOAfQLJA/entry/id/0M435ZEJ8-mzHL9LEy8ONHQothr_\">link</a></td>\n",
       "    </tr>\n",
       "    <tr>\n",
       "      <td id=\"T_cb810_row5_col0\" class=\"data row5 col0\" >M-e-GzQtS806eSVYmaBX_CwMdlxC</td>\n",
       "      <td id=\"T_cb810_row5_col1\" class=\"data row5 col1\" >J-08brjXSZC5JBTOAfQLJA</td>\n",
       "      <td id=\"T_cb810_row5_col2\" class=\"data row5 col2\" >GROMACS MolecularDynamics simulation</td>\n",
       "      <td id=\"T_cb810_row5_col3\" class=\"data row5 col3\" >GROMACS MolecularDynamics</td>\n",
       "      <td id=\"T_cb810_row5_col4\" class=\"data row5 col4\" >SolventGenFlow</td>\n",
       "      <td id=\"T_cb810_row5_col5\" class=\"data row5 col5\" >ba2c4618058c83ba0ab2d9d7ba76bd1f</td>\n",
       "      <td id=\"T_cb810_row5_col6\" class=\"data row5 col6\" >solvent</td>\n",
       "      <td id=\"T_cb810_row5_col7\" class=\"data row5 col7\" >nan</td>\n",
       "      <td id=\"T_cb810_row5_col8\" class=\"data row5 col8\" >HD</td>\n",
       "      <td id=\"T_cb810_row5_col9\" class=\"data row5 col9\" >2024-03-19</td>\n",
       "      <td id=\"T_cb810_row5_col10\" class=\"data row5 col10\" ><a target=\"_blank\" href=\"https://nomad-lab.eu/prod/v1/test/gui/user/uploads/upload/id/J-08brjXSZC5JBTOAfQLJA/entry/id/M-e-GzQtS806eSVYmaBX_CwMdlxC\">link</a></td>\n",
       "    </tr>\n",
       "    <tr>\n",
       "      <td id=\"T_cb810_row6_col0\" class=\"data row6 col0\" >ekOzn6S0BkV6CLtryv2BDfNM5uXG</td>\n",
       "      <td id=\"T_cb810_row6_col1\" class=\"data row6 col1\" >DjbzajfaToyB18CQR44ywQ</td>\n",
       "      <td id=\"T_cb810_row6_col2\" class=\"data row6 col2\" >full_workflow.solute_solvation.archive.yaml</td>\n",
       "      <td id=\"T_cb810_row6_col3\" class=\"data row6 col3\" >Workflow</td>\n",
       "      <td id=\"T_cb810_row6_col4\" class=\"data row6 col4\" >SoluteSolvationFlow</td>\n",
       "      <td id=\"T_cb810_row6_col5\" class=\"data row6 col5\" >8f3517435fd911f25f11440d8eb22caa</td>\n",
       "      <td id=\"T_cb810_row6_col6\" class=\"data row6 col6\" >solute_solvation</td>\n",
       "      <td id=\"T_cb810_row6_col7\" class=\"data row6 col7\" >P6</td>\n",
       "      <td id=\"T_cb810_row6_col8\" class=\"data row6 col8\" >HD</td>\n",
       "      <td id=\"T_cb810_row6_col9\" class=\"data row6 col9\" >2024-03-19</td>\n",
       "      <td id=\"T_cb810_row6_col10\" class=\"data row6 col10\" ><a target=\"_blank\" href=\"https://nomad-lab.eu/prod/v1/test/gui/user/uploads/upload/id/DjbzajfaToyB18CQR44ywQ/entry/id/ekOzn6S0BkV6CLtryv2BDfNM5uXG\">link</a></td>\n",
       "    </tr>\n",
       "    <tr>\n",
       "      <td id=\"T_cb810_row7_col0\" class=\"data row7 col0\" >Rm6Fu2W67OLX4i4cIy_wkGarEmb1</td>\n",
       "      <td id=\"T_cb810_row7_col1\" class=\"data row7 col1\" >DjbzajfaToyB18CQR44ywQ</td>\n",
       "      <td id=\"T_cb810_row7_col2\" class=\"data row7 col2\" >solute_generation.archive.yaml</td>\n",
       "      <td id=\"T_cb810_row7_col3\" class=\"data row7 col3\" >Workflow</td>\n",
       "      <td id=\"T_cb810_row7_col4\" class=\"data row7 col4\" >SoluteSolvationFlow</td>\n",
       "      <td id=\"T_cb810_row7_col5\" class=\"data row7 col5\" >8f3517435fd911f25f11440d8eb22caa</td>\n",
       "      <td id=\"T_cb810_row7_col6\" class=\"data row7 col6\" >solute_solvation</td>\n",
       "      <td id=\"T_cb810_row7_col7\" class=\"data row7 col7\" >P6</td>\n",
       "      <td id=\"T_cb810_row7_col8\" class=\"data row7 col8\" >HD</td>\n",
       "      <td id=\"T_cb810_row7_col9\" class=\"data row7 col9\" >2024-03-19</td>\n",
       "      <td id=\"T_cb810_row7_col10\" class=\"data row7 col10\" ><a target=\"_blank\" href=\"https://nomad-lab.eu/prod/v1/test/gui/user/uploads/upload/id/DjbzajfaToyB18CQR44ywQ/entry/id/Rm6Fu2W67OLX4i4cIy_wkGarEmb1\">link</a></td>\n",
       "    </tr>\n",
       "    <tr>\n",
       "      <td id=\"T_cb810_row8_col0\" class=\"data row8 col0\" >rLjgLzzh4Sm-cuUi8yoebZGjkNRt</td>\n",
       "      <td id=\"T_cb810_row8_col1\" class=\"data row8 col1\" >DjbzajfaToyB18CQR44ywQ</td>\n",
       "      <td id=\"T_cb810_row8_col2\" class=\"data row8 col2\" >GROMACS GeometryOptimization simulation</td>\n",
       "      <td id=\"T_cb810_row8_col3\" class=\"data row8 col3\" >GROMACS GeometryOptimization</td>\n",
       "      <td id=\"T_cb810_row8_col4\" class=\"data row8 col4\" >SoluteSolvationFlow</td>\n",
       "      <td id=\"T_cb810_row8_col5\" class=\"data row8 col5\" >8f3517435fd911f25f11440d8eb22caa</td>\n",
       "      <td id=\"T_cb810_row8_col6\" class=\"data row8 col6\" >solute_solvation</td>\n",
       "      <td id=\"T_cb810_row8_col7\" class=\"data row8 col7\" >P6</td>\n",
       "      <td id=\"T_cb810_row8_col8\" class=\"data row8 col8\" >HD</td>\n",
       "      <td id=\"T_cb810_row8_col9\" class=\"data row8 col9\" >2024-03-19</td>\n",
       "      <td id=\"T_cb810_row8_col10\" class=\"data row8 col10\" ><a target=\"_blank\" href=\"https://nomad-lab.eu/prod/v1/test/gui/user/uploads/upload/id/DjbzajfaToyB18CQR44ywQ/entry/id/rLjgLzzh4Sm-cuUi8yoebZGjkNRt\">link</a></td>\n",
       "    </tr>\n",
       "    <tr>\n",
       "      <td id=\"T_cb810_row9_col0\" class=\"data row9 col0\" >btV2NAWFGhHh5fZMaUlXqOZwvosP</td>\n",
       "      <td id=\"T_cb810_row9_col1\" class=\"data row9 col1\" >DjbzajfaToyB18CQR44ywQ</td>\n",
       "      <td id=\"T_cb810_row9_col2\" class=\"data row9 col2\" >solute_solvation.archive.yaml</td>\n",
       "      <td id=\"T_cb810_row9_col3\" class=\"data row9 col3\" >Workflow</td>\n",
       "      <td id=\"T_cb810_row9_col4\" class=\"data row9 col4\" >SoluteSolvationFlow</td>\n",
       "      <td id=\"T_cb810_row9_col5\" class=\"data row9 col5\" >8f3517435fd911f25f11440d8eb22caa</td>\n",
       "      <td id=\"T_cb810_row9_col6\" class=\"data row9 col6\" >solute_solvation</td>\n",
       "      <td id=\"T_cb810_row9_col7\" class=\"data row9 col7\" >P6</td>\n",
       "      <td id=\"T_cb810_row9_col8\" class=\"data row9 col8\" >HD</td>\n",
       "      <td id=\"T_cb810_row9_col9\" class=\"data row9 col9\" >2024-03-19</td>\n",
       "      <td id=\"T_cb810_row9_col10\" class=\"data row9 col10\" ><a target=\"_blank\" href=\"https://nomad-lab.eu/prod/v1/test/gui/user/uploads/upload/id/DjbzajfaToyB18CQR44ywQ/entry/id/btV2NAWFGhHh5fZMaUlXqOZwvosP\">link</a></td>\n",
       "    </tr>\n",
       "    <tr>\n",
       "      <td id=\"T_cb810_row10_col0\" class=\"data row10 col0\" >ClOvZApTiL8Q2sliSLP1M8QIwjSD</td>\n",
       "      <td id=\"T_cb810_row10_col1\" class=\"data row10 col1\" >DjbzajfaToyB18CQR44ywQ</td>\n",
       "      <td id=\"T_cb810_row10_col2\" class=\"data row10 col2\" >GROMACS MolecularDynamics simulation</td>\n",
       "      <td id=\"T_cb810_row10_col3\" class=\"data row10 col3\" >GROMACS MolecularDynamics</td>\n",
       "      <td id=\"T_cb810_row10_col4\" class=\"data row10 col4\" >SoluteSolvationFlow</td>\n",
       "      <td id=\"T_cb810_row10_col5\" class=\"data row10 col5\" >8f3517435fd911f25f11440d8eb22caa</td>\n",
       "      <td id=\"T_cb810_row10_col6\" class=\"data row10 col6\" >solute_solvation</td>\n",
       "      <td id=\"T_cb810_row10_col7\" class=\"data row10 col7\" >P6</td>\n",
       "      <td id=\"T_cb810_row10_col8\" class=\"data row10 col8\" >HD</td>\n",
       "      <td id=\"T_cb810_row10_col9\" class=\"data row10 col9\" >2024-03-19</td>\n",
       "      <td id=\"T_cb810_row10_col10\" class=\"data row10 col10\" ><a target=\"_blank\" href=\"https://nomad-lab.eu/prod/v1/test/gui/user/uploads/upload/id/DjbzajfaToyB18CQR44ywQ/entry/id/ClOvZApTiL8Q2sliSLP1M8QIwjSD\">link</a></td>\n",
       "    </tr>\n",
       "    <tr>\n",
       "      <td id=\"T_cb810_row11_col0\" class=\"data row11 col0\" >OhkqFt9Zak_k-jJuLyYUjBxEVfGC</td>\n",
       "      <td id=\"T_cb810_row11_col1\" class=\"data row11 col1\" >DjbzajfaToyB18CQR44ywQ</td>\n",
       "      <td id=\"T_cb810_row11_col2\" class=\"data row11 col2\" >GROMACS GeometryOptimization simulation</td>\n",
       "      <td id=\"T_cb810_row11_col3\" class=\"data row11 col3\" >GROMACS GeometryOptimization</td>\n",
       "      <td id=\"T_cb810_row11_col4\" class=\"data row11 col4\" >SoluteSolvationFlow</td>\n",
       "      <td id=\"T_cb810_row11_col5\" class=\"data row11 col5\" >8f3517435fd911f25f11440d8eb22caa</td>\n",
       "      <td id=\"T_cb810_row11_col6\" class=\"data row11 col6\" >solute_solvation</td>\n",
       "      <td id=\"T_cb810_row11_col7\" class=\"data row11 col7\" >P6</td>\n",
       "      <td id=\"T_cb810_row11_col8\" class=\"data row11 col8\" >HD</td>\n",
       "      <td id=\"T_cb810_row11_col9\" class=\"data row11 col9\" >2024-03-19</td>\n",
       "      <td id=\"T_cb810_row11_col10\" class=\"data row11 col10\" ><a target=\"_blank\" href=\"https://nomad-lab.eu/prod/v1/test/gui/user/uploads/upload/id/DjbzajfaToyB18CQR44ywQ/entry/id/OhkqFt9Zak_k-jJuLyYUjBxEVfGC\">link</a></td>\n",
       "    </tr>\n",
       "    <tr>\n",
       "      <td id=\"T_cb810_row12_col0\" class=\"data row12 col0\" >CUfrq_lohcnTXUiDbt7v75ZfAuqp</td>\n",
       "      <td id=\"T_cb810_row12_col1\" class=\"data row12 col1\" >DjbzajfaToyB18CQR44ywQ</td>\n",
       "      <td id=\"T_cb810_row12_col2\" class=\"data row12 col2\" >GROMACS MolecularDynamics simulation</td>\n",
       "      <td id=\"T_cb810_row12_col3\" class=\"data row12 col3\" >GROMACS MolecularDynamics</td>\n",
       "      <td id=\"T_cb810_row12_col4\" class=\"data row12 col4\" >SoluteSolvationFlow</td>\n",
       "      <td id=\"T_cb810_row12_col5\" class=\"data row12 col5\" >8f3517435fd911f25f11440d8eb22caa</td>\n",
       "      <td id=\"T_cb810_row12_col6\" class=\"data row12 col6\" >solute_solvation</td>\n",
       "      <td id=\"T_cb810_row12_col7\" class=\"data row12 col7\" >P6</td>\n",
       "      <td id=\"T_cb810_row12_col8\" class=\"data row12 col8\" >HD</td>\n",
       "      <td id=\"T_cb810_row12_col9\" class=\"data row12 col9\" >2024-03-19</td>\n",
       "      <td id=\"T_cb810_row12_col10\" class=\"data row12 col10\" ><a target=\"_blank\" href=\"https://nomad-lab.eu/prod/v1/test/gui/user/uploads/upload/id/DjbzajfaToyB18CQR44ywQ/entry/id/CUfrq_lohcnTXUiDbt7v75ZfAuqp\">link</a></td>\n",
       "    </tr>\n",
       "    <tr>\n",
       "      <td id=\"T_cb810_row13_col0\" class=\"data row13 col0\" >FN_oMHDxm2Q5mlLxAi9eyKpC3d6z</td>\n",
       "      <td id=\"T_cb810_row13_col1\" class=\"data row13 col1\" >DjbzajfaToyB18CQR44ywQ</td>\n",
       "      <td id=\"T_cb810_row13_col2\" class=\"data row13 col2\" >solvent_generation.archive.yaml</td>\n",
       "      <td id=\"T_cb810_row13_col3\" class=\"data row13 col3\" >Workflow</td>\n",
       "      <td id=\"T_cb810_row13_col4\" class=\"data row13 col4\" >SoluteSolvationFlow</td>\n",
       "      <td id=\"T_cb810_row13_col5\" class=\"data row13 col5\" >8f3517435fd911f25f11440d8eb22caa</td>\n",
       "      <td id=\"T_cb810_row13_col6\" class=\"data row13 col6\" >solute_solvation</td>\n",
       "      <td id=\"T_cb810_row13_col7\" class=\"data row13 col7\" >P6</td>\n",
       "      <td id=\"T_cb810_row13_col8\" class=\"data row13 col8\" >HD</td>\n",
       "      <td id=\"T_cb810_row13_col9\" class=\"data row13 col9\" >2024-03-19</td>\n",
       "      <td id=\"T_cb810_row13_col10\" class=\"data row13 col10\" ><a target=\"_blank\" href=\"https://nomad-lab.eu/prod/v1/test/gui/user/uploads/upload/id/DjbzajfaToyB18CQR44ywQ/entry/id/FN_oMHDxm2Q5mlLxAi9eyKpC3d6z\">link</a></td>\n",
       "    </tr>\n",
       "    <tr>\n",
       "      <td id=\"T_cb810_row14_col0\" class=\"data row14 col0\" >MrufECW6Dbj_aoa0PG2XKdr4NRj6</td>\n",
       "      <td id=\"T_cb810_row14_col1\" class=\"data row14 col1\" >DjbzajfaToyB18CQR44ywQ</td>\n",
       "      <td id=\"T_cb810_row14_col2\" class=\"data row14 col2\" >GROMACS GeometryOptimization simulation</td>\n",
       "      <td id=\"T_cb810_row14_col3\" class=\"data row14 col3\" >GROMACS GeometryOptimization</td>\n",
       "      <td id=\"T_cb810_row14_col4\" class=\"data row14 col4\" >SoluteSolvationFlow</td>\n",
       "      <td id=\"T_cb810_row14_col5\" class=\"data row14 col5\" >8f3517435fd911f25f11440d8eb22caa</td>\n",
       "      <td id=\"T_cb810_row14_col6\" class=\"data row14 col6\" >solute_solvation</td>\n",
       "      <td id=\"T_cb810_row14_col7\" class=\"data row14 col7\" >P6</td>\n",
       "      <td id=\"T_cb810_row14_col8\" class=\"data row14 col8\" >HD</td>\n",
       "      <td id=\"T_cb810_row14_col9\" class=\"data row14 col9\" >2024-03-19</td>\n",
       "      <td id=\"T_cb810_row14_col10\" class=\"data row14 col10\" ><a target=\"_blank\" href=\"https://nomad-lab.eu/prod/v1/test/gui/user/uploads/upload/id/DjbzajfaToyB18CQR44ywQ/entry/id/MrufECW6Dbj_aoa0PG2XKdr4NRj6\">link</a></td>\n",
       "    </tr>\n",
       "    <tr>\n",
       "      <td id=\"T_cb810_row15_col0\" class=\"data row15 col0\" >MoxaurypWXwdKzQgpw4ZsWGQlhu2</td>\n",
       "      <td id=\"T_cb810_row15_col1\" class=\"data row15 col1\" >DjbzajfaToyB18CQR44ywQ</td>\n",
       "      <td id=\"T_cb810_row15_col2\" class=\"data row15 col2\" >GROMACS MolecularDynamics simulation</td>\n",
       "      <td id=\"T_cb810_row15_col3\" class=\"data row15 col3\" >GROMACS MolecularDynamics</td>\n",
       "      <td id=\"T_cb810_row15_col4\" class=\"data row15 col4\" >SoluteSolvationFlow</td>\n",
       "      <td id=\"T_cb810_row15_col5\" class=\"data row15 col5\" >8f3517435fd911f25f11440d8eb22caa</td>\n",
       "      <td id=\"T_cb810_row15_col6\" class=\"data row15 col6\" >solute_solvation</td>\n",
       "      <td id=\"T_cb810_row15_col7\" class=\"data row15 col7\" >P6</td>\n",
       "      <td id=\"T_cb810_row15_col8\" class=\"data row15 col8\" >HD</td>\n",
       "      <td id=\"T_cb810_row15_col9\" class=\"data row15 col9\" >2024-03-19</td>\n",
       "      <td id=\"T_cb810_row15_col10\" class=\"data row15 col10\" ><a target=\"_blank\" href=\"https://nomad-lab.eu/prod/v1/test/gui/user/uploads/upload/id/DjbzajfaToyB18CQR44ywQ/entry/id/MoxaurypWXwdKzQgpw4ZsWGQlhu2\">link</a></td>\n",
       "    </tr>\n",
       "  </tbody>\n",
       "</table>\n",
       "\n",
       "<link href=\"https://www.unpkg.com/dt_for_itables@2.0.1/dt_bundle.css\" rel=\"stylesheet\">\n",
       "<script type=\"module\">\n",
       "    import {DataTable, jQuery as $} from 'https://www.unpkg.com/dt_for_itables@2.0.1/dt_bundle.js';\n",
       "\n",
       "    document.querySelectorAll(\"#T_cb810:not(.dataTable)\").forEach(table => {\n",
       "        // Define the table data\n",
       "        \n",
       "\n",
       "        // Define the dt_args\n",
       "        let dt_args = {\"layout\": {\"topStart\": \"pageLength\", \"topEnd\": \"search\", \"bottomStart\": \"info\", \"bottomEnd\": \"paging\"}, \"autoWidth\": false, \"buttons\": [], \"dom\": \"fiBrtlp\", \"info\": true, \"keys\": true, \"language\": {\"info\": \"Showing _TOTAL_ entries\"}, \"lengthChange\": false, \"order\": [], \"ordering\": true, \"paging\": false, \"responsive\": true, \"searching\": true};\n",
       "        \n",
       "\n",
       "        \n",
       "        new DataTable(table, dt_args);\n",
       "    });\n",
       "</script>\n"
      ],
      "text/plain": [
       "<IPython.core.display.HTML object>"
      ]
     },
     "metadata": {},
     "output_type": "display_data"
    }
   ],
   "source": [
    "#| title: \"Uploads\"\n",
    "show(df_u.style.format({'url': make_clickable}))"
   ]
  },
  {
   "cell_type": "raw",
   "id": "d8cbbf5b-882f-4e6e-aef0-189f1c0d9530",
   "metadata": {},
   "source": [
    "# Solute generation"
   ]
  },
  {
   "cell_type": "code",
   "execution_count": 7,
   "id": "b45c134d-6497-43f9-bf0b-2ef9a0c86db2",
   "metadata": {},
   "outputs": [
    {
     "data": {
      "text/html": [
       "<style type=\"text/css\">\n",
       "</style>\n",
       "<table id=\"T_ac51b\" class=\"display nowrap compact\"style=\"table-layout:auto;width:auto;margin:auto;caption-side:bottom\">\n",
       "  <thead>\n",
       "    <tr>\n",
       "      <th class=\"blank level0\" >&nbsp;</th>\n",
       "      <th id=\"T_ac51b_level0_col0\" class=\"col_heading level0 col0\" >entry_id</th>\n",
       "      <th id=\"T_ac51b_level0_col1\" class=\"col_heading level0 col1\" >upload_id</th>\n",
       "      <th id=\"T_ac51b_level0_col2\" class=\"col_heading level0 col2\" >entry_name</th>\n",
       "      <th id=\"T_ac51b_level0_col3\" class=\"col_heading level0 col3\" >entry_type</th>\n",
       "      <th id=\"T_ac51b_level0_col4\" class=\"col_heading level0 col4\" >mdp_files</th>\n",
       "      <th id=\"T_ac51b_level0_col5\" class=\"col_heading level0 col5\" >state_point.solute_name</th>\n",
       "      <th id=\"T_ac51b_level0_col6\" class=\"col_heading level0 col6\" >entry_create_time</th>\n",
       "      <th id=\"T_ac51b_level0_col7\" class=\"col_heading level0 col7\" >url</th>\n",
       "    </tr>\n",
       "  </thead>\n",
       "  <tbody>\n",
       "    <tr>\n",
       "      <th id=\"T_ac51b_level0_row0\" class=\"row_heading level0 row0\" >0</th>\n",
       "      <td id=\"T_ac51b_row0_col0\" class=\"data row0 col0\" >prsfcogv6852DaQcPdGzh0OqyCER</td>\n",
       "      <td id=\"T_ac51b_row0_col1\" class=\"data row0 col1\" >VRlAv-gdQBKxU9CrSU8T2w</td>\n",
       "      <td id=\"T_ac51b_row0_col2\" class=\"data row0 col2\" >solute_generation.archive.yaml</td>\n",
       "      <td id=\"T_ac51b_row0_col3\" class=\"data row0 col3\" >Workflow</td>\n",
       "      <td id=\"T_ac51b_row0_col4\" class=\"data row0 col4\" >8f3517435fd911f25f11440d8eb22caa</td>\n",
       "      <td id=\"T_ac51b_row0_col5\" class=\"data row0 col5\" >P6</td>\n",
       "      <td id=\"T_ac51b_row0_col6\" class=\"data row0 col6\" >2024-03-19</td>\n",
       "      <td id=\"T_ac51b_row0_col7\" class=\"data row0 col7\" ><a target=\"_blank\" href=\"https://nomad-lab.eu/prod/v1/test/gui/user/uploads/upload/id/VRlAv-gdQBKxU9CrSU8T2w/entry/id/prsfcogv6852DaQcPdGzh0OqyCER\">link</a></td>\n",
       "    </tr>\n",
       "  </tbody>\n",
       "</table>\n",
       "\n",
       "<link href=\"https://www.unpkg.com/dt_for_itables@2.0.1/dt_bundle.css\" rel=\"stylesheet\">\n",
       "<script type=\"module\">\n",
       "    import {DataTable, jQuery as $} from 'https://www.unpkg.com/dt_for_itables@2.0.1/dt_bundle.js';\n",
       "\n",
       "    document.querySelectorAll(\"#T_ac51b:not(.dataTable)\").forEach(table => {\n",
       "        // Define the table data\n",
       "        \n",
       "\n",
       "        // Define the dt_args\n",
       "        let dt_args = {\"layout\": {\"topStart\": \"pageLength\", \"topEnd\": \"search\", \"bottomStart\": \"info\", \"bottomEnd\": \"paging\"}, \"autoWidth\": false, \"buttons\": [], \"dom\": \"fiBrtlp\", \"info\": true, \"keys\": true, \"language\": {\"info\": \"Showing _TOTAL_ entries\"}, \"lengthChange\": false, \"order\": [], \"ordering\": true, \"paging\": false, \"responsive\": true, \"searching\": true};\n",
       "        \n",
       "\n",
       "        \n",
       "        new DataTable(table, dt_args);\n",
       "    });\n",
       "</script>\n"
      ],
      "text/plain": [
       "<IPython.core.display.HTML object>"
      ]
     },
     "metadata": {},
     "output_type": "display_data"
    }
   ],
   "source": [
    "#| title: \"Uploads\"\n",
    "show(\n",
    "    df_u[(df_u[\"workflow_name\"] == \"SoluteGenFlow\") & (df_u[\"entry_type\"] == \"Workflow\")]\n",
    "    .drop([\"workflow_name\", \"state_point.type\", \"state_point.solvent_name\", \n",
    "           # \"state_point.lambda_state\"\n",
    "          ], axis=1)\n",
    "    .sort_values(\"state_point.solute_name\")\n",
    "    .style.format({'url': make_clickable})\n",
    ")"
   ]
  },
  {
   "cell_type": "raw",
   "id": "000a9ee4-7c93-48e7-8456-da2b253c1b80",
   "metadata": {},
   "source": [
    "# Solvent generation"
   ]
  },
  {
   "cell_type": "code",
   "execution_count": 8,
   "id": "d7693b8c-9bd0-4bd1-9fc5-2892f3344be7",
   "metadata": {},
   "outputs": [
    {
     "data": {
      "text/html": [
       "<style type=\"text/css\">\n",
       "</style>\n",
       "<table id=\"T_cd1f0\" class=\"display nowrap compact\"style=\"table-layout:auto;width:auto;margin:auto;caption-side:bottom\">\n",
       "  <thead>\n",
       "    <tr>\n",
       "      <th class=\"blank level0\" >&nbsp;</th>\n",
       "      <th id=\"T_cd1f0_level0_col0\" class=\"col_heading level0 col0\" >entry_id</th>\n",
       "      <th id=\"T_cd1f0_level0_col1\" class=\"col_heading level0 col1\" >upload_id</th>\n",
       "      <th id=\"T_cd1f0_level0_col2\" class=\"col_heading level0 col2\" >entry_name</th>\n",
       "      <th id=\"T_cd1f0_level0_col3\" class=\"col_heading level0 col3\" >entry_type</th>\n",
       "      <th id=\"T_cd1f0_level0_col4\" class=\"col_heading level0 col4\" >mdp_files</th>\n",
       "      <th id=\"T_cd1f0_level0_col5\" class=\"col_heading level0 col5\" >state_point.solvent_name</th>\n",
       "      <th id=\"T_cd1f0_level0_col6\" class=\"col_heading level0 col6\" >entry_create_time</th>\n",
       "      <th id=\"T_cd1f0_level0_col7\" class=\"col_heading level0 col7\" >url</th>\n",
       "    </tr>\n",
       "  </thead>\n",
       "  <tbody>\n",
       "    <tr>\n",
       "      <th id=\"T_cd1f0_level0_row0\" class=\"row_heading level0 row0\" >3</th>\n",
       "      <td id=\"T_cd1f0_row0_col0\" class=\"data row0 col0\" >Umudk_qAcSEBx932rJl5R9Uhar8D</td>\n",
       "      <td id=\"T_cd1f0_row0_col1\" class=\"data row0 col1\" >J-08brjXSZC5JBTOAfQLJA</td>\n",
       "      <td id=\"T_cd1f0_row0_col2\" class=\"data row0 col2\" >solvent_generation.archive.yaml</td>\n",
       "      <td id=\"T_cd1f0_row0_col3\" class=\"data row0 col3\" >Workflow</td>\n",
       "      <td id=\"T_cd1f0_row0_col4\" class=\"data row0 col4\" >ba2c4618058c83ba0ab2d9d7ba76bd1f</td>\n",
       "      <td id=\"T_cd1f0_row0_col5\" class=\"data row0 col5\" >HD</td>\n",
       "      <td id=\"T_cd1f0_row0_col6\" class=\"data row0 col6\" >2024-03-19</td>\n",
       "      <td id=\"T_cd1f0_row0_col7\" class=\"data row0 col7\" ><a target=\"_blank\" href=\"https://nomad-lab.eu/prod/v1/test/gui/user/uploads/upload/id/J-08brjXSZC5JBTOAfQLJA/entry/id/Umudk_qAcSEBx932rJl5R9Uhar8D\">link</a></td>\n",
       "    </tr>\n",
       "  </tbody>\n",
       "</table>\n",
       "\n",
       "<link href=\"https://www.unpkg.com/dt_for_itables@2.0.1/dt_bundle.css\" rel=\"stylesheet\">\n",
       "<script type=\"module\">\n",
       "    import {DataTable, jQuery as $} from 'https://www.unpkg.com/dt_for_itables@2.0.1/dt_bundle.js';\n",
       "\n",
       "    document.querySelectorAll(\"#T_cd1f0:not(.dataTable)\").forEach(table => {\n",
       "        // Define the table data\n",
       "        \n",
       "\n",
       "        // Define the dt_args\n",
       "        let dt_args = {\"layout\": {\"topStart\": \"pageLength\", \"topEnd\": \"search\", \"bottomStart\": \"info\", \"bottomEnd\": \"paging\"}, \"autoWidth\": false, \"buttons\": [], \"dom\": \"fiBrtlp\", \"info\": true, \"keys\": true, \"language\": {\"info\": \"Showing _TOTAL_ entries\"}, \"lengthChange\": false, \"order\": [], \"ordering\": true, \"paging\": false, \"responsive\": true, \"searching\": true};\n",
       "        \n",
       "\n",
       "        \n",
       "        new DataTable(table, dt_args);\n",
       "    });\n",
       "</script>\n"
      ],
      "text/plain": [
       "<IPython.core.display.HTML object>"
      ]
     },
     "metadata": {},
     "output_type": "display_data"
    }
   ],
   "source": [
    "#| title: \"Uploads\"\n",
    "show(\n",
    "    df_u[(df_u[\"workflow_name\"] == \"SolventGenFlow\") & (df_u[\"entry_type\"] == \"Workflow\")]\n",
    "    .drop([\"workflow_name\", \"state_point.type\", \"state_point.solute_name\", \n",
    "           # \"state_point.lambda_state\"\n",
    "          ], axis=1)\n",
    "    .sort_values(\"state_point.solvent_name\")\n",
    "    .style.format({'url': make_clickable})\n",
    ")"
   ]
  },
  {
   "cell_type": "raw",
   "id": "94d8644f-1a11-4367-9841-a2aac723a1d8",
   "metadata": {},
   "source": [
    "# Solute solvation"
   ]
  },
  {
   "cell_type": "code",
   "execution_count": 9,
   "id": "73c25a6b-28f1-45b2-87f7-060257e2aeee",
   "metadata": {},
   "outputs": [
    {
     "data": {
      "text/html": [
       "<style type=\"text/css\">\n",
       "</style>\n",
       "<table id=\"T_340ac\" class=\"display nowrap compact\"style=\"table-layout:auto;width:auto;margin:auto;caption-side:bottom\">\n",
       "  <thead>\n",
       "    <tr>\n",
       "      <th class=\"blank level0\" >&nbsp;</th>\n",
       "      <th id=\"T_340ac_level0_col0\" class=\"col_heading level0 col0\" >entry_id</th>\n",
       "      <th id=\"T_340ac_level0_col1\" class=\"col_heading level0 col1\" >upload_id</th>\n",
       "      <th id=\"T_340ac_level0_col2\" class=\"col_heading level0 col2\" >mdp_files</th>\n",
       "      <th id=\"T_340ac_level0_col3\" class=\"col_heading level0 col3\" >state_point.solute_name</th>\n",
       "      <th id=\"T_340ac_level0_col4\" class=\"col_heading level0 col4\" >state_point.solvent_name</th>\n",
       "      <th id=\"T_340ac_level0_col5\" class=\"col_heading level0 col5\" >entry_create_time</th>\n",
       "      <th id=\"T_340ac_level0_col6\" class=\"col_heading level0 col6\" >url</th>\n",
       "    </tr>\n",
       "  </thead>\n",
       "  <tbody>\n",
       "    <tr>\n",
       "      <th id=\"T_340ac_level0_row0\" class=\"row_heading level0 row0\" >6</th>\n",
       "      <td id=\"T_340ac_row0_col0\" class=\"data row0 col0\" >ekOzn6S0BkV6CLtryv2BDfNM5uXG</td>\n",
       "      <td id=\"T_340ac_row0_col1\" class=\"data row0 col1\" >DjbzajfaToyB18CQR44ywQ</td>\n",
       "      <td id=\"T_340ac_row0_col2\" class=\"data row0 col2\" >8f3517435fd911f25f11440d8eb22caa</td>\n",
       "      <td id=\"T_340ac_row0_col3\" class=\"data row0 col3\" >P6</td>\n",
       "      <td id=\"T_340ac_row0_col4\" class=\"data row0 col4\" >HD</td>\n",
       "      <td id=\"T_340ac_row0_col5\" class=\"data row0 col5\" >2024-03-19</td>\n",
       "      <td id=\"T_340ac_row0_col6\" class=\"data row0 col6\" ><a target=\"_blank\" href=\"https://nomad-lab.eu/prod/v1/test/gui/user/uploads/upload/id/DjbzajfaToyB18CQR44ywQ/entry/id/ekOzn6S0BkV6CLtryv2BDfNM5uXG\">link</a></td>\n",
       "    </tr>\n",
       "  </tbody>\n",
       "</table>\n",
       "\n",
       "<link href=\"https://www.unpkg.com/dt_for_itables@2.0.1/dt_bundle.css\" rel=\"stylesheet\">\n",
       "<script type=\"module\">\n",
       "    import {DataTable, jQuery as $} from 'https://www.unpkg.com/dt_for_itables@2.0.1/dt_bundle.js';\n",
       "\n",
       "    document.querySelectorAll(\"#T_340ac:not(.dataTable)\").forEach(table => {\n",
       "        // Define the table data\n",
       "        \n",
       "\n",
       "        // Define the dt_args\n",
       "        let dt_args = {\"layout\": {\"topStart\": \"pageLength\", \"topEnd\": \"search\", \"bottomStart\": \"info\", \"bottomEnd\": \"paging\"}, \"autoWidth\": false, \"buttons\": [], \"dom\": \"fiBrtlp\", \"info\": true, \"keys\": true, \"language\": {\"info\": \"Showing _TOTAL_ entries\"}, \"lengthChange\": false, \"order\": [], \"ordering\": true, \"paging\": false, \"responsive\": true, \"searching\": true};\n",
       "        \n",
       "\n",
       "        \n",
       "        new DataTable(table, dt_args);\n",
       "    });\n",
       "</script>\n"
      ],
      "text/plain": [
       "<IPython.core.display.HTML object>"
      ]
     },
     "metadata": {},
     "output_type": "display_data"
    }
   ],
   "source": [
    "#| title: \"Uploads\"\n",
    "show(\n",
    "    df_u[(df_u[\"workflow_name\"] == \"SoluteSolvationFlow\") & (df_u[\"entry_type\"] == \"Workflow\") & (df_u[\"entry_name\"] == \"full_workflow.solute_solvation.archive.yaml\")]\n",
    "    .drop([\"entry_name\", \"entry_type\", \"workflow_name\", \"state_point.type\", \n",
    "           # \"state_point.lambda_state\"\n",
    "          ], axis=1)\n",
    "    .sort_values(\"state_point.solvent_name\")\n",
    "    .style.format({'url': make_clickable})\n",
    ")"
   ]
  },
  {
   "cell_type": "raw",
   "id": "b741e1c2-0a1a-4fb6-96c8-317296489bf8",
   "metadata": {},
   "source": [
    "# Alchemical transformations"
   ]
  },
  {
   "cell_type": "code",
   "execution_count": 10,
   "id": "8cfa39a4-53d5-4c51-a388-6f615fbac6cb",
   "metadata": {},
   "outputs": [
    {
     "data": {
      "text/html": [
       "<style type=\"text/css\">\n",
       "</style>\n",
       "<table id=\"T_8d0a1\" class=\"display nowrap compact\"style=\"table-layout:auto;width:auto;margin:auto;caption-side:bottom\">\n",
       "  <thead>\n",
       "    <tr>\n",
       "      <th class=\"blank level0\" >&nbsp;</th>\n",
       "      <th id=\"T_8d0a1_level0_col0\" class=\"col_heading level0 col0\" >entry_id</th>\n",
       "      <th id=\"T_8d0a1_level0_col1\" class=\"col_heading level0 col1\" >upload_id</th>\n",
       "      <th id=\"T_8d0a1_level0_col2\" class=\"col_heading level0 col2\" >mdp_files</th>\n",
       "      <th id=\"T_8d0a1_level0_col3\" class=\"col_heading level0 col3\" >state_point.solute_name</th>\n",
       "      <th id=\"T_8d0a1_level0_col4\" class=\"col_heading level0 col4\" >state_point.solvent_name</th>\n",
       "      <th id=\"T_8d0a1_level0_col5\" class=\"col_heading level0 col5\" >entry_create_time</th>\n",
       "      <th id=\"T_8d0a1_level0_col6\" class=\"col_heading level0 col6\" >url</th>\n",
       "    </tr>\n",
       "  </thead>\n",
       "  <tbody>\n",
       "  </tbody>\n",
       "</table>\n",
       "\n",
       "<link href=\"https://www.unpkg.com/dt_for_itables@2.0.1/dt_bundle.css\" rel=\"stylesheet\">\n",
       "<script type=\"module\">\n",
       "    import {DataTable, jQuery as $} from 'https://www.unpkg.com/dt_for_itables@2.0.1/dt_bundle.js';\n",
       "\n",
       "    document.querySelectorAll(\"#T_8d0a1:not(.dataTable)\").forEach(table => {\n",
       "        // Define the table data\n",
       "        \n",
       "\n",
       "        // Define the dt_args\n",
       "        let dt_args = {\"layout\": {\"topStart\": \"pageLength\", \"topEnd\": \"search\", \"bottomStart\": \"info\", \"bottomEnd\": \"paging\"}, \"autoWidth\": false, \"buttons\": [], \"dom\": \"fiBrtlp\", \"info\": true, \"keys\": true, \"language\": {\"info\": \"Showing _TOTAL_ entries\"}, \"lengthChange\": false, \"order\": [], \"ordering\": true, \"paging\": false, \"responsive\": true, \"searching\": true};\n",
       "        \n",
       "\n",
       "        \n",
       "        new DataTable(table, dt_args);\n",
       "    });\n",
       "</script>\n"
      ],
      "text/plain": [
       "<IPython.core.display.HTML object>"
      ]
     },
     "metadata": {},
     "output_type": "display_data"
    }
   ],
   "source": [
    "#| title: \"Uploads\"\n",
    "show(\n",
    "    df_u[(df_u[\"workflow_name\"] == \"AlchemicalTransformationFlow\") & (df_u[\"entry_type\"] == \"Workflow\") & (df_u[\"entry_name\"] == \"full_workflow.alchemical_transformation.archive.yaml\")]\n",
    "    .drop([\"entry_name\", \"entry_type\", \"workflow_name\", \"state_point.type\", \n",
    "           # \"state_point.lambda_state\"\n",
    "          ], axis=1)\n",
    "    .sort_values(\"state_point.solvent_name\")\n",
    "    .style.format({'url': make_clickable})\n",
    ")"
   ]
  },
  {
   "cell_type": "code",
   "execution_count": 11,
   "id": "bc8d6b7e-2aed-4e06-ae68-bab9172f26f5",
   "metadata": {},
   "outputs": [],
   "source": []
  }
 ],
 "metadata": {
  "kernelspec": {
   "display_name": "Python 3 (ipykernel)",
   "language": "python",
   "name": "python3"
  },
  "language_info": {
   "codemirror_mode": {
    "name": "ipython",
    "version": 3
   },
   "file_extension": ".py",
   "mimetype": "text/x-python",
   "name": "python",
   "nbconvert_exporter": "python",
   "pygments_lexer": "ipython3",
   "version": "3.9.18"
  }
 },
 "nbformat": 4,
 "nbformat_minor": 5
}
