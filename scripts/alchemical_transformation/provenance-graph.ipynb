{
 "cells": [
  {
   "cell_type": "code",
   "execution_count": 62,
   "id": "eff8a453-1990-4134-a6f9-0eb5251ae610",
   "metadata": {},
   "outputs": [],
   "source": [
    "import sys\n",
    "import networkx as nx\n",
    "import matplotlib.pyplot as plt\n",
    "from flow import aggregator\n",
    "from martignac.workflows.alchemical_transformation import AlchemicalTransformationFlow"
   ]
  },
  {
   "cell_type": "code",
   "execution_count": 2,
   "id": "85ddb252-89e5-4ce3-a8da-d4677c13b33c",
   "metadata": {},
   "outputs": [],
   "source": [
    "G = nx.DiGraph()"
   ]
  },
  {
   "cell_type": "code",
   "execution_count": 39,
   "id": "6c612de8-2e1a-4fdc-9629-062724fa525c",
   "metadata": {},
   "outputs": [
    {
     "data": {
      "text/html": [
       "<p><strong>Project:</strong> /Users/bereau/work/projects/martignac/scripts/martini_fep<br><strong>Workspace:</strong> /Users/bereau/work/projects/martignac/scripts/martini_fep/workspace<br><strong>Size:</strong> 22</p><div>\n",
       "<style scoped>\n",
       "    .dataframe tbody tr th:only-of-type {\n",
       "        vertical-align: middle;\n",
       "    }\n",
       "\n",
       "    .dataframe tbody tr th {\n",
       "        vertical-align: top;\n",
       "    }\n",
       "\n",
       "    .dataframe thead th {\n",
       "        text-align: right;\n",
       "    }\n",
       "</style>\n",
       "<table border=\"1\" class=\"dataframe\">\n",
       "  <thead>\n",
       "    <tr style=\"text-align: right;\">\n",
       "      <th></th>\n",
       "      <th>sp.solvent_name</th>\n",
       "      <th>sp.solute_name</th>\n",
       "      <th>sp.lambda_state</th>\n",
       "      <th>doc.system_gro</th>\n",
       "      <th>doc.system_top</th>\n",
       "      <th>doc.solute_name</th>\n",
       "      <th>doc.solute_itp</th>\n",
       "      <th>doc.system_prepared</th>\n",
       "      <th>doc.alchemical_xvg</th>\n",
       "      <th>doc.alchemical_log</th>\n",
       "      <th>doc.solute_top</th>\n",
       "      <th>doc.solute_gro</th>\n",
       "      <th>doc.solvent_top</th>\n",
       "      <th>doc.solvent_name</th>\n",
       "      <th>doc.solvent_gro</th>\n",
       "      <th>doc.solute_solvent_top</th>\n",
       "      <th>doc.solute_solvent_gro</th>\n",
       "    </tr>\n",
       "  </thead>\n",
       "  <tbody>\n",
       "    <tr>\n",
       "      <th>a170ac4fcde84432823b6d5b6cd60c19</th>\n",
       "      <td>W</td>\n",
       "      <td>P6</td>\n",
       "      <td>5</td>\n",
       "      <td>solute_solvent_equ.gro</td>\n",
       "      <td>solute_solvent.top</td>\n",
       "      <td>P6</td>\n",
       "      <td>solute.itp</td>\n",
       "      <td>True</td>\n",
       "      <td>fep_run-5.xvg</td>\n",
       "      <td>fep_run-5.log</td>\n",
       "      <td>NaN</td>\n",
       "      <td>NaN</td>\n",
       "      <td>NaN</td>\n",
       "      <td>NaN</td>\n",
       "      <td>NaN</td>\n",
       "      <td>NaN</td>\n",
       "      <td>NaN</td>\n",
       "    </tr>\n",
       "    <tr>\n",
       "      <th>fb734c57ae9565777206f54960a5123c</th>\n",
       "      <td>OCO</td>\n",
       "      <td>P6</td>\n",
       "      <td>6</td>\n",
       "      <td>solute_solvent_equ.gro</td>\n",
       "      <td>solute_solvent.top</td>\n",
       "      <td>P6</td>\n",
       "      <td>solute.itp</td>\n",
       "      <td>True</td>\n",
       "      <td>fep_run-6.xvg</td>\n",
       "      <td>fep_run-6.log</td>\n",
       "      <td>NaN</td>\n",
       "      <td>NaN</td>\n",
       "      <td>NaN</td>\n",
       "      <td>NaN</td>\n",
       "      <td>NaN</td>\n",
       "      <td>NaN</td>\n",
       "      <td>NaN</td>\n",
       "    </tr>\n",
       "    <tr>\n",
       "      <th>3da011627721202de75c98ee7d7b1ee0</th>\n",
       "      <td>W</td>\n",
       "      <td>P6</td>\n",
       "      <td>9</td>\n",
       "      <td>solute_solvent_equ.gro</td>\n",
       "      <td>solute_solvent.top</td>\n",
       "      <td>P6</td>\n",
       "      <td>solute.itp</td>\n",
       "      <td>True</td>\n",
       "      <td>fep_run-9.xvg</td>\n",
       "      <td>fep_run-9.log</td>\n",
       "      <td>NaN</td>\n",
       "      <td>NaN</td>\n",
       "      <td>NaN</td>\n",
       "      <td>NaN</td>\n",
       "      <td>NaN</td>\n",
       "      <td>NaN</td>\n",
       "      <td>NaN</td>\n",
       "    </tr>\n",
       "    <tr>\n",
       "      <th>b55ad9cac134725c6c357bd51ec6d2ac</th>\n",
       "      <td>W</td>\n",
       "      <td>P6</td>\n",
       "      <td>0</td>\n",
       "      <td>solute_solvent_equ.gro</td>\n",
       "      <td>solute_solvent.top</td>\n",
       "      <td>P6</td>\n",
       "      <td>solute.itp</td>\n",
       "      <td>True</td>\n",
       "      <td>fep_run-0.xvg</td>\n",
       "      <td>fep_run-0.log</td>\n",
       "      <td>solute.top</td>\n",
       "      <td>solute_min.gro</td>\n",
       "      <td>solvent_gen_box.top</td>\n",
       "      <td>W</td>\n",
       "      <td>solvent_prod.gro</td>\n",
       "      <td>solute_solvent.top</td>\n",
       "      <td>solute_solvent_equ.gro</td>\n",
       "    </tr>\n",
       "    <tr>\n",
       "      <th>5caf20eeffab1356ae64234a1827c8a2</th>\n",
       "      <td>OCO</td>\n",
       "      <td>P6</td>\n",
       "      <td>0</td>\n",
       "      <td>solute_solvent_equ.gro</td>\n",
       "      <td>solute_solvent.top</td>\n",
       "      <td>P6</td>\n",
       "      <td>solute.itp</td>\n",
       "      <td>True</td>\n",
       "      <td>fep_run-0.xvg</td>\n",
       "      <td>fep_run-0.log</td>\n",
       "      <td>solute.top</td>\n",
       "      <td>solute_min.gro</td>\n",
       "      <td>solvent_gen_box.top</td>\n",
       "      <td>OCO</td>\n",
       "      <td>solvent_prod.gro</td>\n",
       "      <td>solute_solvent.top</td>\n",
       "      <td>solute_solvent_equ.gro</td>\n",
       "    </tr>\n",
       "    <tr>\n",
       "      <th>...</th>\n",
       "      <td>...</td>\n",
       "      <td>...</td>\n",
       "      <td>...</td>\n",
       "      <td>...</td>\n",
       "      <td>...</td>\n",
       "      <td>...</td>\n",
       "      <td>...</td>\n",
       "      <td>...</td>\n",
       "      <td>...</td>\n",
       "      <td>...</td>\n",
       "      <td>...</td>\n",
       "      <td>...</td>\n",
       "      <td>...</td>\n",
       "      <td>...</td>\n",
       "      <td>...</td>\n",
       "      <td>...</td>\n",
       "      <td>...</td>\n",
       "    </tr>\n",
       "    <tr>\n",
       "      <th>f7922e67f79ea1049c2f5c327a5e8193</th>\n",
       "      <td>OCO</td>\n",
       "      <td>P6</td>\n",
       "      <td>8</td>\n",
       "      <td>solute_solvent_equ.gro</td>\n",
       "      <td>solute_solvent.top</td>\n",
       "      <td>P6</td>\n",
       "      <td>solute.itp</td>\n",
       "      <td>True</td>\n",
       "      <td>fep_run-8.xvg</td>\n",
       "      <td>fep_run-8.log</td>\n",
       "      <td>NaN</td>\n",
       "      <td>NaN</td>\n",
       "      <td>NaN</td>\n",
       "      <td>NaN</td>\n",
       "      <td>NaN</td>\n",
       "      <td>NaN</td>\n",
       "      <td>NaN</td>\n",
       "    </tr>\n",
       "    <tr>\n",
       "      <th>008bec4a5b5a9ef9dc344f7105eaf20f</th>\n",
       "      <td>W</td>\n",
       "      <td>P6</td>\n",
       "      <td>7</td>\n",
       "      <td>solute_solvent_equ.gro</td>\n",
       "      <td>solute_solvent.top</td>\n",
       "      <td>P6</td>\n",
       "      <td>solute.itp</td>\n",
       "      <td>True</td>\n",
       "      <td>fep_run-7.xvg</td>\n",
       "      <td>fep_run-7.log</td>\n",
       "      <td>NaN</td>\n",
       "      <td>NaN</td>\n",
       "      <td>NaN</td>\n",
       "      <td>NaN</td>\n",
       "      <td>NaN</td>\n",
       "      <td>NaN</td>\n",
       "      <td>NaN</td>\n",
       "    </tr>\n",
       "    <tr>\n",
       "      <th>3935f4e67dd608e87a95dd6c986ce425</th>\n",
       "      <td>W</td>\n",
       "      <td>P6</td>\n",
       "      <td>8</td>\n",
       "      <td>solute_solvent_equ.gro</td>\n",
       "      <td>solute_solvent.top</td>\n",
       "      <td>P6</td>\n",
       "      <td>solute.itp</td>\n",
       "      <td>True</td>\n",
       "      <td>fep_run-8.xvg</td>\n",
       "      <td>fep_run-8.log</td>\n",
       "      <td>NaN</td>\n",
       "      <td>NaN</td>\n",
       "      <td>NaN</td>\n",
       "      <td>NaN</td>\n",
       "      <td>NaN</td>\n",
       "      <td>NaN</td>\n",
       "      <td>NaN</td>\n",
       "    </tr>\n",
       "    <tr>\n",
       "      <th>a7304a40fcd392c23ecf5a0e97ec9ca5</th>\n",
       "      <td>OCO</td>\n",
       "      <td>P6</td>\n",
       "      <td>9</td>\n",
       "      <td>solute_solvent_equ.gro</td>\n",
       "      <td>solute_solvent.top</td>\n",
       "      <td>P6</td>\n",
       "      <td>solute.itp</td>\n",
       "      <td>True</td>\n",
       "      <td>fep_run-9.xvg</td>\n",
       "      <td>fep_run-9.log</td>\n",
       "      <td>NaN</td>\n",
       "      <td>NaN</td>\n",
       "      <td>NaN</td>\n",
       "      <td>NaN</td>\n",
       "      <td>NaN</td>\n",
       "      <td>NaN</td>\n",
       "      <td>NaN</td>\n",
       "    </tr>\n",
       "    <tr>\n",
       "      <th>4be2acf2727378dd0cf0fb2133bde592</th>\n",
       "      <td>OCO</td>\n",
       "      <td>P6</td>\n",
       "      <td>4</td>\n",
       "      <td>solute_solvent_equ.gro</td>\n",
       "      <td>solute_solvent.top</td>\n",
       "      <td>P6</td>\n",
       "      <td>solute.itp</td>\n",
       "      <td>True</td>\n",
       "      <td>fep_run-4.xvg</td>\n",
       "      <td>fep_run-4.log</td>\n",
       "      <td>NaN</td>\n",
       "      <td>NaN</td>\n",
       "      <td>NaN</td>\n",
       "      <td>NaN</td>\n",
       "      <td>NaN</td>\n",
       "      <td>NaN</td>\n",
       "      <td>NaN</td>\n",
       "    </tr>\n",
       "  </tbody>\n",
       "</table>\n",
       "<p>22 rows × 17 columns</p>\n",
       "</div>"
      ],
      "text/plain": [
       "AlchemicalTransformationFlow('/Users/bereau/work/projects/martignac/scripts/martini_fep')"
      ]
     },
     "execution_count": 39,
     "metadata": {},
     "output_type": "execute_result"
    }
   ],
   "source": [
    "project = AlchemicalTransformationFlow.get_project()\n",
    "project"
   ]
  },
  {
   "cell_type": "code",
   "execution_count": 41,
   "id": "64ad4b70-cb6a-4b09-b0e2-401d748c7369",
   "metadata": {},
   "outputs": [
    {
     "data": {
      "application/vnd.jupyter.widget-view+json": {
       "model_id": "70973defb50342eab85a64e3b1894fc1",
       "version_major": 2,
       "version_minor": 0
      },
      "text/plain": [
       "Fetching status:   0%|          | 0/26 [00:00<?, ?it/s]"
      ]
     },
     "metadata": {},
     "output_type": "display_data"
    },
    {
     "data": {
      "application/vnd.jupyter.widget-view+json": {
       "model_id": "0d4170982a2448509d28d864187a8913",
       "version_major": 2,
       "version_minor": 0
      },
      "text/plain": [
       "Fetching labels:   0%|          | 0/22 [00:00<?, ?it/s]"
      ]
     },
     "metadata": {},
     "output_type": "display_data"
    },
    {
     "name": "stdout",
     "output_type": "stream",
     "text": [
      "\n",
      "Overview: 26 jobs/aggregates, 0 jobs/aggregates with eligible operations.\n",
      "\n",
      "label                           ratio\n",
      "------------------------------  ----------------------------------------------------------\n",
      "all_jobs_prepared               |████████████████████████████████████████| 22/22 (100.00%)\n",
      "all_lambda_states_sampled       |████████████████████████████████████████| 22/22 (100.00%)\n",
      "free_energy_already_calculated  |████████████████████████████████████████| 22/22 (100.00%)\n",
      "lambda_sampled                  |████████████████████████████████████████| 22/22 (100.00%)\n",
      "system_prepared                 |████████████████████████████████████████| 22/22 (100.00%)\n",
      "\n",
      "operation/group\n",
      "-----------------\n",
      "\n",
      "\n",
      "[U]:unknown [R]:registered [I]:inactive [S]:submitted [H]:held [Q]:queued [A]:active [E]:error [GR]:group_registered [GI]:group_inactive [GS]:group_submitted [GH]:group_held [GQ]:group_queued [GA]:group_active [GE]:group_error\n",
      "\n",
      "\n"
     ]
    }
   ],
   "source": [
    "project.print_status()"
   ]
  },
  {
   "cell_type": "code",
   "execution_count": 86,
   "id": "bf34d67e-a5c1-4d0d-8862-5f504310066a",
   "metadata": {},
   "outputs": [
    {
     "data": {
      "text/plain": [
       "[Job(project=AlchemicalTransformationFlow('/Users/bereau/work/projects/martignac/scripts/martini_fep'), statepoint={'solvent_name': 'W', 'solute_name': 'P6', 'lambda_state': 5}),\n",
       " Job(project=AlchemicalTransformationFlow('/Users/bereau/work/projects/martignac/scripts/martini_fep'), statepoint={'solvent_name': 'OCO', 'solute_name': 'P6', 'lambda_state': 6}),\n",
       " Job(project=AlchemicalTransformationFlow('/Users/bereau/work/projects/martignac/scripts/martini_fep'), statepoint={'solvent_name': 'W', 'solute_name': 'P6', 'lambda_state': 9}),\n",
       " Job(project=AlchemicalTransformationFlow('/Users/bereau/work/projects/martignac/scripts/martini_fep'), statepoint={'solvent_name': 'W', 'solute_name': 'P6', 'lambda_state': 0}),\n",
       " Job(project=AlchemicalTransformationFlow('/Users/bereau/work/projects/martignac/scripts/martini_fep'), statepoint={'solvent_name': 'OCO', 'solute_name': 'P6', 'lambda_state': 0}),\n",
       " Job(project=AlchemicalTransformationFlow('/Users/bereau/work/projects/martignac/scripts/martini_fep'), statepoint={'solvent_name': 'OCO', 'solute_name': 'P6', 'lambda_state': 7}),\n",
       " Job(project=AlchemicalTransformationFlow('/Users/bereau/work/projects/martignac/scripts/martini_fep'), statepoint={'solvent_name': 'W', 'solute_name': 'P6', 'lambda_state': 3}),\n",
       " Job(project=AlchemicalTransformationFlow('/Users/bereau/work/projects/martignac/scripts/martini_fep'), statepoint={'solvent_name': 'OCO', 'solute_name': 'P6', 'lambda_state': 10}),\n",
       " Job(project=AlchemicalTransformationFlow('/Users/bereau/work/projects/martignac/scripts/martini_fep'), statepoint={'solvent_name': 'OCO', 'solute_name': 'P6', 'lambda_state': 5}),\n",
       " Job(project=AlchemicalTransformationFlow('/Users/bereau/work/projects/martignac/scripts/martini_fep'), statepoint={'solvent_name': 'OCO', 'solute_name': 'P6', 'lambda_state': 3}),\n",
       " Job(project=AlchemicalTransformationFlow('/Users/bereau/work/projects/martignac/scripts/martini_fep'), statepoint={'solvent_name': 'W', 'solute_name': 'P6', 'lambda_state': 4}),\n",
       " Job(project=AlchemicalTransformationFlow('/Users/bereau/work/projects/martignac/scripts/martini_fep'), statepoint={'solvent_name': 'W', 'solute_name': 'P6', 'lambda_state': 2}),\n",
       " Job(project=AlchemicalTransformationFlow('/Users/bereau/work/projects/martignac/scripts/martini_fep'), statepoint={'solvent_name': 'W', 'solute_name': 'P6', 'lambda_state': 1}),\n",
       " Job(project=AlchemicalTransformationFlow('/Users/bereau/work/projects/martignac/scripts/martini_fep'), statepoint={'solvent_name': 'W', 'solute_name': 'P6', 'lambda_state': 10}),\n",
       " Job(project=AlchemicalTransformationFlow('/Users/bereau/work/projects/martignac/scripts/martini_fep'), statepoint={'solvent_name': 'W', 'solute_name': 'P6', 'lambda_state': 6}),\n",
       " Job(project=AlchemicalTransformationFlow('/Users/bereau/work/projects/martignac/scripts/martini_fep'), statepoint={'solvent_name': 'OCO', 'solute_name': 'P6', 'lambda_state': 1}),\n",
       " Job(project=AlchemicalTransformationFlow('/Users/bereau/work/projects/martignac/scripts/martini_fep'), statepoint={'solvent_name': 'OCO', 'solute_name': 'P6', 'lambda_state': 2}),\n",
       " Job(project=AlchemicalTransformationFlow('/Users/bereau/work/projects/martignac/scripts/martini_fep'), statepoint={'solvent_name': 'OCO', 'solute_name': 'P6', 'lambda_state': 8}),\n",
       " Job(project=AlchemicalTransformationFlow('/Users/bereau/work/projects/martignac/scripts/martini_fep'), statepoint={'solvent_name': 'W', 'solute_name': 'P6', 'lambda_state': 7}),\n",
       " Job(project=AlchemicalTransformationFlow('/Users/bereau/work/projects/martignac/scripts/martini_fep'), statepoint={'solvent_name': 'W', 'solute_name': 'P6', 'lambda_state': 8}),\n",
       " Job(project=AlchemicalTransformationFlow('/Users/bereau/work/projects/martignac/scripts/martini_fep'), statepoint={'solvent_name': 'OCO', 'solute_name': 'P6', 'lambda_state': 9}),\n",
       " Job(project=AlchemicalTransformationFlow('/Users/bereau/work/projects/martignac/scripts/martini_fep'), statepoint={'solvent_name': 'OCO', 'solute_name': 'P6', 'lambda_state': 4})]"
      ]
     },
     "execution_count": 86,
     "metadata": {},
     "output_type": "execute_result"
    }
   ],
   "source": [
    "jobs = list(project.find_jobs())\n",
    "jobs"
   ]
  },
  {
   "cell_type": "code",
   "execution_count": 69,
   "id": "a5d0c439-67ff-4696-84ee-cd50da22f35f",
   "metadata": {},
   "outputs": [
    {
     "data": {
      "text/plain": [
       "[(Job(project=AlchemicalTransformationFlow('/Users/bereau/work/projects/martignac/scripts/martini_fep'), statepoint={'solvent_name': 'W', 'solute_name': 'P6', 'lambda_state': 5}),),\n",
       " (Job(project=AlchemicalTransformationFlow('/Users/bereau/work/projects/martignac/scripts/martini_fep'), statepoint={'solvent_name': 'OCO', 'solute_name': 'P6', 'lambda_state': 6}),),\n",
       " (Job(project=AlchemicalTransformationFlow('/Users/bereau/work/projects/martignac/scripts/martini_fep'), statepoint={'solvent_name': 'W', 'solute_name': 'P6', 'lambda_state': 9}),),\n",
       " (Job(project=AlchemicalTransformationFlow('/Users/bereau/work/projects/martignac/scripts/martini_fep'), statepoint={'solvent_name': 'W', 'solute_name': 'P6', 'lambda_state': 0}),),\n",
       " (Job(project=AlchemicalTransformationFlow('/Users/bereau/work/projects/martignac/scripts/martini_fep'), statepoint={'solvent_name': 'OCO', 'solute_name': 'P6', 'lambda_state': 0}),),\n",
       " (Job(project=AlchemicalTransformationFlow('/Users/bereau/work/projects/martignac/scripts/martini_fep'), statepoint={'solvent_name': 'OCO', 'solute_name': 'P6', 'lambda_state': 7}),),\n",
       " (Job(project=AlchemicalTransformationFlow('/Users/bereau/work/projects/martignac/scripts/martini_fep'), statepoint={'solvent_name': 'W', 'solute_name': 'P6', 'lambda_state': 3}),),\n",
       " (Job(project=AlchemicalTransformationFlow('/Users/bereau/work/projects/martignac/scripts/martini_fep'), statepoint={'solvent_name': 'OCO', 'solute_name': 'P6', 'lambda_state': 10}),),\n",
       " (Job(project=AlchemicalTransformationFlow('/Users/bereau/work/projects/martignac/scripts/martini_fep'), statepoint={'solvent_name': 'OCO', 'solute_name': 'P6', 'lambda_state': 5}),),\n",
       " (Job(project=AlchemicalTransformationFlow('/Users/bereau/work/projects/martignac/scripts/martini_fep'), statepoint={'solvent_name': 'OCO', 'solute_name': 'P6', 'lambda_state': 3}),),\n",
       " (Job(project=AlchemicalTransformationFlow('/Users/bereau/work/projects/martignac/scripts/martini_fep'), statepoint={'solvent_name': 'W', 'solute_name': 'P6', 'lambda_state': 4}),),\n",
       " (Job(project=AlchemicalTransformationFlow('/Users/bereau/work/projects/martignac/scripts/martini_fep'), statepoint={'solvent_name': 'W', 'solute_name': 'P6', 'lambda_state': 2}),),\n",
       " (Job(project=AlchemicalTransformationFlow('/Users/bereau/work/projects/martignac/scripts/martini_fep'), statepoint={'solvent_name': 'W', 'solute_name': 'P6', 'lambda_state': 1}),),\n",
       " (Job(project=AlchemicalTransformationFlow('/Users/bereau/work/projects/martignac/scripts/martini_fep'), statepoint={'solvent_name': 'W', 'solute_name': 'P6', 'lambda_state': 10}),),\n",
       " (Job(project=AlchemicalTransformationFlow('/Users/bereau/work/projects/martignac/scripts/martini_fep'), statepoint={'solvent_name': 'W', 'solute_name': 'P6', 'lambda_state': 6}),),\n",
       " (Job(project=AlchemicalTransformationFlow('/Users/bereau/work/projects/martignac/scripts/martini_fep'), statepoint={'solvent_name': 'OCO', 'solute_name': 'P6', 'lambda_state': 1}),),\n",
       " (Job(project=AlchemicalTransformationFlow('/Users/bereau/work/projects/martignac/scripts/martini_fep'), statepoint={'solvent_name': 'OCO', 'solute_name': 'P6', 'lambda_state': 2}),),\n",
       " (Job(project=AlchemicalTransformationFlow('/Users/bereau/work/projects/martignac/scripts/martini_fep'), statepoint={'solvent_name': 'OCO', 'solute_name': 'P6', 'lambda_state': 8}),),\n",
       " (Job(project=AlchemicalTransformationFlow('/Users/bereau/work/projects/martignac/scripts/martini_fep'), statepoint={'solvent_name': 'W', 'solute_name': 'P6', 'lambda_state': 7}),),\n",
       " (Job(project=AlchemicalTransformationFlow('/Users/bereau/work/projects/martignac/scripts/martini_fep'), statepoint={'solvent_name': 'W', 'solute_name': 'P6', 'lambda_state': 8}),),\n",
       " (Job(project=AlchemicalTransformationFlow('/Users/bereau/work/projects/martignac/scripts/martini_fep'), statepoint={'solvent_name': 'OCO', 'solute_name': 'P6', 'lambda_state': 9}),),\n",
       " (Job(project=AlchemicalTransformationFlow('/Users/bereau/work/projects/martignac/scripts/martini_fep'), statepoint={'solvent_name': 'OCO', 'solute_name': 'P6', 'lambda_state': 4}),)]"
      ]
     },
     "execution_count": 69,
     "metadata": {},
     "output_type": "execute_result"
    }
   ],
   "source": [
    "aggregates = project._convert_jobs_to_aggregates(jobs)\n",
    "aggregates"
   ]
  },
  {
   "cell_type": "code",
   "execution_count": 73,
   "id": "98e75481-c7e3-4cfa-8825-149ac2a435ff",
   "metadata": {},
   "outputs": [
    {
     "data": {
      "text/plain": [
       "(Job(project=AlchemicalTransformationFlow('/Users/bereau/work/projects/martignac/scripts/martini_fep'), statepoint={'solvent_name': 'W', 'solute_name': 'P6', 'lambda_state': 5}),)"
      ]
     },
     "execution_count": 73,
     "metadata": {},
     "output_type": "execute_result"
    }
   ],
   "source": [
    "project."
   ]
  },
  {
   "cell_type": "code",
   "execution_count": 51,
   "id": "ad7b9235-ec24-4dfa-bff3-dfb6b068330c",
   "metadata": {},
   "outputs": [
    {
     "data": {
      "text/plain": [
       "<ipykernel.iostream.OutStream at 0x1059b3d00>"
      ]
     },
     "execution_count": 51,
     "metadata": {},
     "output_type": "execute_result"
    }
   ],
   "source": [
    "err = sys.stderr\n",
    "err"
   ]
  },
  {
   "cell_type": "code",
   "execution_count": 52,
   "id": "a601e689-87be-4262-a38c-d1814e57a285",
   "metadata": {},
   "outputs": [],
   "source": [
    "ignore_errors = False"
   ]
  },
  {
   "cell_type": "code",
   "execution_count": 54,
   "id": "39a6457e-a73e-4796-9a69-1e5c7bf70818",
   "metadata": {},
   "outputs": [
    {
     "data": {
      "application/vnd.jupyter.widget-view+json": {
       "model_id": "796c330f128f47a69215635b78c104e8",
       "version_major": 2,
       "version_minor": 0
      },
      "text/plain": [
       "Fetching status:   0%|          | 0/22 [00:00<?, ?it/s]"
      ]
     },
     "metadata": {},
     "output_type": "display_data"
    },
    {
     "data": {
      "application/vnd.jupyter.widget-view+json": {
       "model_id": "ebd0901c202e4792baf54f4b331dbbbd",
       "version_major": 2,
       "version_minor": 0
      },
      "text/plain": [
       "Fetching labels:   0%|          | 0/22 [00:00<?, ?it/s]"
      ]
     },
     "metadata": {},
     "output_type": "display_data"
    },
    {
     "data": {
      "text/plain": [
       "([{'aggregate_id': '008bec4a5b5a9ef9dc344f7105eaf20f',\n",
       "   'groups': {'sample_lambda': {'scheduler_status': <JobStatus.unknown: 1>,\n",
       "     'completed': True,\n",
       "     'eligible': False}},\n",
       "   '_error': None},\n",
       "  {'aggregate_id': '078f235d0442f0e7e958b3ea8c50c833',\n",
       "   'groups': {'sample_lambda': {'scheduler_status': <JobStatus.unknown: 1>,\n",
       "     'completed': True,\n",
       "     'eligible': False}},\n",
       "   '_error': None},\n",
       "  {'aggregate_id': '1c793def5db2df5aa25d4e5b33433099',\n",
       "   'groups': {'sample_lambda': {'scheduler_status': <JobStatus.unknown: 1>,\n",
       "     'completed': True,\n",
       "     'eligible': False}},\n",
       "   '_error': None},\n",
       "  {'aggregate_id': '3935f4e67dd608e87a95dd6c986ce425',\n",
       "   'groups': {'sample_lambda': {'scheduler_status': <JobStatus.unknown: 1>,\n",
       "     'completed': True,\n",
       "     'eligible': False}},\n",
       "   '_error': None},\n",
       "  {'aggregate_id': '3da011627721202de75c98ee7d7b1ee0',\n",
       "   'groups': {'sample_lambda': {'scheduler_status': <JobStatus.unknown: 1>,\n",
       "     'completed': True,\n",
       "     'eligible': False}},\n",
       "   '_error': None},\n",
       "  {'aggregate_id': '4be2acf2727378dd0cf0fb2133bde592',\n",
       "   'groups': {'sample_lambda': {'scheduler_status': <JobStatus.unknown: 1>,\n",
       "     'completed': True,\n",
       "     'eligible': False}},\n",
       "   '_error': None},\n",
       "  {'aggregate_id': '5caf20eeffab1356ae64234a1827c8a2',\n",
       "   'groups': {'sample_lambda': {'scheduler_status': <JobStatus.unknown: 1>,\n",
       "     'completed': True,\n",
       "     'eligible': False}},\n",
       "   '_error': None},\n",
       "  {'aggregate_id': '787fd4be4427f6d9d5e4449d694066ea',\n",
       "   'groups': {'sample_lambda': {'scheduler_status': <JobStatus.unknown: 1>,\n",
       "     'completed': True,\n",
       "     'eligible': False}},\n",
       "   '_error': None},\n",
       "  {'aggregate_id': '8386d08f207d57df01e843652fb08c4b',\n",
       "   'groups': {'sample_lambda': {'scheduler_status': <JobStatus.unknown: 1>,\n",
       "     'completed': True,\n",
       "     'eligible': False}},\n",
       "   '_error': None},\n",
       "  {'aggregate_id': '9688a0cb9923ab0b35c10a661c9dc457',\n",
       "   'groups': {'sample_lambda': {'scheduler_status': <JobStatus.unknown: 1>,\n",
       "     'completed': True,\n",
       "     'eligible': False}},\n",
       "   '_error': None},\n",
       "  {'aggregate_id': 'a170ac4fcde84432823b6d5b6cd60c19',\n",
       "   'groups': {'sample_lambda': {'scheduler_status': <JobStatus.unknown: 1>,\n",
       "     'completed': True,\n",
       "     'eligible': False}},\n",
       "   '_error': None},\n",
       "  {'aggregate_id': 'a7304a40fcd392c23ecf5a0e97ec9ca5',\n",
       "   'groups': {'sample_lambda': {'scheduler_status': <JobStatus.unknown: 1>,\n",
       "     'completed': True,\n",
       "     'eligible': False}},\n",
       "   '_error': None},\n",
       "  {'aggregate_id': 'b55ad9cac134725c6c357bd51ec6d2ac',\n",
       "   'groups': {'sample_lambda': {'scheduler_status': <JobStatus.unknown: 1>,\n",
       "     'completed': True,\n",
       "     'eligible': False}},\n",
       "   '_error': None},\n",
       "  {'aggregate_id': 'bd5d974d8f89b9129ac781cc9370a44c',\n",
       "   'groups': {'sample_lambda': {'scheduler_status': <JobStatus.unknown: 1>,\n",
       "     'completed': True,\n",
       "     'eligible': False}},\n",
       "   '_error': None},\n",
       "  {'aggregate_id': 'c2dc7892ce1bfed56b59bab6fbe95805',\n",
       "   'groups': {'sample_lambda': {'scheduler_status': <JobStatus.unknown: 1>,\n",
       "     'completed': True,\n",
       "     'eligible': False}},\n",
       "   '_error': None},\n",
       "  {'aggregate_id': 'ceaa0cc6a29c83473f9c1398d43b02b1',\n",
       "   'groups': {'sample_lambda': {'scheduler_status': <JobStatus.unknown: 1>,\n",
       "     'completed': True,\n",
       "     'eligible': False}},\n",
       "   '_error': None},\n",
       "  {'aggregate_id': 'd06c2604a5ce048dc14296671cb1c9e3',\n",
       "   'groups': {'sample_lambda': {'scheduler_status': <JobStatus.unknown: 1>,\n",
       "     'completed': True,\n",
       "     'eligible': False}},\n",
       "   '_error': None},\n",
       "  {'aggregate_id': 'e20cbb35cde06510c86da5ee3b91d6fb',\n",
       "   'groups': {'sample_lambda': {'scheduler_status': <JobStatus.unknown: 1>,\n",
       "     'completed': True,\n",
       "     'eligible': False}},\n",
       "   '_error': None},\n",
       "  {'aggregate_id': 'ec11655cc93aeeda67053ee0b17bb2c0',\n",
       "   'groups': {'sample_lambda': {'scheduler_status': <JobStatus.unknown: 1>,\n",
       "     'completed': True,\n",
       "     'eligible': False}},\n",
       "   '_error': None},\n",
       "  {'aggregate_id': 'f7922e67f79ea1049c2f5c327a5e8193',\n",
       "   'groups': {'sample_lambda': {'scheduler_status': <JobStatus.unknown: 1>,\n",
       "     'completed': True,\n",
       "     'eligible': False}},\n",
       "   '_error': None},\n",
       "  {'aggregate_id': 'f9eee4f43ee6ea84cdc352ab3f7a4a18',\n",
       "   'groups': {'sample_lambda': {'scheduler_status': <JobStatus.unknown: 1>,\n",
       "     'completed': True,\n",
       "     'eligible': False}},\n",
       "   '_error': None},\n",
       "  {'aggregate_id': 'fb734c57ae9565777206f54960a5123c',\n",
       "   'groups': {'sample_lambda': {'scheduler_status': <JobStatus.unknown: 1>,\n",
       "     'completed': True,\n",
       "     'eligible': False}},\n",
       "   '_error': None}],\n",
       " [{'job_id': 'e20cbb35cde06510c86da5ee3b91d6fb',\n",
       "   'labels': ['all_jobs_prepared',\n",
       "    'all_lambda_states_sampled',\n",
       "    'free_energy_already_calculated',\n",
       "    'lambda_sampled',\n",
       "    'system_prepared'],\n",
       "   '_labels_error': None},\n",
       "  {'job_id': '787fd4be4427f6d9d5e4449d694066ea',\n",
       "   'labels': ['all_jobs_prepared',\n",
       "    'all_lambda_states_sampled',\n",
       "    'free_energy_already_calculated',\n",
       "    'lambda_sampled',\n",
       "    'system_prepared'],\n",
       "   '_labels_error': None},\n",
       "  {'job_id': 'b55ad9cac134725c6c357bd51ec6d2ac',\n",
       "   'labels': ['all_jobs_prepared',\n",
       "    'all_lambda_states_sampled',\n",
       "    'free_energy_already_calculated',\n",
       "    'lambda_sampled',\n",
       "    'system_prepared'],\n",
       "   '_labels_error': None},\n",
       "  {'job_id': '3da011627721202de75c98ee7d7b1ee0',\n",
       "   'labels': ['all_jobs_prepared',\n",
       "    'all_lambda_states_sampled',\n",
       "    'free_energy_already_calculated',\n",
       "    'lambda_sampled',\n",
       "    'system_prepared'],\n",
       "   '_labels_error': None},\n",
       "  {'job_id': 'a7304a40fcd392c23ecf5a0e97ec9ca5',\n",
       "   'labels': ['all_jobs_prepared',\n",
       "    'all_lambda_states_sampled',\n",
       "    'free_energy_already_calculated',\n",
       "    'lambda_sampled',\n",
       "    'system_prepared'],\n",
       "   '_labels_error': None},\n",
       "  {'job_id': '4be2acf2727378dd0cf0fb2133bde592',\n",
       "   'labels': ['all_jobs_prepared',\n",
       "    'all_lambda_states_sampled',\n",
       "    'free_energy_already_calculated',\n",
       "    'lambda_sampled',\n",
       "    'system_prepared'],\n",
       "   '_labels_error': None},\n",
       "  {'job_id': 'ceaa0cc6a29c83473f9c1398d43b02b1',\n",
       "   'labels': ['all_jobs_prepared',\n",
       "    'all_lambda_states_sampled',\n",
       "    'free_energy_already_calculated',\n",
       "    'lambda_sampled',\n",
       "    'system_prepared'],\n",
       "   '_labels_error': None},\n",
       "  {'job_id': 'f9eee4f43ee6ea84cdc352ab3f7a4a18',\n",
       "   'labels': ['all_jobs_prepared',\n",
       "    'all_lambda_states_sampled',\n",
       "    'free_energy_already_calculated',\n",
       "    'lambda_sampled',\n",
       "    'system_prepared'],\n",
       "   '_labels_error': None},\n",
       "  {'job_id': 'a170ac4fcde84432823b6d5b6cd60c19',\n",
       "   'labels': ['all_jobs_prepared',\n",
       "    'all_lambda_states_sampled',\n",
       "    'free_energy_already_calculated',\n",
       "    'lambda_sampled',\n",
       "    'system_prepared'],\n",
       "   '_labels_error': None},\n",
       "  {'job_id': '078f235d0442f0e7e958b3ea8c50c833',\n",
       "   'labels': ['all_jobs_prepared',\n",
       "    'all_lambda_states_sampled',\n",
       "    'free_energy_already_calculated',\n",
       "    'lambda_sampled',\n",
       "    'system_prepared'],\n",
       "   '_labels_error': None},\n",
       "  {'job_id': '3935f4e67dd608e87a95dd6c986ce425',\n",
       "   'labels': ['all_jobs_prepared',\n",
       "    'all_lambda_states_sampled',\n",
       "    'free_energy_already_calculated',\n",
       "    'lambda_sampled',\n",
       "    'system_prepared'],\n",
       "   '_labels_error': None},\n",
       "  {'job_id': 'ec11655cc93aeeda67053ee0b17bb2c0',\n",
       "   'labels': ['all_jobs_prepared',\n",
       "    'all_lambda_states_sampled',\n",
       "    'free_energy_already_calculated',\n",
       "    'lambda_sampled',\n",
       "    'system_prepared'],\n",
       "   '_labels_error': None},\n",
       "  {'job_id': '9688a0cb9923ab0b35c10a661c9dc457',\n",
       "   'labels': ['all_jobs_prepared',\n",
       "    'all_lambda_states_sampled',\n",
       "    'free_energy_already_calculated',\n",
       "    'lambda_sampled',\n",
       "    'system_prepared'],\n",
       "   '_labels_error': None},\n",
       "  {'job_id': '8386d08f207d57df01e843652fb08c4b',\n",
       "   'labels': ['all_jobs_prepared',\n",
       "    'all_lambda_states_sampled',\n",
       "    'free_energy_already_calculated',\n",
       "    'lambda_sampled',\n",
       "    'system_prepared'],\n",
       "   '_labels_error': None},\n",
       "  {'job_id': 'fb734c57ae9565777206f54960a5123c',\n",
       "   'labels': ['all_jobs_prepared',\n",
       "    'all_lambda_states_sampled',\n",
       "    'free_energy_already_calculated',\n",
       "    'lambda_sampled',\n",
       "    'system_prepared'],\n",
       "   '_labels_error': None},\n",
       "  {'job_id': 'bd5d974d8f89b9129ac781cc9370a44c',\n",
       "   'labels': ['all_jobs_prepared',\n",
       "    'all_lambda_states_sampled',\n",
       "    'free_energy_already_calculated',\n",
       "    'lambda_sampled',\n",
       "    'system_prepared'],\n",
       "   '_labels_error': None},\n",
       "  {'job_id': '008bec4a5b5a9ef9dc344f7105eaf20f',\n",
       "   'labels': ['all_jobs_prepared',\n",
       "    'all_lambda_states_sampled',\n",
       "    'free_energy_already_calculated',\n",
       "    'lambda_sampled',\n",
       "    'system_prepared'],\n",
       "   '_labels_error': None},\n",
       "  {'job_id': 'f7922e67f79ea1049c2f5c327a5e8193',\n",
       "   'labels': ['all_jobs_prepared',\n",
       "    'all_lambda_states_sampled',\n",
       "    'free_energy_already_calculated',\n",
       "    'lambda_sampled',\n",
       "    'system_prepared'],\n",
       "   '_labels_error': None},\n",
       "  {'job_id': '5caf20eeffab1356ae64234a1827c8a2',\n",
       "   'labels': ['all_jobs_prepared',\n",
       "    'all_lambda_states_sampled',\n",
       "    'free_energy_already_calculated',\n",
       "    'lambda_sampled',\n",
       "    'system_prepared'],\n",
       "   '_labels_error': None},\n",
       "  {'job_id': 'd06c2604a5ce048dc14296671cb1c9e3',\n",
       "   'labels': ['all_jobs_prepared',\n",
       "    'all_lambda_states_sampled',\n",
       "    'free_energy_already_calculated',\n",
       "    'lambda_sampled',\n",
       "    'system_prepared'],\n",
       "   '_labels_error': None},\n",
       "  {'job_id': '1c793def5db2df5aa25d4e5b33433099',\n",
       "   'labels': ['all_jobs_prepared',\n",
       "    'all_lambda_states_sampled',\n",
       "    'free_energy_already_calculated',\n",
       "    'lambda_sampled',\n",
       "    'system_prepared'],\n",
       "   '_labels_error': None},\n",
       "  {'job_id': 'c2dc7892ce1bfed56b59bab6fbe95805',\n",
       "   'labels': ['all_jobs_prepared',\n",
       "    'all_lambda_states_sampled',\n",
       "    'free_energy_already_calculated',\n",
       "    'lambda_sampled',\n",
       "    'system_prepared'],\n",
       "   '_labels_error': None}],\n",
       " {Job(project=AlchemicalTransformationFlow('/Users/bereau/work/projects/martignac/scripts/martini_fep'), statepoint={'solvent_name': 'W', 'solute_name': 'P6', 'lambda_state': 7}),\n",
       "  Job(project=AlchemicalTransformationFlow('/Users/bereau/work/projects/martignac/scripts/martini_fep'), statepoint={'solvent_name': 'OCO', 'solute_name': 'P6', 'lambda_state': 3}),\n",
       "  Job(project=AlchemicalTransformationFlow('/Users/bereau/work/projects/martignac/scripts/martini_fep'), statepoint={'solvent_name': 'OCO', 'solute_name': 'P6', 'lambda_state': 2}),\n",
       "  Job(project=AlchemicalTransformationFlow('/Users/bereau/work/projects/martignac/scripts/martini_fep'), statepoint={'solvent_name': 'W', 'solute_name': 'P6', 'lambda_state': 8}),\n",
       "  Job(project=AlchemicalTransformationFlow('/Users/bereau/work/projects/martignac/scripts/martini_fep'), statepoint={'solvent_name': 'W', 'solute_name': 'P6', 'lambda_state': 9}),\n",
       "  Job(project=AlchemicalTransformationFlow('/Users/bereau/work/projects/martignac/scripts/martini_fep'), statepoint={'solvent_name': 'OCO', 'solute_name': 'P6', 'lambda_state': 4}),\n",
       "  Job(project=AlchemicalTransformationFlow('/Users/bereau/work/projects/martignac/scripts/martini_fep'), statepoint={'solvent_name': 'OCO', 'solute_name': 'P6', 'lambda_state': 0}),\n",
       "  Job(project=AlchemicalTransformationFlow('/Users/bereau/work/projects/martignac/scripts/martini_fep'), statepoint={'solvent_name': 'OCO', 'solute_name': 'P6', 'lambda_state': 7}),\n",
       "  Job(project=AlchemicalTransformationFlow('/Users/bereau/work/projects/martignac/scripts/martini_fep'), statepoint={'solvent_name': 'W', 'solute_name': 'P6', 'lambda_state': 2}),\n",
       "  Job(project=AlchemicalTransformationFlow('/Users/bereau/work/projects/martignac/scripts/martini_fep'), statepoint={'solvent_name': 'W', 'solute_name': 'P6', 'lambda_state': 1}),\n",
       "  Job(project=AlchemicalTransformationFlow('/Users/bereau/work/projects/martignac/scripts/martini_fep'), statepoint={'solvent_name': 'W', 'solute_name': 'P6', 'lambda_state': 5}),\n",
       "  Job(project=AlchemicalTransformationFlow('/Users/bereau/work/projects/martignac/scripts/martini_fep'), statepoint={'solvent_name': 'OCO', 'solute_name': 'P6', 'lambda_state': 9}),\n",
       "  Job(project=AlchemicalTransformationFlow('/Users/bereau/work/projects/martignac/scripts/martini_fep'), statepoint={'solvent_name': 'W', 'solute_name': 'P6', 'lambda_state': 0}),\n",
       "  Job(project=AlchemicalTransformationFlow('/Users/bereau/work/projects/martignac/scripts/martini_fep'), statepoint={'solvent_name': 'W', 'solute_name': 'P6', 'lambda_state': 3}),\n",
       "  Job(project=AlchemicalTransformationFlow('/Users/bereau/work/projects/martignac/scripts/martini_fep'), statepoint={'solvent_name': 'OCO', 'solute_name': 'P6', 'lambda_state': 10}),\n",
       "  Job(project=AlchemicalTransformationFlow('/Users/bereau/work/projects/martignac/scripts/martini_fep'), statepoint={'solvent_name': 'W', 'solute_name': 'P6', 'lambda_state': 4}),\n",
       "  Job(project=AlchemicalTransformationFlow('/Users/bereau/work/projects/martignac/scripts/martini_fep'), statepoint={'solvent_name': 'OCO', 'solute_name': 'P6', 'lambda_state': 5}),\n",
       "  Job(project=AlchemicalTransformationFlow('/Users/bereau/work/projects/martignac/scripts/martini_fep'), statepoint={'solvent_name': 'OCO', 'solute_name': 'P6', 'lambda_state': 1}),\n",
       "  Job(project=AlchemicalTransformationFlow('/Users/bereau/work/projects/martignac/scripts/martini_fep'), statepoint={'solvent_name': 'W', 'solute_name': 'P6', 'lambda_state': 10}),\n",
       "  Job(project=AlchemicalTransformationFlow('/Users/bereau/work/projects/martignac/scripts/martini_fep'), statepoint={'solvent_name': 'OCO', 'solute_name': 'P6', 'lambda_state': 8}),\n",
       "  Job(project=AlchemicalTransformationFlow('/Users/bereau/work/projects/martignac/scripts/martini_fep'), statepoint={'solvent_name': 'W', 'solute_name': 'P6', 'lambda_state': 6}),\n",
       "  Job(project=AlchemicalTransformationFlow('/Users/bereau/work/projects/martignac/scripts/martini_fep'), statepoint={'solvent_name': 'OCO', 'solute_name': 'P6', 'lambda_state': 6})})"
      ]
     },
     "execution_count": 54,
     "metadata": {},
     "output_type": "execute_result"
    }
   ],
   "source": [
    "status_results, job_labels, individual_jobs = project._fetch_status(aggregates, err, ignore_errors)\n",
    "status_results, job_labels, individual_jobs"
   ]
  },
  {
   "cell_type": "code",
   "execution_count": 61,
   "id": "73466b33-3c88-4856-9376-fe6666b1ad4a",
   "metadata": {},
   "outputs": [
    {
     "data": {
      "text/plain": [
       "FlowGroup(name='compute_free_energy', operations='compute_free_energy',operation_directives={'compute_free_energy': {}}, submit_options='', run_options='')"
      ]
     },
     "execution_count": 61,
     "metadata": {},
     "output_type": "execute_result"
    }
   ],
   "source": [
    "project.groups[\"compute_free_energy\"]"
   ]
  },
  {
   "cell_type": "code",
   "execution_count": 34,
   "id": "6073a1f5-70df-4fcf-ac7d-70b21b94ac7a",
   "metadata": {},
   "outputs": [
    {
     "data": {
      "text/plain": [
       "{'prepare_system': FlowGroup(name='prepare_system', operations='prepare_system',operation_directives={'prepare_system': {}}, submit_options='', run_options=''),\n",
       " 'sample_lambda': FlowGroup(name='sample_lambda', operations='sample_lambda',operation_directives={'sample_lambda': {}}, submit_options='', run_options=''),\n",
       " 'compute_free_energy': FlowGroup(name='compute_free_energy', operations='compute_free_energy',operation_directives={'compute_free_energy': {}}, submit_options='', run_options='')}"
      ]
     },
     "execution_count": 34,
     "metadata": {},
     "output_type": "execute_result"
    }
   ],
   "source": [
    "project._groups"
   ]
  },
  {
   "cell_type": "code",
   "execution_count": null,
   "id": "3d9d6c11-3b10-4860-bd08-090708eb99fb",
   "metadata": {},
   "outputs": [],
   "source": [
    "project._res"
   ]
  },
  {
   "cell_type": "code",
   "execution_count": 37,
   "id": "17ebeb54-47f2-4b42-935c-599ed6699e30",
   "metadata": {},
   "outputs": [
    {
     "data": {
      "text/plain": [
       "<flow.util.misc._bidict at 0x29e7e6710>"
      ]
     },
     "execution_count": 37,
     "metadata": {},
     "output_type": "execute_result"
    }
   ],
   "source": [
    "project._group_to_aggregate_store"
   ]
  },
  {
   "cell_type": "code",
   "execution_count": 85,
   "id": "84ef1f2d-ded1-4871-8692-3466f2e22bdc",
   "metadata": {},
   "outputs": [
    {
     "data": {
      "text/plain": [
       "\u001b[0;31mSignature:\u001b[0m \u001b[0mproject\u001b[0m\u001b[0;34m.\u001b[0m\u001b[0m_register_groups\u001b[0m\u001b[0;34m(\u001b[0m\u001b[0;34m)\u001b[0m\u001b[0;34m\u001b[0m\u001b[0;34m\u001b[0m\u001b[0m\n",
       "\u001b[0;31mDocstring:\u001b[0m\n",
       "Register all groups.\n",
       "\n",
       "Operations are assigned to each group.\n",
       "\n",
       "Aggregators are created for each group and tracked in a bidirectional mapping.\n",
       "\u001b[0;31mFile:\u001b[0m      ~/work/projects/martignac/.venv/lib/python3.11/site-packages/flow/project.py\n",
       "\u001b[0;31mType:\u001b[0m      method"
      ]
     },
     "metadata": {},
     "output_type": "display_data"
    }
   ],
   "source": [
    "project._register_groups"
   ]
  },
  {
   "cell_type": "code",
   "execution_count": 82,
   "id": "3cb3dcf2-64b7-4e4a-aded-dba630e1f23b",
   "metadata": {},
   "outputs": [
    {
     "data": {
      "text/plain": [
       "<flow.project.FlowOperation at 0x29eb6cf10>"
      ]
     },
     "execution_count": 82,
     "metadata": {},
     "output_type": "execute_result"
    }
   ],
   "source": [
    "project.operations['prepare_system']"
   ]
  },
  {
   "cell_type": "code",
   "execution_count": 76,
   "id": "8de0ba66-1883-465b-98bd-d184a8e88c67",
   "metadata": {},
   "outputs": [
    {
     "data": {
      "text/plain": [
       "('prepare_system', <flow.project.FlowOperation at 0x29eb6cf10>)"
      ]
     },
     "execution_count": 76,
     "metadata": {},
     "output_type": "execute_result"
    }
   ],
   "source": [
    "list(project.operations.items())[0]"
   ]
  },
  {
   "cell_type": "code",
   "execution_count": 77,
   "id": "ac352bc6-17fb-4c23-8eac-82307e364eab",
   "metadata": {},
   "outputs": [
    {
     "data": {
      "text/plain": [
       "defaultdict(list,\n",
       "            {<function martignac.workflows.alchemical_transformation.prepare_system(*jobs)>: [<function martignac.workflows.alchemical_transformation.all_jobs_prepared(*jobs) -> bool>],\n",
       "             <function martignac.workflows.alchemical_transformation.sample_lambda(job)>: [<function martignac.workflows.alchemical_transformation.lambda_sampled(job)>],\n",
       "             <function martignac.workflows.alchemical_transformation.compute_free_energy(*jobs)>: [<function martignac.workflows.alchemical_transformation.free_energy_already_calculated(*jobs)>]})"
      ]
     },
     "execution_count": 77,
     "metadata": {},
     "output_type": "execute_result"
    }
   ],
   "source": [
    "project._collect_postconditions()"
   ]
  },
  {
   "cell_type": "code",
   "execution_count": 78,
   "id": "e13c8908-5698-478f-8c77-f3cba4cec916",
   "metadata": {},
   "outputs": [
    {
     "data": {
      "text/plain": [
       "defaultdict(list,\n",
       "            {<function martignac.workflows.alchemical_transformation.sample_lambda(job)>: [<function martignac.workflows.alchemical_transformation.system_prepared(job) -> bool>],\n",
       "             <function martignac.workflows.alchemical_transformation.compute_free_energy(*jobs)>: [<function martignac.workflows.alchemical_transformation.all_lambda_states_sampled(*jobs)>]})"
      ]
     },
     "execution_count": 78,
     "metadata": {},
     "output_type": "execute_result"
    }
   ],
   "source": [
    "project._collect_preconditions()"
   ]
  },
  {
   "cell_type": "code",
   "execution_count": 7,
   "id": "dadb29fc-63c7-4a8a-b3ee-9c90fb947e03",
   "metadata": {},
   "outputs": [
    {
     "data": {
      "text/plain": [
       "{}"
      ]
     },
     "execution_count": 7,
     "metadata": {},
     "output_type": "execute_result"
    }
   ],
   "source": [
    "forward_link_dict = {}\n",
    "for f, pre_f in  list(project._collect_preconditions().items()):\n",
    "    for f_2, post_f2 in list(project._collect_postconditions().items()):\n",
    "        if pre_f == post_f2:\n",
    "            forward_link_dict[f_2] = f\n",
    "forward_link_dict"
   ]
  },
  {
   "cell_type": "code",
   "execution_count": 8,
   "id": "0609fe7b-4019-4eaf-93d7-66e266786d5a",
   "metadata": {},
   "outputs": [
    {
     "data": {
      "text/plain": [
       "defaultdict(list,\n",
       "            {<function martignac.workflows.alchemical_transformation.sample_lambda(job)>: [<function martignac.workflows.alchemical_transformation.system_prepared(job) -> bool>],\n",
       "             <function martignac.workflows.alchemical_transformation.compute_free_energy(*jobs)>: [<function martignac.workflows.alchemical_transformation.all_lambda_states_sampled(*jobs)>]})"
      ]
     },
     "execution_count": 8,
     "metadata": {},
     "output_type": "execute_result"
    }
   ],
   "source": [
    "project._collect_preconditions()"
   ]
  },
  {
   "cell_type": "code",
   "execution_count": 9,
   "id": "c85ab97a-2a75-4cbf-8047-5dc451823033",
   "metadata": {},
   "outputs": [
    {
     "data": {
      "text/plain": [
       "[('prepare_system',\n",
       "  <function martignac.workflows.alchemical_transformation.prepare_system(*jobs)>),\n",
       " ('sample_lambda',\n",
       "  <function martignac.workflows.alchemical_transformation.sample_lambda(job)>),\n",
       " ('compute_free_energy',\n",
       "  <function martignac.workflows.alchemical_transformation.compute_free_energy(*jobs)>)]"
      ]
     },
     "execution_count": 9,
     "metadata": {},
     "output_type": "execute_result"
    }
   ],
   "source": [
    "project._collect_operations()"
   ]
  },
  {
   "cell_type": "code",
   "execution_count": 10,
   "id": "fc1ac710-b459-4492-a1b0-003111a4e762",
   "metadata": {},
   "outputs": [
    {
     "data": {
      "text/plain": [
       "{<function martignac.workflows.alchemical_transformation.prepare_system(*jobs)>: 'prepare_system',\n",
       " <function martignac.workflows.alchemical_transformation.sample_lambda(job)>: 'sample_lambda',\n",
       " <function martignac.workflows.alchemical_transformation.compute_free_energy(*jobs)>: 'compute_free_energy'}"
      ]
     },
     "execution_count": 10,
     "metadata": {},
     "output_type": "execute_result"
    }
   ],
   "source": [
    "co_func_to_name = {co_func: co_name for co_name, co_func in project._collect_operations()}\n",
    "co_func_to_name"
   ]
  },
  {
   "cell_type": "code",
   "execution_count": 11,
   "id": "9461e7a2-7d6c-41d8-9232-055964b38cec",
   "metadata": {},
   "outputs": [
    {
     "data": {
      "text/plain": [
       "{'prepare_system': <flow.project.FlowOperation at 0x105a27890>,\n",
       " 'sample_lambda': <flow.project.FlowCmdOperation at 0x16c704e50>,\n",
       " 'compute_free_energy': <flow.project.FlowOperation at 0x105a4c9d0>}"
      ]
     },
     "execution_count": 11,
     "metadata": {},
     "output_type": "execute_result"
    }
   ],
   "source": [
    "project.operations"
   ]
  },
  {
   "cell_type": "code",
   "execution_count": 12,
   "id": "643c3552-c48a-408a-9db1-b4bb0f5cd833",
   "metadata": {},
   "outputs": [
    {
     "data": {
      "text/plain": [
       "NodeView(('prepare_system', 'sample_lambda', 'compute_free_energy'))"
      ]
     },
     "execution_count": 12,
     "metadata": {},
     "output_type": "execute_result"
    }
   ],
   "source": [
    "for op_name in project.operations:\n",
    "    G.add_node(op_name, label=op_name)\n",
    "G.nodes"
   ]
  },
  {
   "cell_type": "code",
   "execution_count": 13,
   "id": "99a91a57-d25d-4f24-a4e4-8e7bbaae68ad",
   "metadata": {},
   "outputs": [
    {
     "data": {
      "text/plain": [
       "OutEdgeView([])"
      ]
     },
     "execution_count": 13,
     "metadata": {},
     "output_type": "execute_result"
    }
   ],
   "source": [
    "for op_name in project.operations:\n",
    "    for f_i, f_j in forward_link_dict.items():\n",
    "        if co_func_to_name[f_i] == op_name:\n",
    "            G.add_edge(co_func_to_name[f_i], co_func_to_name[f_j])\n",
    "G.edges"
   ]
  },
  {
   "cell_type": "code",
   "execution_count": 15,
   "id": "84d4a650-76a5-41d3-9c2f-c9a235f342b7",
   "metadata": {},
   "outputs": [
    {
     "data": {
      "image/png": "[encoded data removed]",
      "text/plain": [
       "<Figure size 640x480 with 1 Axes>"
      ]
     },
     "metadata": {},
     "output_type": "display_data"
    }
   ],
   "source": [
    "nx.draw(G, with_labels=True)\n",
    "plt.show()"
   ]
  },
  {
   "cell_type": "code",
   "execution_count": null,
   "id": "a0b2bcb0-7f24-4207-9896-f32a69ef390d",
   "metadata": {},
   "outputs": [],
   "source": []
  }
 ],
 "metadata": {
  "kernelspec": {
   "display_name": "Python 3 (ipykernel)",
   "language": "python",
   "name": "python3"
  },
  "language_info": {
   "codemirror_mode": {
    "name": "ipython",
    "version": 3
   },
   "file_extension": ".py",
   "mimetype": "text/x-python",
   "name": "python",
   "nbconvert_exporter": "python",
   "pygments_lexer": "ipython3",
   "version": "3.11.7"
  }
 },
 "nbformat": 4,
 "nbformat_minor": 5
}
