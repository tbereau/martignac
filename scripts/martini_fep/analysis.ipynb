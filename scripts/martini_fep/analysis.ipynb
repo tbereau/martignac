{
 "cells": [
  {
   "cell_type": "code",
   "execution_count": 4,
   "metadata": {
    "collapsed": true
   },
   "outputs": [],
   "source": [
    "from flow import FlowProject\n",
    "from project import MartiniProject"
   ]
  },
  {
   "cell_type": "code",
   "execution_count": 12,
   "outputs": [],
   "source": [
    "jobs = MartiniProject().find_jobs()"
   ],
   "metadata": {
    "collapsed": false
   }
  },
  {
   "cell_type": "code",
   "execution_count": 13,
   "outputs": [
    {
     "name": "stdout",
     "output_type": "stream",
     "text": [
      "591acce991221b1138cfe5343cfb1a44\n",
      "83997b1e23c22aa720eecabfc3265ec5\n",
      "01a63b22db35a5f7008102d12b70f4da\n",
      "85928b5c22176a2ebb352570568cf244\n",
      "3cd5b537b11def653cc59df3fb37c229\n",
      "f42be03154f5679bd6010a5022ad617f\n",
      "22d4866ce5bd19769f025982fa117bdd\n",
      "64d9244812a356e19738e0396c23b650\n",
      "77e0d9ffe33c41244aadc65f75139d4e\n",
      "3200e6249c43d458249916a5fe8a3614\n",
      "763ecfc477b8ee1f032e78bef797fdf6\n"
     ]
    }
   ],
   "source": [
    "for job in jobs:\n",
    "    print(job)"
   ],
   "metadata": {
    "collapsed": false
   }
  },
  {
   "cell_type": "code",
   "execution_count": 19,
   "outputs": [
    {
     "data": {
      "text/plain": "Job(project=MartiniProject('/Users/tbereau/work/research/martignac/scripts/martini_fep'), statepoint={'lambda_state': 8})"
     },
     "execution_count": 19,
     "metadata": {},
     "output_type": "execute_result"
    }
   ],
   "source": [
    "job = list(jobs)[0]\n",
    "job"
   ],
   "metadata": {
    "collapsed": false
   }
  },
  {
   "cell_type": "code",
   "execution_count": 24,
   "outputs": [],
   "source": [
    "with open(job.fn(\"run_8.xvg\")) as p:\n",
    "    lines = p.read()"
   ],
   "metadata": {
    "collapsed": false
   }
  },
  {
   "cell_type": "code",
   "execution_count": 28,
   "outputs": [
    {
     "data": {
      "text/plain": "'# This file was created Tue Jun 20 15:04:45 2023\\n# Created by:\\n#                      :-) GROMACS - '"
     },
     "execution_count": 28,
     "metadata": {},
     "output_type": "execute_result"
    }
   ],
   "source": [
    "lines[0:100]"
   ],
   "metadata": {
    "collapsed": false
   }
  },
  {
   "cell_type": "code",
   "execution_count": null,
   "outputs": [],
   "source": [],
   "metadata": {
    "collapsed": false
   }
  }
 ],
 "metadata": {
  "kernelspec": {
   "display_name": "Python 3",
   "language": "python",
   "name": "python3"
  },
  "language_info": {
   "codemirror_mode": {
    "name": "ipython",
    "version": 2
   },
   "file_extension": ".py",
   "mimetype": "text/x-python",
   "name": "python",
   "nbconvert_exporter": "python",
   "pygments_lexer": "ipython2",
   "version": "2.7.6"
  }
 },
 "nbformat": 4,
 "nbformat_minor": 0
}
