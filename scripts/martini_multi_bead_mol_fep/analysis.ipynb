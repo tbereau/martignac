{
 "cells": [
  {
   "cell_type": "code",
   "execution_count": 1,
   "metadata": {
    "ExecuteTime": {
     "end_time": "2023-12-14T08:58:06.782431Z",
     "start_time": "2023-12-14T08:58:06.765456Z"
    },
    "collapsed": false,
    "jupyter": {
     "outputs_hidden": false
    }
   },
   "outputs": [
    {
     "name": "stderr",
     "output_type": "stream",
     "text": [
      "Warning on use of the timeseries module: If the inherent timescales of the system are long compared to those being analyzed, this statistical inefficiency may be an underestimate.  The estimate presumes the use of many statistically independent samples.  Tests should be performed to assess whether this condition is satisfied.   Be cautious in the interpretation of the data.\n",
      "\n",
      "****** PyMBAR will use 64-bit JAX! *******\n",
      "* JAX is currently set to 32-bit bitsize *\n",
      "* which is its default.                  *\n",
      "*                                        *\n",
      "* PyMBAR requires 64-bit mode and WILL   *\n",
      "* enable JAX's 64-bit mode when called.  *\n",
      "*                                        *\n",
      "* This MAY cause problems with other     *\n",
      "* Uses of JAX in the same code.          *\n",
      "******************************************\n",
      "\n"
     ]
    }
   ],
   "source": [
    "import numpy as np\n",
    "import pandas as pd\n",
    "import signac\n",
    "import json\n",
    "from typing import Tuple\n",
    "from alchemlyb.parsing.gmx import extract_u_nk\n",
    "from alchemlyb.estimators import MBAR\n",
    "import matplotlib.pyplot as plt"
   ]
  },
  {
   "cell_type": "code",
   "execution_count": 2,
   "metadata": {
    "ExecuteTime": {
     "end_time": "2023-12-14T09:07:15.977358Z",
     "start_time": "2023-12-14T09:07:15.974636Z"
    },
    "collapsed": false,
    "jupyter": {
     "outputs_hidden": false
    }
   },
   "outputs": [],
   "source": [
    "temperature = 298\n",
    "with open(\"signac_project_document.json\") as pipe:\n",
    "    data = json.load(pipe)[\"free_energies\"]"
   ]
  },
  {
   "cell_type": "code",
   "execution_count": 3,
   "metadata": {
    "ExecuteTime": {
     "end_time": "2023-12-14T09:07:16.417006Z",
     "start_time": "2023-12-14T09:07:16.414351Z"
    },
    "collapsed": false,
    "jupyter": {
     "outputs_hidden": false
    }
   },
   "outputs": [
    {
     "data": {
      "text/html": [
       "<div>\n",
       "<style scoped>\n",
       "    .dataframe tbody tr th:only-of-type {\n",
       "        vertical-align: middle;\n",
       "    }\n",
       "\n",
       "    .dataframe tbody tr th {\n",
       "        vertical-align: top;\n",
       "    }\n",
       "\n",
       "    .dataframe thead th {\n",
       "        text-align: right;\n",
       "    }\n",
       "</style>\n",
       "<table border=\"1\" class=\"dataframe\">\n",
       "  <thead>\n",
       "    <tr style=\"text-align: right;\">\n",
       "      <th></th>\n",
       "      <th>solvent_name</th>\n",
       "      <th>solute_name</th>\n",
       "      <th>f_mean</th>\n",
       "      <th>f_std</th>\n",
       "    </tr>\n",
       "  </thead>\n",
       "  <tbody>\n",
       "    <tr>\n",
       "      <th>0</th>\n",
       "      <td>OCO</td>\n",
       "      <td>P6 C3 N1,0-1 1-2 0-2</td>\n",
       "      <td>12.809758</td>\n",
       "      <td>0.046527</td>\n",
       "    </tr>\n",
       "    <tr>\n",
       "      <th>1</th>\n",
       "      <td>W</td>\n",
       "      <td>P6 C3 N1,0-1 1-2 0-2</td>\n",
       "      <td>10.919100</td>\n",
       "      <td>0.053222</td>\n",
       "    </tr>\n",
       "  </tbody>\n",
       "</table>\n",
       "</div>"
      ],
      "text/plain": [
       "  solvent_name           solute_name     f_mean     f_std\n",
       "0          OCO  P6 C3 N1,0-1 1-2 0-2  12.809758  0.046527\n",
       "1            W  P6 C3 N1,0-1 1-2 0-2  10.919100  0.053222"
      ]
     },
     "execution_count": 3,
     "metadata": {},
     "output_type": "execute_result"
    }
   ],
   "source": [
    "df = pd.DataFrame(data)\n",
    "# kt_to_kj_mol = 2.479\n",
    "# df[\"f_mean\"] *= kt_to_kj_mol\n",
    "# df[\"f_std\"] *= kt_to_kj_mol\n",
    "df.sort_values(by=\"solvent_name\", ignore_index=True)"
   ]
  },
  {
   "cell_type": "code",
   "execution_count": 4,
   "metadata": {
    "ExecuteTime": {
     "end_time": "2023-12-14T09:10:32.891986Z",
     "start_time": "2023-12-14T09:10:32.873194Z"
    },
    "collapsed": false,
    "jupyter": {
     "outputs_hidden": false
    }
   },
   "outputs": [
    {
     "data": {
      "text/html": [
       "<p><strong>Project:</strong> /remote/lin62n/walter/projects/martignac-tristan/scripts/martini_multi_bead_mol_fep<br><strong>Workspace:</strong> /remote/lin62n/walter/projects/martignac-tristan/scripts/martini_multi_bead_mol_fep/workspace<br><strong>Size:</strong> 22</p><div>\n",
       "<style scoped>\n",
       "    .dataframe tbody tr th:only-of-type {\n",
       "        vertical-align: middle;\n",
       "    }\n",
       "\n",
       "    .dataframe tbody tr th {\n",
       "        vertical-align: top;\n",
       "    }\n",
       "\n",
       "    .dataframe thead th {\n",
       "        text-align: right;\n",
       "    }\n",
       "</style>\n",
       "<table border=\"1\" class=\"dataframe\">\n",
       "  <thead>\n",
       "    <tr style=\"text-align: right;\">\n",
       "      <th></th>\n",
       "      <th>sp.solvent_name</th>\n",
       "      <th>sp.solute_name</th>\n",
       "      <th>sp.lambda_state</th>\n",
       "      <th>doc.system_gro</th>\n",
       "      <th>doc.system_top</th>\n",
       "      <th>doc.solute_name</th>\n",
       "      <th>doc.solute_itp</th>\n",
       "      <th>doc.system_prepared</th>\n",
       "      <th>doc.alchemical_xvg</th>\n",
       "      <th>doc.alchemical_log</th>\n",
       "      <th>doc.solute_top</th>\n",
       "      <th>doc.solute_gro</th>\n",
       "      <th>doc.solvent_top</th>\n",
       "      <th>doc.solvent_name</th>\n",
       "      <th>doc.solvent_gro</th>\n",
       "      <th>doc.solute_solvent_top</th>\n",
       "      <th>doc.solute_solvent_gro</th>\n",
       "    </tr>\n",
       "  </thead>\n",
       "  <tbody>\n",
       "    <tr>\n",
       "      <th>409e031a357e690e3a9bfb08ad8dc62b</th>\n",
       "      <td>W</td>\n",
       "      <td>P6 C3 N1,0-1 1-2 0-2</td>\n",
       "      <td>4</td>\n",
       "      <td>solute_solvent_equ.gro</td>\n",
       "      <td>solute_solvent.top</td>\n",
       "      <td>P6C3N1</td>\n",
       "      <td>solute.itp</td>\n",
       "      <td>True</td>\n",
       "      <td>fep_run-4.xvg</td>\n",
       "      <td>fep_run-4.log</td>\n",
       "      <td>NaN</td>\n",
       "      <td>NaN</td>\n",
       "      <td>NaN</td>\n",
       "      <td>NaN</td>\n",
       "      <td>NaN</td>\n",
       "      <td>NaN</td>\n",
       "      <td>NaN</td>\n",
       "    </tr>\n",
       "    <tr>\n",
       "      <th>a055dff099fa0a47ac6e63f44229c490</th>\n",
       "      <td>OCO</td>\n",
       "      <td>P6 C3 N1,0-1 1-2 0-2</td>\n",
       "      <td>10</td>\n",
       "      <td>solute_solvent_equ.gro</td>\n",
       "      <td>solute_solvent.top</td>\n",
       "      <td>P6C3N1</td>\n",
       "      <td>solute.itp</td>\n",
       "      <td>True</td>\n",
       "      <td>fep_run-10.xvg</td>\n",
       "      <td>fep_run-10.log</td>\n",
       "      <td>NaN</td>\n",
       "      <td>NaN</td>\n",
       "      <td>NaN</td>\n",
       "      <td>NaN</td>\n",
       "      <td>NaN</td>\n",
       "      <td>NaN</td>\n",
       "      <td>NaN</td>\n",
       "    </tr>\n",
       "    <tr>\n",
       "      <th>c48fdbe0782ee3470119f42b38df5ccf</th>\n",
       "      <td>OCO</td>\n",
       "      <td>P6 C3 N1,0-1 1-2 0-2</td>\n",
       "      <td>4</td>\n",
       "      <td>solute_solvent_equ.gro</td>\n",
       "      <td>solute_solvent.top</td>\n",
       "      <td>P6C3N1</td>\n",
       "      <td>solute.itp</td>\n",
       "      <td>True</td>\n",
       "      <td>fep_run-4.xvg</td>\n",
       "      <td>fep_run-4.log</td>\n",
       "      <td>NaN</td>\n",
       "      <td>NaN</td>\n",
       "      <td>NaN</td>\n",
       "      <td>NaN</td>\n",
       "      <td>NaN</td>\n",
       "      <td>NaN</td>\n",
       "      <td>NaN</td>\n",
       "    </tr>\n",
       "    <tr>\n",
       "      <th>3554d989f726bc534b83b119e469960f</th>\n",
       "      <td>W</td>\n",
       "      <td>P6 C3 N1,0-1 1-2 0-2</td>\n",
       "      <td>7</td>\n",
       "      <td>solute_solvent_equ.gro</td>\n",
       "      <td>solute_solvent.top</td>\n",
       "      <td>P6C3N1</td>\n",
       "      <td>solute.itp</td>\n",
       "      <td>True</td>\n",
       "      <td>fep_run-7.xvg</td>\n",
       "      <td>fep_run-7.log</td>\n",
       "      <td>NaN</td>\n",
       "      <td>NaN</td>\n",
       "      <td>NaN</td>\n",
       "      <td>NaN</td>\n",
       "      <td>NaN</td>\n",
       "      <td>NaN</td>\n",
       "      <td>NaN</td>\n",
       "    </tr>\n",
       "    <tr>\n",
       "      <th>242eeeb1deb77eed29a070201f8e9b5b</th>\n",
       "      <td>W</td>\n",
       "      <td>P6 C3 N1,0-1 1-2 0-2</td>\n",
       "      <td>2</td>\n",
       "      <td>solute_solvent_equ.gro</td>\n",
       "      <td>solute_solvent.top</td>\n",
       "      <td>P6C3N1</td>\n",
       "      <td>solute.itp</td>\n",
       "      <td>True</td>\n",
       "      <td>fep_run-2.xvg</td>\n",
       "      <td>fep_run-2.log</td>\n",
       "      <td>NaN</td>\n",
       "      <td>NaN</td>\n",
       "      <td>NaN</td>\n",
       "      <td>NaN</td>\n",
       "      <td>NaN</td>\n",
       "      <td>NaN</td>\n",
       "      <td>NaN</td>\n",
       "    </tr>\n",
       "    <tr>\n",
       "      <th>...</th>\n",
       "      <td>...</td>\n",
       "      <td>...</td>\n",
       "      <td>...</td>\n",
       "      <td>...</td>\n",
       "      <td>...</td>\n",
       "      <td>...</td>\n",
       "      <td>...</td>\n",
       "      <td>...</td>\n",
       "      <td>...</td>\n",
       "      <td>...</td>\n",
       "      <td>...</td>\n",
       "      <td>...</td>\n",
       "      <td>...</td>\n",
       "      <td>...</td>\n",
       "      <td>...</td>\n",
       "      <td>...</td>\n",
       "      <td>...</td>\n",
       "    </tr>\n",
       "    <tr>\n",
       "      <th>13b4b2684186650a1a795143f2860024</th>\n",
       "      <td>OCO</td>\n",
       "      <td>P6 C3 N1,0-1 1-2 0-2</td>\n",
       "      <td>1</td>\n",
       "      <td>solute_solvent_equ.gro</td>\n",
       "      <td>solute_solvent.top</td>\n",
       "      <td>P6C3N1</td>\n",
       "      <td>solute.itp</td>\n",
       "      <td>True</td>\n",
       "      <td>fep_run-1.xvg</td>\n",
       "      <td>fep_run-1.log</td>\n",
       "      <td>NaN</td>\n",
       "      <td>NaN</td>\n",
       "      <td>NaN</td>\n",
       "      <td>NaN</td>\n",
       "      <td>NaN</td>\n",
       "      <td>NaN</td>\n",
       "      <td>NaN</td>\n",
       "    </tr>\n",
       "    <tr>\n",
       "      <th>266290c36b2b080b8bace7eed7eaa1a2</th>\n",
       "      <td>W</td>\n",
       "      <td>P6 C3 N1,0-1 1-2 0-2</td>\n",
       "      <td>10</td>\n",
       "      <td>solute_solvent_equ.gro</td>\n",
       "      <td>solute_solvent.top</td>\n",
       "      <td>P6C3N1</td>\n",
       "      <td>solute.itp</td>\n",
       "      <td>True</td>\n",
       "      <td>fep_run-10.xvg</td>\n",
       "      <td>fep_run-10.log</td>\n",
       "      <td>NaN</td>\n",
       "      <td>NaN</td>\n",
       "      <td>NaN</td>\n",
       "      <td>NaN</td>\n",
       "      <td>NaN</td>\n",
       "      <td>NaN</td>\n",
       "      <td>NaN</td>\n",
       "    </tr>\n",
       "    <tr>\n",
       "      <th>c8e2e6ae776dc725fa3cbec83991a1a1</th>\n",
       "      <td>OCO</td>\n",
       "      <td>P6 C3 N1,0-1 1-2 0-2</td>\n",
       "      <td>5</td>\n",
       "      <td>solute_solvent_equ.gro</td>\n",
       "      <td>solute_solvent.top</td>\n",
       "      <td>P6C3N1</td>\n",
       "      <td>solute.itp</td>\n",
       "      <td>True</td>\n",
       "      <td>fep_run-5.xvg</td>\n",
       "      <td>fep_run-5.log</td>\n",
       "      <td>NaN</td>\n",
       "      <td>NaN</td>\n",
       "      <td>NaN</td>\n",
       "      <td>NaN</td>\n",
       "      <td>NaN</td>\n",
       "      <td>NaN</td>\n",
       "      <td>NaN</td>\n",
       "    </tr>\n",
       "    <tr>\n",
       "      <th>9d5b30dbca5285438906215d1a0676e2</th>\n",
       "      <td>OCO</td>\n",
       "      <td>P6 C3 N1,0-1 1-2 0-2</td>\n",
       "      <td>0</td>\n",
       "      <td>solute_solvent_equ.gro</td>\n",
       "      <td>solute_solvent.top</td>\n",
       "      <td>P6C3N1</td>\n",
       "      <td>solute.itp</td>\n",
       "      <td>True</td>\n",
       "      <td>fep_run-0.xvg</td>\n",
       "      <td>fep_run-0.log</td>\n",
       "      <td>solute.top</td>\n",
       "      <td>solute_min.gro</td>\n",
       "      <td>solvent_gen_box.top</td>\n",
       "      <td>OCO</td>\n",
       "      <td>solvent_prod.gro</td>\n",
       "      <td>solute_solvent.top</td>\n",
       "      <td>solute_solvent_equ.gro</td>\n",
       "    </tr>\n",
       "    <tr>\n",
       "      <th>b7059bd8db9c723d1be635f6a43caf8f</th>\n",
       "      <td>W</td>\n",
       "      <td>P6 C3 N1,0-1 1-2 0-2</td>\n",
       "      <td>5</td>\n",
       "      <td>solute_solvent_equ.gro</td>\n",
       "      <td>solute_solvent.top</td>\n",
       "      <td>P6C3N1</td>\n",
       "      <td>solute.itp</td>\n",
       "      <td>True</td>\n",
       "      <td>fep_run-5.xvg</td>\n",
       "      <td>fep_run-5.log</td>\n",
       "      <td>NaN</td>\n",
       "      <td>NaN</td>\n",
       "      <td>NaN</td>\n",
       "      <td>NaN</td>\n",
       "      <td>NaN</td>\n",
       "      <td>NaN</td>\n",
       "      <td>NaN</td>\n",
       "    </tr>\n",
       "  </tbody>\n",
       "</table>\n",
       "<p>22 rows × 17 columns</p>\n",
       "</div>"
      ],
      "text/plain": [
       "Project('/remote/lin62n/walter/projects/martignac-tristan/scripts/martini_multi_bead_mol_fep')"
      ]
     },
     "execution_count": 4,
     "metadata": {},
     "output_type": "execute_result"
    }
   ],
   "source": [
    "project = signac.get_project()\n",
    "project"
   ]
  },
  {
   "cell_type": "code",
   "execution_count": 5,
   "metadata": {
    "ExecuteTime": {
     "end_time": "2023-12-14T09:07:18.547003Z",
     "start_time": "2023-12-14T09:07:18.543230Z"
    },
    "collapsed": false,
    "jupyter": {
     "outputs_hidden": false
    }
   },
   "outputs": [],
   "source": [
    "def compute_free_energy_for_statepoint(statepoint: dict) -> Tuple[np.ndarray, np.ndarray, np.ndarray]:\n",
    "    jobs = project.find_jobs(statepoint)\n",
    "    xvg_files = [\n",
    "        job.fn(f\"fep_run-{job.statepoint['lambda_state']}.xvg\")\n",
    "        for job in jobs\n",
    "        if 'lambda_state' in job.statepoint\n",
    "    ]\n",
    "    u_nk_list = [extract_u_nk(f, T=temperature) for f in xvg_files]\n",
    "    u_nk_combined = pd.concat(u_nk_list)\n",
    "    mbar = MBAR().fit(u_nk_combined)\n",
    "    # Extracting free energy differences between the first and last state\n",
    "    delta_f_values = mbar.delta_f_.iloc[0, :].values\n",
    "    d_delta_f_values = mbar.d_delta_f_.iloc[0, :].values\n",
    "    return delta_f_values, d_delta_f_values, mbar.delta_f_.columns.values"
   ]
  },
  {
   "cell_type": "code",
   "execution_count": 8,
   "metadata": {
    "ExecuteTime": {
     "end_time": "2023-12-14T09:07:19.675365Z",
     "start_time": "2023-12-14T09:07:19.195398Z"
    },
    "collapsed": false,
    "jupyter": {
     "outputs_hidden": false
    }
   },
   "outputs": [
    {
     "name": "stderr",
     "output_type": "stream",
     "text": [
      "\n",
      "******* JAX 64-bit mode is now on! *******\n",
      "*     JAX is now set to 64-bit mode!     *\n",
      "*   This MAY cause problems with other   *\n",
      "*      uses of JAX in the same code.     *\n",
      "******************************************\n",
      "\n",
      "WARNING: All log messages before absl::InitializeLog() is called are written to STDERR\n",
      "I0000 00:00:1703854469.817549   99415 tfrt_cpu_pjrt_client.cc:349] TfrtCpuClient created.\n",
      "No GPU/TPU found, falling back to CPU. (Set TF_CPP_MIN_LOG_LEVEL=0 and rerun for more info.)\n"
     ]
    }
   ],
   "source": [
    "delta_f_w, d_delta_f_w, states_w = compute_free_energy_for_statepoint({'solvent_name': 'W', 'solute_name': 'P6 C3 N1,0-1 1-2 0-2'})\n",
    "delta_f_oco, d_delta_f_oco, states_oco = compute_free_energy_for_statepoint({'solvent_name': 'OCO', 'solute_name': 'P6 C3 N1,0-1 1-2 0-2'})"
   ]
  },
  {
   "cell_type": "code",
   "execution_count": 9,
   "metadata": {
    "ExecuteTime": {
     "end_time": "2023-12-14T09:07:19.743995Z",
     "start_time": "2023-12-14T09:07:19.678631Z"
    },
    "collapsed": false,
    "jupyter": {
     "outputs_hidden": false
    }
   },
   "outputs": [
    {
     "data": {
      "image/png": "[encoded data removed]",
      "text/plain": [
       "<Figure size 640x480 with 1 Axes>"
      ]
     },
     "metadata": {},
     "output_type": "display_data"
    }
   ],
   "source": [
    "# Plotting free energy differences\n",
    "plt.errorbar(\n",
    "    states_w, delta_f_w, yerr=d_delta_f_w, marker='o', linestyle='-', capsize=5, label=\"water\"\n",
    ")\n",
    "plt.errorbar(\n",
    "    states_oco, delta_f_oco, yerr=d_delta_f_oco, marker='o', linestyle='-', capsize=5, label=\"octanol\"\n",
    ")\n",
    "\n",
    "plt.xlabel('State')\n",
    "plt.ylabel('Free energy difference (kT)')\n",
    "plt.title('Free energy differences between states')\n",
    "plt.legend()\n",
    "plt.grid()\n",
    "\n",
    "# Display the plot\n",
    "plt.show()"
   ]
  },
  {
   "cell_type": "code",
   "execution_count": null,
   "metadata": {
    "collapsed": false,
    "jupyter": {
     "outputs_hidden": false
    }
   },
   "outputs": [],
   "source": []
  }
 ],
 "metadata": {
  "kernelspec": {
   "display_name": "Python 3 (ipykernel)",
   "language": "python",
   "name": "python3"
  },
  "language_info": {
   "codemirror_mode": {
    "name": "ipython",
    "version": 3
   },
   "file_extension": ".py",
   "mimetype": "text/x-python",
   "name": "python",
   "nbconvert_exporter": "python",
   "pygments_lexer": "ipython3",
   "version": "3.11.5"
  }
 },
 "nbformat": 4,
 "nbformat_minor": 4
}
