{
 "cells": [
  {
   "cell_type": "code",
   "execution_count": 1,
   "id": "d76ca878-6cbd-4df0-bd4d-e16c5a8f30e2",
   "metadata": {},
   "outputs": [
    {
     "name": "stderr",
     "output_type": "stream",
     "text": [
      "24-02-28 21:46:49 - MDAnalysis.coordinates.AMBER - WARNING - netCDF4 is not available. Writing AMBER ncdf files will be slow.\n"
     ]
    }
   ],
   "source": [
    "from pprint import pprint\n",
    "import networkx as nx\n",
    "import matplotlib.pyplot as plt\n",
    "from martignac.workflows.solute_generation import SoluteGenFlow\n",
    "from martignac.nomad.uploads import get_upload_by_id\n",
    "from martignac.nomad.datasets import get_dataset_by_id\n",
    "from martignac.nomad.users import get_user_by_id\n",
    "from martignac.nomad.entries import query_entries"
   ]
  },
  {
   "cell_type": "code",
   "execution_count": 2,
   "id": "bc89c826-42e2-425b-beba-35aa4ce030f0",
   "metadata": {},
   "outputs": [
    {
     "name": "stderr",
     "output_type": "stream",
     "text": [
      "24-02-28 21:46:49 - martignac.nomad.utils - INFO - Sending get request @ https://nomad-lab.eu/prod/v1/test/api/v1/datasets/?dataset_id=HJdEI1q4SV-c5Di43BTT_Q&page_size=10\n",
      "24-02-28 21:46:50 - martignac.nomad.users - INFO - retrieving user 30d3a108-d2cc-45ec-9ddb-0c1dc6a2c99b on prod server\n",
      "24-02-28 21:46:50 - martignac.nomad.utils - INFO - Sending get request @ https://nomad-lab.eu/prod/v1/test/api/v1/users/30d3a108-d2cc-45ec-9ddb-0c1dc6a2c99b\n"
     ]
    },
    {
     "data": {
      "text/plain": [
       "NomadDataset(dataset_id='HJdEI1q4SV-c5Di43BTT_Q', dataset_create_time=datetime.datetime(2024, 2, 14, 9, 39, 55, 876000), dataset_name='Martignac test dataset', dataset_type='DatasetType.owned', dataset_modified_time=datetime.datetime(2024, 2, 14, 9, 39, 55, 876000), user=NomadUser(name='Tristan Bereau'), doi=None, pid=None, m_annotations=None)"
      ]
     },
     "execution_count": 2,
     "metadata": {},
     "output_type": "execute_result"
    }
   ],
   "source": [
    "dataset = get_dataset_by_id(\"HJdEI1q4SV-c5Di43BTT_Q\", use_prod=False)\n",
    "dataset"
   ]
  },
  {
   "cell_type": "code",
   "execution_count": 3,
   "id": "cd48c8c8-c1f9-4386-ae78-a056e7c29c0b",
   "metadata": {},
   "outputs": [
    {
     "data": {
      "text/plain": [
       "'HJdEI1q4SV-c5Di43BTT_Q'"
      ]
     },
     "execution_count": 3,
     "metadata": {},
     "output_type": "execute_result"
    }
   ],
   "source": [
    "dataset.dataset_id"
   ]
  },
  {
   "cell_type": "code",
   "execution_count": 5,
   "id": "c4d91b3a-7548-4f63-bda1-483617353aa0",
   "metadata": {},
   "outputs": [
    {
     "name": "stderr",
     "output_type": "stream",
     "text": [
      "24-02-28 21:47:18 - martignac.nomad.utils - INFO - Sending post request @ https://nomad-lab.eu/prod/v1/test/api/v1/entries/query\n",
      "24-02-28 21:47:18 - martignac.nomad.entries - INFO - retrieving entry IWfLp8VCyT7z9t3BtVy21Q5WZSRW on test server\n",
      "24-02-28 21:47:18 - martignac.nomad.utils - INFO - Sending get request @ https://nomad-lab.eu/prod/v1/test/api/v1/entries/IWfLp8VCyT7z9t3BtVy21Q5WZSRW\n"
     ]
    },
    {
     "name": "stdout",
     "output_type": "stream",
     "text": [
      "[NomadEntry(entry_id='IWfLp8VCyT7z9t3BtVy21Q5WZSRW',\n",
      "            upload_id='Hbwh9S0-RLehQIh90nfhAQ',\n",
      "            references=[],\n",
      "            origin='Tristan Bereau',\n",
      "            n_quantities=0,\n",
      "            nomad_version='1.2.2.dev365+g0c980916a',\n",
      "            upload_create_time=datetime.datetime(2024, 2, 14, 9, 43, 58, 640000, tzinfo=datetime.timezone(datetime.timedelta(0), '+0000')),\n",
      "            nomad_commit='',\n",
      "            processing_errors=['Error creating MDAnalysis universe.',\n",
      "                               'Error creating MDAnalysis universe.',\n",
      "                               'Error creating MDAnalysis universe.',\n",
      "                               'Error parsing interactions.',\n",
      "                               'Error creating MDAnalysis universe.',\n",
      "                               'Error creating MDAnalysis universe.',\n",
      "                               'Error creating MDAnalysis universe.',\n",
      "                               'Error creating MDAnalysis universe.',\n",
      "                               'Error creating MDAnalysis universe.',\n",
      "                               'Error creating MDAnalysis universe.',\n",
      "                               'Error creating MDAnalysis universe.'],\n",
      "            entry_name='GROMACS MolecularDynamics simulation',\n",
      "            last_processing_time=datetime.datetime(2024, 2, 14, 9, 43, 59, 911000, tzinfo=datetime.timezone(datetime.timedelta(0), '+0000')),\n",
      "            parser_name='parsers/gromacs',\n",
      "            calc_id='IWfLp8VCyT7z9t3BtVy21Q5WZSRW',\n",
      "            published=True,\n",
      "            writers=[NomadUser(name='Tristan Bereau')],\n",
      "            processed=True,\n",
      "            mainfile='008bec4a5b5a9ef9dc344f7105eaf20f/fep_run-7.log',\n",
      "            main_author=NomadUser(name='Tristan Bereau'),\n",
      "            entry_create_time=datetime.datetime(2024, 2, 14, 9, 43, 59, 527000, tzinfo=datetime.timezone(datetime.timedelta(0), '+0000')),\n",
      "            with_embargo=False,\n",
      "            entry_type='GROMACS MolecularDynamics',\n",
      "            license='CC BY 4.0',\n",
      "            domain='dft',\n",
      "            comment=None,\n",
      "            upload_name=None,\n",
      "            text_search_contents=[],\n",
      "            publish_time=datetime.datetime(2024, 2, 14, 12, 23, 57, 957000, tzinfo=datetime.timezone(datetime.timedelta(0), '+0000')),\n",
      "            entry_references=None)]\n"
     ]
    }
   ],
   "source": [
    "nomad_entries = query_entries(dataset_id=dataset.dataset_id, use_prod=False)\n",
    "pprint(nomad_entries)"
   ]
  },
  {
   "cell_type": "code",
   "execution_count": null,
   "id": "47088eb3-feeb-4b1c-8b71-a81c6d9c2147",
   "metadata": {},
   "outputs": [],
   "source": []
  }
 ],
 "metadata": {
  "kernelspec": {
   "display_name": "Python 3 (ipykernel)",
   "language": "python",
   "name": "python3"
  },
  "language_info": {
   "codemirror_mode": {
    "name": "ipython",
    "version": 3
   },
   "file_extension": ".py",
   "mimetype": "text/x-python",
   "name": "python",
   "nbconvert_exporter": "python",
   "pygments_lexer": "ipython3",
   "version": "3.11.7"
  }
 },
 "nbformat": 4,
 "nbformat_minor": 5
}
