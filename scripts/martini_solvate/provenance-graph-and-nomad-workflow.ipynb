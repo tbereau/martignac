{
 "cells": [
  {
   "cell_type": "code",
   "execution_count": 1,
   "id": "eff8a453-1990-4134-a6f9-0eb5251ae610",
   "metadata": {},
   "outputs": [
    {
     "name": "stderr",
     "output_type": "stream",
     "text": [
      "24-02-23 10:36:51 - MDAnalysis.coordinates.AMBER - WARNING - netCDF4 is not available. Writing AMBER ncdf files will be slow.\n"
     ]
    }
   ],
   "source": [
    "import yaml\n",
    "import networkx as nx\n",
    "import matplotlib.pyplot as plt\n",
    "from martignac.workflows.solute_solvation import SoluteSolvationFlow\n",
    "from martignac.nomad.workflows import NomadWorkflow"
   ]
  },
  {
   "cell_type": "code",
   "execution_count": 2,
   "id": "6c612de8-2e1a-4fdc-9629-062724fa525c",
   "metadata": {},
   "outputs": [
    {
     "name": "stderr",
     "output_type": "stream",
     "text": [
      "24-02-23 10:36:53 - numexpr.utils - INFO - Note: NumExpr detected 10 cores but \"NUMEXPR_MAX_THREADS\" not set, so enforcing safe limit of 8.\n",
      "24-02-23 10:36:53 - numexpr.utils - INFO - NumExpr defaulting to 8 threads.\n"
     ]
    },
    {
     "data": {
      "text/html": [
       "<p><strong>Project:</strong> /Users/bereau/work/projects/martignac/scripts/martini_solvate<br><strong>Workspace:</strong> /Users/bereau/work/projects/martignac/scripts/martini_solvate/workspace<br><strong>Size:</strong> 1</p><div>\n",
       "<style scoped>\n",
       "    .dataframe tbody tr th:only-of-type {\n",
       "        vertical-align: middle;\n",
       "    }\n",
       "\n",
       "    .dataframe tbody tr th {\n",
       "        vertical-align: top;\n",
       "    }\n",
       "\n",
       "    .dataframe thead th {\n",
       "        text-align: right;\n",
       "    }\n",
       "</style>\n",
       "<table border=\"1\" class=\"dataframe\">\n",
       "  <thead>\n",
       "    <tr style=\"text-align: right;\">\n",
       "      <th></th>\n",
       "      <th>sp.solvent_name</th>\n",
       "      <th>sp.solute_name</th>\n",
       "      <th>doc.solute_itp</th>\n",
       "      <th>doc.solute_top</th>\n",
       "      <th>doc.solute_name</th>\n",
       "      <th>doc.gromacs_logs</th>\n",
       "      <th>doc.solute_gro</th>\n",
       "      <th>doc.nomad_workflow</th>\n",
       "      <th>doc.solvent_top</th>\n",
       "      <th>doc.solvent_name</th>\n",
       "      <th>doc.solvent_gro</th>\n",
       "      <th>doc.solute_solvent_top</th>\n",
       "      <th>doc.solute_solvent_gro</th>\n",
       "    </tr>\n",
       "  </thead>\n",
       "  <tbody>\n",
       "    <tr>\n",
       "      <th>e2ca9c695e8e441801a69128c7a26dd3</th>\n",
       "      <td>HD</td>\n",
       "      <td>P6</td>\n",
       "      <td>solute.itp</td>\n",
       "      <td>solute.top</td>\n",
       "      <td>P6</td>\n",
       "      <td>{'SoluteGenFlow': {'minimize': 'solute_min.log...</td>\n",
       "      <td>solute_min.gro</td>\n",
       "      <td>{'SoluteGenFlow': 'solute_generation.archive.y...</td>\n",
       "      <td>solvent_gen_box.top</td>\n",
       "      <td>HD</td>\n",
       "      <td>solvent_prod.gro</td>\n",
       "      <td>solute_solvent.top</td>\n",
       "      <td>solute_solvent_equ.gro</td>\n",
       "    </tr>\n",
       "  </tbody>\n",
       "</table>\n",
       "</div>"
      ],
      "text/plain": [
       "SoluteSolvationFlow('/Users/bereau/work/projects/martignac/scripts/martini_solvate')"
      ]
     },
     "execution_count": 2,
     "metadata": {},
     "output_type": "execute_result"
    }
   ],
   "source": [
    "project = SoluteSolvationFlow.get_project()\n",
    "project"
   ]
  },
  {
   "cell_type": "code",
   "execution_count": 3,
   "id": "82139b54-1c06-4be8-8a48-db8f332ecaec",
   "metadata": {},
   "outputs": [
    {
     "data": {
      "text/plain": [
       "'SoluteSolvationFlow'"
      ]
     },
     "execution_count": 3,
     "metadata": {},
     "output_type": "execute_result"
    }
   ],
   "source": [
    "project.__class__.__name__"
   ]
  },
  {
   "cell_type": "code",
   "execution_count": 4,
   "id": "32135727-97fc-4f66-9cbe-e215d24fb951",
   "metadata": {},
   "outputs": [
    {
     "data": {
      "text/plain": [
       "[('generate_solute',\n",
       "  <function martignac.workflows.solute_solvation.generate_solute(job)>),\n",
       " ('generate_solvent',\n",
       "  <function martignac.workflows.solute_solvation.generate_solvent(job)>),\n",
       " ('solvate', <function martignac.workflows.solute_solvation.solvate(job)>),\n",
       " ('minimize', <function martignac.workflows.solute_solvation.minimize(job)>),\n",
       " ('equilibrate',\n",
       "  <function martignac.workflows.solute_solvation.equilibrate(job)>),\n",
       " ('generate_nomad_workflow',\n",
       "  <function martignac.workflows.solute_solvation.generate_nomad_workflow(job)>)]"
      ]
     },
     "execution_count": 4,
     "metadata": {},
     "output_type": "execute_result"
    }
   ],
   "source": [
    "project._collect_operations()"
   ]
  },
  {
   "cell_type": "code",
   "execution_count": 5,
   "id": "3d0c2935-7e9e-4561-b1b1-a871dede7116",
   "metadata": {},
   "outputs": [
    {
     "data": {
      "text/plain": [
       "defaultdict(list,\n",
       "            {<function martignac.workflows.solute_solvation.solvate(job)>: [<function martignac.workflows.solute_solvation.solute_generated(job) -> bool>,\n",
       "              <function martignac.workflows.solute_solvation.solvent_generated(job) -> bool>],\n",
       "             <function martignac.workflows.solute_solvation.minimize(job)>: [<function martignac.workflows.solute_solvation.system_generated(job)>],\n",
       "             <function martignac.workflows.solute_solvation.equilibrate(job)>: [<function martignac.workflows.solute_solvation.system_minimized(job)>],\n",
       "             <function martignac.workflows.solute_solvation.generate_nomad_workflow(job)>: [<function martignac.workflows.solute_solvation.system_equilibrated(job)>]})"
      ]
     },
     "execution_count": 5,
     "metadata": {},
     "output_type": "execute_result"
    }
   ],
   "source": [
    "project._collect_preconditions()"
   ]
  },
  {
   "cell_type": "code",
   "execution_count": 6,
   "id": "65f7ec72-eb34-435d-9441-c75e6aee71a8",
   "metadata": {},
   "outputs": [
    {
     "data": {
      "text/plain": [
       "defaultdict(list,\n",
       "            {<function martignac.workflows.solute_solvation.generate_solute(job)>: [<function martignac.workflows.solute_solvation.solute_generated(job) -> bool>],\n",
       "             <function martignac.workflows.solute_solvation.generate_solvent(job)>: [<function martignac.workflows.solute_solvation.solvent_generated(job) -> bool>],\n",
       "             <function martignac.workflows.solute_solvation.solvate(job)>: [<function martignac.workflows.solute_solvation.system_generated(job)>],\n",
       "             <function martignac.workflows.solute_solvation.minimize(job)>: [<function martignac.workflows.solute_solvation.system_minimized(job)>],\n",
       "             <function martignac.workflows.solute_solvation.equilibrate(job)>: [<function martignac.workflows.solute_solvation.system_equilibrated(job)>],\n",
       "             <function martignac.workflows.solute_solvation.generate_nomad_workflow(job)>: [<function martignac.workflows.solute_solvation.<lambda>(job)>]})"
      ]
     },
     "execution_count": 6,
     "metadata": {},
     "output_type": "execute_result"
    }
   ],
   "source": [
    "project._collect_postconditions()"
   ]
  },
  {
   "cell_type": "code",
   "execution_count": 7,
   "id": "07c7f44c-990e-4685-b073-ef0671872555",
   "metadata": {},
   "outputs": [
    {
     "data": {
      "text/plain": [
       "[Job(project=SoluteSolvationFlow('/Users/bereau/work/projects/martignac/scripts/martini_solvate'), statepoint={'solvent_name': 'HD', 'solute_name': 'P6'})]"
      ]
     },
     "execution_count": 7,
     "metadata": {},
     "output_type": "execute_result"
    }
   ],
   "source": [
    "jobs = list(project.find_jobs())\n",
    "jobs"
   ]
  },
  {
   "cell_type": "code",
   "execution_count": 8,
   "id": "8b3e11ed-4b32-413b-b6cd-052d7eb963de",
   "metadata": {},
   "outputs": [
    {
     "data": {
      "text/plain": [
       "Job(project=SoluteSolvationFlow('/Users/bereau/work/projects/martignac/scripts/martini_solvate'), statepoint={'solvent_name': 'HD', 'solute_name': 'P6'})"
      ]
     },
     "execution_count": 8,
     "metadata": {},
     "output_type": "execute_result"
    }
   ],
   "source": [
    "job = jobs[0]\n",
    "job"
   ]
  },
  {
   "cell_type": "code",
   "execution_count": 6,
   "id": "1775145c-24e7-47a0-95e4-4c804d0cedbb",
   "metadata": {},
   "outputs": [
    {
     "data": {
      "text/plain": [
       "'SoluteSolvationFlow'"
      ]
     },
     "execution_count": 6,
     "metadata": {},
     "output_type": "execute_result"
    }
   ],
   "source": [
    "job.project.__class__.__name__"
   ]
  },
  {
   "cell_type": "code",
   "execution_count": 7,
   "id": "41f26ffc-99b7-4d16-bc6b-d772427285dd",
   "metadata": {},
   "outputs": [
    {
     "data": {
      "text/plain": [
       "NomadWorkflow(project=SoluteSolvationFlow('/Users/bereau/work/projects/martignac/scripts/martini_solvate'), job=Job(project=SoluteSolvationFlow('/Users/bereau/work/projects/martignac/scripts/martini_solvate'), statepoint={'solvent_name': 'HD', 'solute_name': 'P6'}), input_projects=None)"
      ]
     },
     "execution_count": 7,
     "metadata": {},
     "output_type": "execute_result"
    }
   ],
   "source": [
    "workflow = NomadWorkflow(project, jobs[0])\n",
    "workflow"
   ]
  },
  {
   "cell_type": "code",
   "execution_count": 8,
   "id": "51ec8da7-cb37-4413-94df-b52e194b6053",
   "metadata": {},
   "outputs": [
    {
     "data": {
      "image/png": "[encoded data removed]",
      "text/plain": [
       "<Figure size 640x480 with 1 Axes>"
      ]
     },
     "metadata": {},
     "output_type": "display_data"
    }
   ],
   "source": [
    "graph = workflow.graph\n",
    "nx.draw(graph, with_labels=True)\n",
    "plt.show()"
   ]
  },
  {
   "cell_type": "code",
   "execution_count": null,
   "id": "16d9a94c-f409-4f95-b2d9-cc1232972503",
   "metadata": {},
   "outputs": [],
   "source": []
  }
 ],
 "metadata": {
  "kernelspec": {
   "display_name": "Python 3 (ipykernel)",
   "language": "python",
   "name": "python3"
  },
  "language_info": {
   "codemirror_mode": {
    "name": "ipython",
    "version": 3
   },
   "file_extension": ".py",
   "mimetype": "text/x-python",
   "name": "python",
   "nbconvert_exporter": "python",
   "pygments_lexer": "ipython3",
   "version": "3.11.7"
  }
 },
 "nbformat": 4,
 "nbformat_minor": 5
}
