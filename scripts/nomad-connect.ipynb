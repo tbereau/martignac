{
 "cells": [
  {
   "cell_type": "code",
   "execution_count": 7,
   "id": "5b61ae24-1167-4c82-b725-3057a75af35e",
   "metadata": {},
   "outputs": [],
   "source": [
    "from pprint import pprint\n",
    "import json\n",
    "import os\n",
    "\n",
    "from martignac.nomad.utils import get_nomad_request, post_nomad_request\n",
    "from martignac.nomad.entries import get_entry_by_id, query_entries\n",
    "from martignac.nomad.datasets import retrieve_datasets, create_dataset, delete_dataset\n",
    "from martignac.nomad.uploads import upload_files_to_nomad, get_upload_by_id, publish_upload, edit_upload_metadata\n",
    "from martignac.nomad.users import get_user_by_id\n",
    "from martignac.nomad.queries import query_entries_in_mini_format, find_mini_queries_corresponding_to_job"
   ]
  },
  {
   "cell_type": "code",
   "execution_count": 3,
   "id": "40404c92-c1b1-4952-b156-f79d9e0f7b9e",
   "metadata": {},
   "outputs": [
    {
     "name": "stderr",
     "output_type": "stream",
     "text": [
      "24-08-20 19:43:33 - martignac.nomad.users - INFO - retrieving user 30d3a108-d2cc-45ec-9ddb-0c1dc6a2c99b on prod server\n",
      "24-08-20 19:43:33 - martignac.nomad.utils - INFO - Sending get request @ https://nomad-lab.eu/prod/v1/test/api/v1/users/30d3a108-d2cc-45ec-9ddb-0c1dc6a2c99b\n"
     ]
    },
    {
     "data": {
      "text/plain": [
       "NomadUser(name='Tristan Bereau')"
      ]
     },
     "execution_count": 3,
     "metadata": {},
     "output_type": "execute_result"
    }
   ],
   "source": [
    "nomad_user_me = get_user_by_id(\"30d3a108-d2cc-45ec-9ddb-0c1dc6a2c99b\")\n",
    "nomad_user_me"
   ]
  },
  {
   "cell_type": "code",
   "execution_count": 2,
   "id": "1f38afd7-609a-4727-bfbd-de4c44b3e236",
   "metadata": {},
   "outputs": [
    {
     "name": "stderr",
     "output_type": "stream",
     "text": [
      "24-02-14 10:43:55 - martignac.nomad.uploads - INFO - uploading file ./martini_fep/workspace/008bec4a5b5a9ef9dc344f7105eaf20f.zip on test server\n",
      "24-02-14 10:43:55 - martignac.nomad.utils - INFO - Requesting authentication token @ https://nomad-lab.eu/prod/v1/test/api/v1\n",
      "24-02-14 10:43:56 - martignac.nomad.utils - INFO - Sending post request @ https://nomad-lab.eu/prod/v1/test/api/v1/uploads\n",
      "24-02-14 10:43:56 - martignac.nomad.uploads - INFO - successful upload to Hbwh9S0-RLehQIh90nfhAQ\n"
     ]
    },
    {
     "data": {
      "text/plain": [
       "'Hbwh9S0-RLehQIh90nfhAQ'"
      ]
     },
     "execution_count": 2,
     "metadata": {},
     "output_type": "execute_result"
    }
   ],
   "source": [
    "upload_id = upload_files_to_nomad('./martini_fep/workspace/008bec4a5b5a9ef9dc344f7105eaf20f.zip')\n",
    "upload_id"
   ]
  },
  {
   "cell_type": "code",
   "execution_count": 3,
   "id": "48461679-8492-4b4b-bd85-4d8f5a5466bb",
   "metadata": {},
   "outputs": [
    {
     "name": "stderr",
     "output_type": "stream",
     "text": [
      "24-08-16 15:12:16 - martignac.nomad.uploads - INFO - retrieving upload Hbwh9S0-RLehQIh90nfhAQ on test server\n",
      "24-08-16 15:12:16 - martignac.nomad.utils - INFO - Sending get request @ https://nomad-lab.eu/prod/v1/test/api/v1/uploads/Hbwh9S0-RLehQIh90nfhAQ\n",
      "24-08-16 15:12:16 - martignac.nomad.utils - INFO - Requesting authentication token @ https://nomad-lab.eu/prod/v1/test/api/v1\n",
      "24-08-16 15:12:17 - martignac.nomad.users - INFO - retrieving user 30d3a108-d2cc-45ec-9ddb-0c1dc6a2c99b on prod server\n",
      "24-08-16 15:12:17 - martignac.nomad.utils - INFO - Sending get request @ https://nomad-lab.eu/prod/v1/test/api/v1/users/30d3a108-d2cc-45ec-9ddb-0c1dc6a2c99b\n"
     ]
    },
    {
     "name": "stdout",
     "output_type": "stream",
     "text": [
      "NomadUpload(upload_id='Hbwh9S0-RLehQIh90nfhAQ', upload_create_time=datetime.datetime(2024, 2, 14, 9, 43, 58, 640000), main_author=NomadUser(name='Tristan Bereau'), process_running=False, current_process='edit_upload_metadata', process_status='SUCCESS', last_status_message='Process edit_upload_metadata completed successfully', errors=[], warnings=[], coauthors=[], coauthor_groups=[], reviewers=[], reviewer_groups=[], writers=[NomadUser(name='Tristan Bereau')], writer_groups=[], viewers=[NomadUser(name='Tristan Bereau')], viewer_groups=[], published=True, published_to=[], with_embargo=False, embargo_length=0.0, license='CC BY 4.0', entries=1, n_entries=None, upload_files_server_path=None, publish_time=datetime.datetime(2024, 2, 14, 12, 23, 57, 957000), references=None, datasets=None, external_db=None, upload_name=None, comment=None, use_prod=False, complete_time=datetime.datetime(2024, 2, 14, 13, 9, 50, 637000))\n"
     ]
    }
   ],
   "source": [
    "nomad_upload = get_upload_by_id(\"Hbwh9S0-RLehQIh90nfhAQ\")\n",
    "pprint(nomad_upload)"
   ]
  },
  {
   "cell_type": "code",
   "execution_count": 10,
   "id": "e072fd2d-70af-4cdb-8baa-a191230c7572",
   "metadata": {},
   "outputs": [
    {
     "name": "stderr",
     "output_type": "stream",
     "text": [
      "24-02-14 14:09:50 - martignac.nomad.uploads - INFO - editing the metadata for upload Hbwh9S0-RLehQIh90nfhAQ on test server\n",
      "24-02-14 14:09:50 - martignac.nomad.utils - INFO - Sending post request @ https://nomad-lab.eu/prod/v1/test/api/v1/uploads/Hbwh9S0-RLehQIh90nfhAQ/edit\n"
     ]
    },
    {
     "data": {
      "text/plain": [
       "{'upload_id': 'Hbwh9S0-RLehQIh90nfhAQ',\n",
       " 'data': {'process_running': True,\n",
       "  'current_process': 'edit_upload_metadata',\n",
       "  'process_status': 'PENDING',\n",
       "  'last_status_message': 'Pending: edit_upload_metadata',\n",
       "  'errors': [],\n",
       "  'warnings': [],\n",
       "  'complete_time': '2024-02-14T13:09:44.461000',\n",
       "  'upload_id': 'Hbwh9S0-RLehQIh90nfhAQ',\n",
       "  'upload_create_time': '2024-02-14T09:43:58.640000',\n",
       "  'main_author': '30d3a108-d2cc-45ec-9ddb-0c1dc6a2c99b',\n",
       "  'coauthors': [],\n",
       "  'coauthor_groups': [],\n",
       "  'reviewers': [],\n",
       "  'reviewer_groups': [],\n",
       "  'writers': ['30d3a108-d2cc-45ec-9ddb-0c1dc6a2c99b'],\n",
       "  'writer_groups': [],\n",
       "  'viewers': ['30d3a108-d2cc-45ec-9ddb-0c1dc6a2c99b'],\n",
       "  'viewer_groups': [],\n",
       "  'published': True,\n",
       "  'published_to': [],\n",
       "  'publish_time': '2024-02-14T12:23:57.957000',\n",
       "  'with_embargo': False,\n",
       "  'embargo_length': 0,\n",
       "  'license': 'CC BY 4.0',\n",
       "  'entries': 1}}"
      ]
     },
     "execution_count": 10,
     "metadata": {},
     "output_type": "execute_result"
    }
   ],
   "source": [
    "edit_upload_metadata(\"Hbwh9S0-RLehQIh90nfhAQ\", dataset_id='HJdEI1q4SV-c5Di43BTT_Q', use_prod=False)"
   ]
  },
  {
   "cell_type": "code",
   "execution_count": 4,
   "id": "dfcaf730-daec-4d59-a45b-772cdc40fe86",
   "metadata": {},
   "outputs": [
    {
     "name": "stderr",
     "output_type": "stream",
     "text": [
      "24-02-14 13:23:55 - martignac.nomad.uploads - INFO - publishing upload Hbwh9S0-RLehQIh90nfhAQ on test server\n",
      "24-02-14 13:23:55 - martignac.nomad.utils - INFO - Sending post request @ https://nomad-lab.eu/prod/v1/test/api/v1/uploads/Hbwh9S0-RLehQIh90nfhAQ/action/publish\n"
     ]
    },
    {
     "data": {
      "text/plain": [
       "{'upload_id': 'Hbwh9S0-RLehQIh90nfhAQ',\n",
       " 'data': {'process_running': True,\n",
       "  'current_process': 'publish_upload',\n",
       "  'process_status': 'PENDING',\n",
       "  'last_status_message': 'Pending: publish_upload',\n",
       "  'errors': [],\n",
       "  'warnings': [],\n",
       "  'complete_time': '2024-02-14T09:44:01.513000',\n",
       "  'upload_id': 'Hbwh9S0-RLehQIh90nfhAQ',\n",
       "  'upload_create_time': '2024-02-14T09:43:58.640000',\n",
       "  'main_author': '30d3a108-d2cc-45ec-9ddb-0c1dc6a2c99b',\n",
       "  'coauthors': [],\n",
       "  'coauthor_groups': [],\n",
       "  'reviewers': [],\n",
       "  'reviewer_groups': [],\n",
       "  'writers': ['30d3a108-d2cc-45ec-9ddb-0c1dc6a2c99b'],\n",
       "  'writer_groups': [],\n",
       "  'viewers': ['30d3a108-d2cc-45ec-9ddb-0c1dc6a2c99b'],\n",
       "  'viewer_groups': [],\n",
       "  'published': False,\n",
       "  'published_to': [],\n",
       "  'with_embargo': False,\n",
       "  'embargo_length': 0,\n",
       "  'license': 'CC BY 4.0',\n",
       "  'entries': 1,\n",
       "  'upload_files_server_path': '/nomad/test/fs/staging/H/Hbwh9S0-RLehQIh90nfhAQ'}}"
      ]
     },
     "execution_count": 4,
     "metadata": {},
     "output_type": "execute_result"
    }
   ],
   "source": [
    "publish_upload(nomad_upload.upload_id, use_prod=False)"
   ]
  },
  {
   "cell_type": "code",
   "execution_count": 5,
   "id": "9a6997a1-ee41-4367-9bbb-802807ea6001",
   "metadata": {},
   "outputs": [
    {
     "name": "stderr",
     "output_type": "stream",
     "text": [
      "24-02-14 14:16:14 - martignac.nomad.utils - INFO - Sending get request @ https://nomad-lab.eu/prod/v1/test/api/v1/datasets/?user_id=30d3a108-d2cc-45ec-9ddb-0c1dc6a2c99b&page_size=10\n"
     ]
    },
    {
     "name": "stdout",
     "output_type": "stream",
     "text": [
      "[NomadDataset(dataset_id='HJdEI1q4SV-c5Di43BTT_Q',\n",
      "              dataset_create_time=datetime.datetime(2024, 2, 14, 9, 39, 55, 876000),\n",
      "              dataset_name='Martignac test dataset',\n",
      "              dataset_type='DatasetType.owned',\n",
      "              dataset_modified_time=datetime.datetime(2024, 2, 14, 9, 39, 55, 876000),\n",
      "              user=NomadUser(name='Tristan Bereau'),\n",
      "              doi=None,\n",
      "              pid=None)]\n"
     ]
    }
   ],
   "source": [
    "my_datasets = retrieve_datasets(user_id=nomad_user_me.user_id, use_prod=False, max_datasets=20)\n",
    "pprint(my_datasets)"
   ]
  },
  {
   "cell_type": "code",
   "execution_count": 4,
   "id": "e05d808f-b408-428e-a452-0ca9d6aed8cf",
   "metadata": {},
   "outputs": [
    {
     "name": "stderr",
     "output_type": "stream",
     "text": [
      "24-02-14 10:39:53 - martignac.nomad.datasets - INFO - creating dataset name Martignac test dataset on test server\n",
      "24-02-14 10:39:53 - martignac.nomad.utils - INFO - Sending post request @ https://nomad-lab.eu/prod/v1/test/api/v1/datasets/\n"
     ]
    },
    {
     "data": {
      "text/plain": [
       "'HJdEI1q4SV-c5Di43BTT_Q'"
      ]
     },
     "execution_count": 4,
     "metadata": {},
     "output_type": "execute_result"
    }
   ],
   "source": [
    "dataset_id = create_dataset(\"Martignac test dataset\")\n",
    "dataset_id"
   ]
  },
  {
   "cell_type": "code",
   "execution_count": 4,
   "id": "3ea76ed7-e729-4ca3-a609-c90856ffb176",
   "metadata": {},
   "outputs": [
    {
     "name": "stderr",
     "output_type": "stream",
     "text": [
      "24-02-14 11:52:50 - martignac.nomad.utils - INFO - Sending get request @ https://nomad-lab.eu/prod/v1/test/api/v1/datasets/?dataset_name=Martignac test dataset&page_size=10\n"
     ]
    },
    {
     "name": "stdout",
     "output_type": "stream",
     "text": [
      "[NomadDataset(dataset_id='HJdEI1q4SV-c5Di43BTT_Q',\n",
      "              dataset_create_time=datetime.datetime(2024, 2, 14, 9, 39, 55, 876000),\n",
      "              dataset_name='Martignac test dataset',\n",
      "              dataset_type='DatasetType.owned',\n",
      "              dataset_modified_time=datetime.datetime(2024, 2, 14, 9, 39, 55, 876000),\n",
      "              user=NomadUser(name='Tristan Bereau'),\n",
      "              doi=None,\n",
      "              pid=None)]\n"
     ]
    }
   ],
   "source": [
    "pprint(retrieve_datasets(dataset_name=\"Martignac test dataset\", use_prod=False, max_datasets=20))"
   ]
  },
  {
   "cell_type": "code",
   "execution_count": 3,
   "id": "6fffea97-066d-4de9-93de-99064abb17c5",
   "metadata": {},
   "outputs": [
    {
     "name": "stderr",
     "output_type": "stream",
     "text": [
      "24-02-14 14:28:24 - martignac.nomad.utils - INFO - Sending get request @ https://nomad-lab.eu/prod/v1/test/api/v1/entries/IWfLp8VCyT7z9t3BtVy21Q5WZSRW\n"
     ]
    },
    {
     "name": "stdout",
     "output_type": "stream",
     "text": [
      "NomadEntry(entry_id='IWfLp8VCyT7z9t3BtVy21Q5WZSRW',\n",
      "           upload_id='Hbwh9S0-RLehQIh90nfhAQ',\n",
      "           references=[],\n",
      "           origin='Tristan Bereau',\n",
      "           n_quantities=0,\n",
      "           nomad_version='1.2.2.dev365+g0c980916a',\n",
      "           upload_create_time=datetime.datetime(2024, 2, 14, 9, 43, 58, 640000, tzinfo=datetime.timezone(datetime.timedelta(0), '+0000')),\n",
      "           nomad_commit='',\n",
      "           processing_errors=['Error creating MDAnalysis universe.',\n",
      "                              'Error creating MDAnalysis universe.',\n",
      "                              'Error creating MDAnalysis universe.',\n",
      "                              'Error parsing interactions.',\n",
      "                              'Error creating MDAnalysis universe.',\n",
      "                              'Error creating MDAnalysis universe.',\n",
      "                              'Error creating MDAnalysis universe.',\n",
      "                              'Error creating MDAnalysis universe.',\n",
      "                              'Error creating MDAnalysis universe.',\n",
      "                              'Error creating MDAnalysis universe.',\n",
      "                              'Error creating MDAnalysis universe.'],\n",
      "           entry_name='GROMACS MolecularDynamics simulation',\n",
      "           last_processing_time=datetime.datetime(2024, 2, 14, 9, 43, 59, 911000, tzinfo=datetime.timezone(datetime.timedelta(0), '+0000')),\n",
      "           parser_name='parsers/gromacs',\n",
      "           calc_id='IWfLp8VCyT7z9t3BtVy21Q5WZSRW',\n",
      "           published=True,\n",
      "           writers=[NomadUser(name='Tristan Bereau')],\n",
      "           processed=True,\n",
      "           mainfile='008bec4a5b5a9ef9dc344f7105eaf20f/fep_run-7.log',\n",
      "           main_author=NomadUser(name='Tristan Bereau'),\n",
      "           entry_create_time=datetime.datetime(2024, 2, 14, 9, 43, 59, 527000, tzinfo=datetime.timezone(datetime.timedelta(0), '+0000')),\n",
      "           with_embargo=False,\n",
      "           domain='dft',\n",
      "           entry_type='GROMACS MolecularDynamics',\n",
      "           license='CC BY 4.0',\n",
      "           comment=None,\n",
      "           upload_name=None,\n",
      "           text_search_contents=[],\n",
      "           publish_time=datetime.datetime(2024, 2, 14, 12, 23, 57, 957000, tzinfo=datetime.timezone(datetime.timedelta(0), '+0000')))\n"
     ]
    }
   ],
   "source": [
    "entry = get_entry_by_id(\"IWfLp8VCyT7z9t3BtVy21Q5WZSRW\", with_authentication=True, use_prod=False)\n",
    "pprint(entry)"
   ]
  },
  {
   "cell_type": "code",
   "execution_count": 6,
   "id": "bc2f568e-019e-4743-b547-e3bed19ad2fd",
   "metadata": {},
   "outputs": [],
   "source": [
    "# delete_dataset(dataset_id='E5l1hls-S2SJObJXzmQCSQ')"
   ]
  },
  {
   "cell_type": "code",
   "execution_count": 4,
   "id": "bf8a6286-5e19-4a69-8030-46fc515d61f0",
   "metadata": {},
   "outputs": [
    {
     "name": "stderr",
     "output_type": "stream",
     "text": [
      "24-02-14 12:02:37 - martignac.nomad.utils - INFO - Sending post request @ https://nomad-lab.eu/prod/v1/test/api/v1/entries/query\n"
     ]
    },
    {
     "data": {
      "text/plain": [
       "[]"
      ]
     },
     "execution_count": 4,
     "metadata": {},
     "output_type": "execute_result"
    }
   ],
   "source": [
    "entry = query_entries(origin=\"Tristan Bereau\", use_prod=False)\n",
    "entry"
   ]
  },
  {
   "cell_type": "code",
   "execution_count": 3,
   "id": "879f19fb-a518-4dec-95a7-49675fde2068",
   "metadata": {},
   "outputs": [
    {
     "name": "stdout",
     "output_type": "stream",
     "text": [
      "NomadEntry(entry_id='-0cWC-cNbauZkQeHl4rDQf7ttiEL',\n",
      "           upload_id='gfMPbAADR_agE8pKdhckzQ',\n",
      "           references=['https://doi.org/10.1063/5.0104914',\n",
      "                       'http://doi.org/10.5281/zenodo.6032826'],\n",
      "           origin='Joseph Rudzinski',\n",
      "           n_quantities=352261,\n",
      "           nomad_version='1.2.0rc1.dev228+gfc977c55e',\n",
      "           upload_create_time=datetime.datetime(2023, 7, 4, 14, 59, 35, 670000, tzinfo=datetime.timezone(datetime.timedelta(0), '+0000')),\n",
      "           nomad_commit='',\n",
      "           processing_errors=[],\n",
      "           entry_name='C2800H5280O800 GROMACS MolecularDynamics simulation',\n",
      "           last_processing_time=datetime.datetime(2023, 7, 4, 15, 55, 4, 750000, tzinfo=datetime.timezone(datetime.timedelta(0), '+0000')),\n",
      "           parser_name='parsers/gromacs',\n",
      "           calc_id='-0cWC-cNbauZkQeHl4rDQf7ttiEL',\n",
      "           published=True,\n",
      "           writers=[NomadUser(name='Joseph Rudzinski'),\n",
      "                    NomadUser(name='Tristan Bereau'),\n",
      "                    NomadUser(name='Kiran Kanekal')],\n",
      "           processed=True,\n",
      "           mainfile='NOMAD_upload_16/MOL3/MOL17/MOL3_80_MOL17_320/EQ3.log',\n",
      "           main_author=NomadUser(name='Joseph Rudzinski'),\n",
      "           entry_create_time=datetime.datetime(2023, 7, 4, 15, 4, 46, 922000, tzinfo=datetime.timezone(datetime.timedelta(0), '+0000')),\n",
      "           with_embargo=False,\n",
      "           domain='dft',\n",
      "           comment='Atomistic simulations of C7O2_Isomers. These simulations '\n",
      "                   'are regenerations of the data used in '\n",
      "                   'https://doi.org/10.1063/5.0104914. Note that production '\n",
      "                   'simulations were shortened to 20 ns each.',\n",
      "           entry_type='GROMACS MolecularDynamics',\n",
      "           upload_name='Atomistic_Sims_of_C7O2_Isomers_Upload_16',\n",
      "           license='CC BY 4.0')\n"
     ]
    }
   ],
   "source": [
    "pprint(entry)"
   ]
  },
  {
   "cell_type": "code",
   "execution_count": null,
   "id": "87c80359-cced-405a-985e-6a4bd6e6a1be",
   "metadata": {},
   "outputs": [],
   "source": []
  }
 ],
 "metadata": {
  "kernelspec": {
   "display_name": "Python 3 (ipykernel)",
   "language": "python",
   "name": "python3"
  },
  "language_info": {
   "codemirror_mode": {
    "name": "ipython",
    "version": 3
   },
   "file_extension": ".py",
   "mimetype": "text/x-python",
   "name": "python",
   "nbconvert_exporter": "python",
   "pygments_lexer": "ipython3",
   "version": "3.9.19"
  }
 },
 "nbformat": 4,
 "nbformat_minor": 5
}
