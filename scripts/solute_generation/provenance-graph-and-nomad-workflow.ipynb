{
 "cells": [
  {
   "cell_type": "code",
   "execution_count": 19,
   "id": "eff8a453-1990-4134-a6f9-0eb5251ae610",
   "metadata": {},
   "outputs": [],
   "source": [
    "import yaml\n",
    "from pprint import pprint\n",
    "import networkx as nx\n",
    "import matplotlib.pyplot as plt\n",
    "from martignac.workflows.solute_generation import project\n",
    "from martignac.nomad.workflows import NomadWorkflow\n",
    "from martignac.nomad.uploads import get_upload_by_id\n",
    "from martignac.nomad.datasets import get_dataset_by_id\n",
    "from martignac.nomad.users import get_user_by_id"
   ]
  },
  {
   "cell_type": "code",
   "execution_count": 20,
   "id": "a334ec0f-b657-4460-969f-203c12d4c8f9",
   "metadata": {},
   "outputs": [
    {
     "name": "stderr",
     "output_type": "stream",
     "text": [
      "24-05-01 13:57:53 - martignac.nomad.utils - INFO - Sending get request @ https://nomad-lab.eu/prod/v1/test/api/v1/datasets/?dataset_id=HJdEI1q4SV-c5Di43BTT_Q&page_size=10\n",
      "24-05-01 13:57:53 - martignac.nomad.users - INFO - retrieving user 30d3a108-d2cc-45ec-9ddb-0c1dc6a2c99b on prod server\n",
      "24-05-01 13:57:53 - martignac.nomad.utils - INFO - Sending get request @ https://nomad-lab.eu/prod/v1/test/api/v1/users/30d3a108-d2cc-45ec-9ddb-0c1dc6a2c99b\n"
     ]
    },
    {
     "data": {
      "text/plain": [
       "NomadDataset(dataset_id='HJdEI1q4SV-c5Di43BTT_Q', dataset_create_time=datetime.datetime(2024, 2, 14, 9, 39, 55, 876000), dataset_name='Martignac test dataset', dataset_type='DatasetType.owned', dataset_modified_time=datetime.datetime(2024, 2, 14, 9, 39, 55, 876000), user=NomadUser(name='Tristan Bereau'), doi=None, pid=None, m_annotations=None)"
      ]
     },
     "execution_count": 20,
     "metadata": {},
     "output_type": "execute_result"
    }
   ],
   "source": [
    "dataset = get_dataset_by_id(\"HJdEI1q4SV-c5Di43BTT_Q\", use_prod=False)\n",
    "dataset"
   ]
  },
  {
   "cell_type": "code",
   "execution_count": 21,
   "id": "f8c2bd29-1d21-4fef-af04-6630a3faf12a",
   "metadata": {},
   "outputs": [
    {
     "name": "stdout",
     "output_type": "stream",
     "text": [
      "NomadDataset(dataset_id='HJdEI1q4SV-c5Di43BTT_Q', dataset_create_time=datetime.datetime(2024, 2, 14, 9, 39, 55, 876000), dataset_name='Martignac test dataset', dataset_type='DatasetType.owned', dataset_modified_time=datetime.datetime(2024, 2, 14, 9, 39, 55, 876000), user=NomadUser(name='Tristan Bereau'), doi=None, pid=None, m_annotations=None)\n"
     ]
    }
   ],
   "source": [
    "pprint(dataset)"
   ]
  },
  {
   "cell_type": "code",
   "execution_count": 22,
   "id": "6c612de8-2e1a-4fdc-9629-062724fa525c",
   "metadata": {},
   "outputs": [
    {
     "data": {
      "text/html": [
       "<p><strong>Project:</strong> /Users/bereau/work/projects/martignac/workspaces/solute_generation<br><strong>Workspace:</strong> /Users/bereau/work/projects/martignac/workspaces/solute_generation/workspace<br><strong>Size:</strong> 1</p><div>\n",
       "<style scoped>\n",
       "    .dataframe tbody tr th:only-of-type {\n",
       "        vertical-align: middle;\n",
       "    }\n",
       "\n",
       "    .dataframe tbody tr th {\n",
       "        vertical-align: top;\n",
       "    }\n",
       "\n",
       "    .dataframe thead th {\n",
       "        text-align: right;\n",
       "    }\n",
       "</style>\n",
       "<table border=\"1\" class=\"dataframe\">\n",
       "  <thead>\n",
       "    <tr style=\"text-align: right;\">\n",
       "      <th></th>\n",
       "      <th>sp.type</th>\n",
       "      <th>sp.solute_name</th>\n",
       "      <th>doc.SoluteGenFlow</th>\n",
       "      <th>doc.nomad_dataset_id</th>\n",
       "    </tr>\n",
       "  </thead>\n",
       "  <tbody>\n",
       "    <tr>\n",
       "      <th>bc3c7ca12d4e7b0fa984e8cbb813acbf</th>\n",
       "      <td>solute</td>\n",
       "      <td>P6</td>\n",
       "      <td>{'files_symlinked': True, 'fetched_nomad': Tru...</td>\n",
       "      <td>HJdEI1q4SV-c5Di43BTT_Q</td>\n",
       "    </tr>\n",
       "  </tbody>\n",
       "</table>\n",
       "</div>"
      ],
      "text/plain": [
       "SoluteGenFlow('/Users/bereau/work/projects/martignac/workspaces/solute_generation')"
      ]
     },
     "execution_count": 22,
     "metadata": {},
     "output_type": "execute_result"
    }
   ],
   "source": [
    "project"
   ]
  },
  {
   "cell_type": "code",
   "execution_count": 23,
   "id": "07c7f44c-990e-4685-b073-ef0671872555",
   "metadata": {},
   "outputs": [
    {
     "data": {
      "text/plain": [
       "[Job(project=SoluteGenFlow('/Users/bereau/work/projects/martignac/workspaces/solute_generation'), statepoint={'type': 'solute', 'solute_name': 'P6'})]"
      ]
     },
     "execution_count": 23,
     "metadata": {},
     "output_type": "execute_result"
    }
   ],
   "source": [
    "jobs = list(project.find_jobs())\n",
    "jobs"
   ]
  },
  {
   "cell_type": "code",
   "execution_count": 24,
   "id": "8b3e11ed-4b32-413b-b6cd-052d7eb963de",
   "metadata": {},
   "outputs": [
    {
     "data": {
      "text/plain": [
       "Job(project=SoluteGenFlow('/Users/bereau/work/projects/martignac/workspaces/solute_generation'), statepoint={'type': 'solute', 'solute_name': 'P6'})"
      ]
     },
     "execution_count": 24,
     "metadata": {},
     "output_type": "execute_result"
    }
   ],
   "source": [
    "job = jobs[0]\n",
    "job"
   ]
  },
  {
   "cell_type": "code",
   "execution_count": 25,
   "id": "a848546e-27bd-4e9c-a367-5e9f32d5eb08",
   "metadata": {},
   "outputs": [
    {
     "data": {
      "text/plain": [
       "{'type': 'solute', 'solute_name': 'P6'}"
      ]
     },
     "execution_count": 25,
     "metadata": {},
     "output_type": "execute_result"
    }
   ],
   "source": [
    "job.sp"
   ]
  },
  {
   "cell_type": "code",
   "execution_count": 26,
   "id": "a794c3ce-1b8d-4940-88c0-b33381a288e2",
   "metadata": {},
   "outputs": [
    {
     "data": {
      "text/plain": [
       "'bc3c7ca12d4e7b0fa984e8cbb813acbf'"
      ]
     },
     "execution_count": 26,
     "metadata": {},
     "output_type": "execute_result"
    }
   ],
   "source": [
    "job.id"
   ]
  },
  {
   "cell_type": "code",
   "execution_count": 27,
   "id": "8cabda6b-fc78-45a7-9587-d7fe912c88c7",
   "metadata": {},
   "outputs": [
    {
     "data": {
      "text/plain": [
       "{'SoluteGenFlow': {'files_symlinked': True, 'fetched_nomad': True, 'solute_itp': 'solute.itp', 'solute_top': 'solute.top', 'solute_name': 'P6', 'tasks': {'build': 'run'}, 'gromacs_logs': {'minimize': 'solute_minimize.log', 'equilibrate': 'solute_equilibrate.log'}, 'mdp_files': '2d7a9e52d14d23e0dfb97192d75a3463', 'itp_files': 'a52590b1d87d122ba1e376b83c3d6bee', 'solute_gro': 'solute_equilibrate.gro', 'nomad_workflow': 'solute_generation.archive.yaml', 'ready_for_nomad_upload': True, 'nomad_upload_id': 'E70NAf4KR7S2Eal5K1ojVQ'}, 'nomad_dataset_id': 'HJdEI1q4SV-c5Di43BTT_Q'}"
      ]
     },
     "execution_count": 27,
     "metadata": {},
     "output_type": "execute_result"
    }
   ],
   "source": [
    "job.document"
   ]
  },
  {
   "cell_type": "code",
   "execution_count": 28,
   "id": "5bf90183-e3de-4f6f-b7bf-d8ed14e4ee4b",
   "metadata": {},
   "outputs": [
    {
     "data": {
      "text/plain": [
       "Job(project=SoluteGenFlow('/Users/bereau/work/projects/martignac/workspaces/solute_generation'), statepoint={'type': 'solute', 'solute_name': 'P6'})"
      ]
     },
     "execution_count": 28,
     "metadata": {},
     "output_type": "execute_result"
    }
   ],
   "source": [
    "job"
   ]
  },
  {
   "cell_type": "code",
   "execution_count": 16,
   "id": "41f26ffc-99b7-4d16-bc6b-d772427285dd",
   "metadata": {},
   "outputs": [
    {
     "ename": "TypeError",
     "evalue": "__init__() missing 1 required positional argument: 'is_top_level'",
     "output_type": "error",
     "traceback": [
      "\u001b[0;31m---------------------------------------------------------------------------\u001b[0m",
      "\u001b[0;31mTypeError\u001b[0m                                 Traceback (most recent call last)",
      "Cell \u001b[0;32mIn[16], line 1\u001b[0m\n\u001b[0;32m----> 1\u001b[0m workflow \u001b[38;5;241m=\u001b[39m \u001b[43mNomadWorkflow\u001b[49m\u001b[43m(\u001b[49m\u001b[43mproject\u001b[49m\u001b[43m,\u001b[49m\u001b[43m \u001b[49m\u001b[43mjobs\u001b[49m\u001b[43m[\u001b[49m\u001b[38;5;241;43m0\u001b[39;49m\u001b[43m]\u001b[49m\u001b[43m)\u001b[49m\n\u001b[1;32m      2\u001b[0m workflow\n",
      "\u001b[0;31mTypeError\u001b[0m: __init__() missing 1 required positional argument: 'is_top_level'"
     ]
    }
   ],
   "source": [
    "workflow = NomadWorkflow(project, jobs[0])\n",
    "workflow"
   ]
  },
  {
   "cell_type": "code",
   "execution_count": 17,
   "id": "51ec8da7-cb37-4413-94df-b52e194b6053",
   "metadata": {},
   "outputs": [
    {
     "ename": "NameError",
     "evalue": "name 'workflow' is not defined",
     "output_type": "error",
     "traceback": [
      "\u001b[0;31m---------------------------------------------------------------------------\u001b[0m",
      "\u001b[0;31mNameError\u001b[0m                                 Traceback (most recent call last)",
      "Cell \u001b[0;32mIn[17], line 1\u001b[0m\n\u001b[0;32m----> 1\u001b[0m graph \u001b[38;5;241m=\u001b[39m \u001b[43mworkflow\u001b[49m\u001b[38;5;241m.\u001b[39mgraph\n\u001b[1;32m      2\u001b[0m nx\u001b[38;5;241m.\u001b[39mdraw(graph, with_labels\u001b[38;5;241m=\u001b[39m\u001b[38;5;28;01mTrue\u001b[39;00m)\n\u001b[1;32m      3\u001b[0m plt\u001b[38;5;241m.\u001b[39mshow()\n",
      "\u001b[0;31mNameError\u001b[0m: name 'workflow' is not defined"
     ]
    }
   ],
   "source": [
    "graph = workflow.graph\n",
    "nx.draw(graph, with_labels=True)\n",
    "plt.show()"
   ]
  },
  {
   "cell_type": "code",
   "execution_count": 18,
   "id": "93e95cd0-9c91-4d43-88a2-435c41a9e1e2",
   "metadata": {},
   "outputs": [
    {
     "ename": "KeyError",
     "evalue": "'nomad_upload_id'",
     "output_type": "error",
     "traceback": [
      "\u001b[0;31m---------------------------------------------------------------------------\u001b[0m",
      "\u001b[0;31mKeyError\u001b[0m                                  Traceback (most recent call last)",
      "Cell \u001b[0;32mIn[18], line 1\u001b[0m\n\u001b[0;32m----> 1\u001b[0m nomad_upload \u001b[38;5;241m=\u001b[39m get_upload_by_id(\u001b[43mjob\u001b[49m\u001b[38;5;241;43m.\u001b[39;49m\u001b[43mdocument\u001b[49m\u001b[43m[\u001b[49m\u001b[38;5;124;43m\"\u001b[39;49m\u001b[38;5;124;43mnomad_upload_id\u001b[39;49m\u001b[38;5;124;43m\"\u001b[39;49m\u001b[43m]\u001b[49m)\n\u001b[1;32m      2\u001b[0m pprint(nomad_upload)\n",
      "File \u001b[0;32m~/work/projects/martignac/.venv/lib/python3.9/site-packages/synced_collections-1.0.0-py3.9.egg/synced_collections/data_types/synced_collection.py:476\u001b[0m, in \u001b[0;36mSyncedCollection.__getitem__\u001b[0;34m(self, key)\u001b[0m\n\u001b[1;32m    474\u001b[0m \u001b[38;5;28;01mdef\u001b[39;00m \u001b[38;5;21m__getitem__\u001b[39m(\u001b[38;5;28mself\u001b[39m, key):\n\u001b[1;32m    475\u001b[0m     \u001b[38;5;28mself\u001b[39m\u001b[38;5;241m.\u001b[39m_load()\n\u001b[0;32m--> 476\u001b[0m     \u001b[38;5;28;01mreturn\u001b[39;00m \u001b[38;5;28;43mself\u001b[39;49m\u001b[38;5;241;43m.\u001b[39;49m\u001b[43m_data\u001b[49m\u001b[43m[\u001b[49m\u001b[43mkey\u001b[49m\u001b[43m]\u001b[49m\n",
      "\u001b[0;31mKeyError\u001b[0m: 'nomad_upload_id'"
     ]
    }
   ],
   "source": [
    "nomad_upload = get_upload_by_id(job.document[\"nomad_upload_id\"])\n",
    "pprint(nomad_upload)"
   ]
  },
  {
   "cell_type": "code",
   "execution_count": 15,
   "id": "8b77d29a-611a-4a2b-8a6c-4595d5d2a645",
   "metadata": {},
   "outputs": [
    {
     "ename": "NameError",
     "evalue": "name 'nomad_upload' is not defined",
     "output_type": "error",
     "traceback": [
      "\u001b[0;31m---------------------------------------------------------------------------\u001b[0m",
      "\u001b[0;31mNameError\u001b[0m                                 Traceback (most recent call last)",
      "Cell \u001b[0;32mIn[15], line 1\u001b[0m\n\u001b[0;32m----> 1\u001b[0m \u001b[43mnomad_upload\u001b[49m\u001b[38;5;241m.\u001b[39mentries\n",
      "\u001b[0;31mNameError\u001b[0m: name 'nomad_upload' is not defined"
     ]
    }
   ],
   "source": [
    "nomad_upload.entries"
   ]
  },
  {
   "cell_type": "code",
   "execution_count": null,
   "id": "7a1986e4-5737-4cf8-a662-0bc101e135f3",
   "metadata": {},
   "outputs": [],
   "source": []
  }
 ],
 "metadata": {
  "kernelspec": {
   "display_name": "Python 3 (ipykernel)",
   "language": "python",
   "name": "python3"
  },
  "language_info": {
   "codemirror_mode": {
    "name": "ipython",
    "version": 3
   },
   "file_extension": ".py",
   "mimetype": "text/x-python",
   "name": "python",
   "nbconvert_exporter": "python",
   "pygments_lexer": "ipython3",
   "version": "3.9.18"
  }
 },
 "nbformat": 4,
 "nbformat_minor": 5
}
