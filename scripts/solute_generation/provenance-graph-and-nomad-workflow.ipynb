{
 "cells": [
  {
   "cell_type": "code",
   "execution_count": 1,
   "id": "eff8a453-1990-4134-a6f9-0eb5251ae610",
   "metadata": {},
   "outputs": [
    {
     "name": "stderr",
     "output_type": "stream",
     "text": [
      "24-03-05 15:53:20 - MDAnalysis.coordinates.AMBER - WARNING - netCDF4 is not available. Writing AMBER ncdf files will be slow.\n"
     ]
    }
   ],
   "source": [
    "import yaml\n",
    "from pprint import pprint\n",
    "import networkx as nx\n",
    "import matplotlib.pyplot as plt\n",
    "from martignac.workflows.solute_generation import SoluteGenFlow\n",
    "from martignac.nomad.workflows import NomadWorkflow\n",
    "from martignac.nomad.uploads import get_upload_by_id\n",
    "from martignac.nomad.datasets import get_dataset_by_id\n",
    "from martignac.nomad.users import get_user_by_id"
   ]
  },
  {
   "cell_type": "code",
   "execution_count": 18,
   "id": "a334ec0f-b657-4460-969f-203c12d4c8f9",
   "metadata": {},
   "outputs": [
    {
     "name": "stderr",
     "output_type": "stream",
     "text": [
      "24-03-05 15:57:26 - martignac.nomad.utils - INFO - Sending get request @ https://nomad-lab.eu/prod/v1/test/api/v1/datasets/?dataset_id=HJdEI1q4SV-c5Di43BTT_Q&page_size=10\n",
      "24-03-05 15:57:26 - martignac.nomad.users - INFO - retrieving user 30d3a108-d2cc-45ec-9ddb-0c1dc6a2c99b on prod server\n",
      "24-03-05 15:57:26 - martignac.nomad.utils - INFO - Sending get request @ https://nomad-lab.eu/prod/v1/test/api/v1/users/30d3a108-d2cc-45ec-9ddb-0c1dc6a2c99b\n"
     ]
    },
    {
     "data": {
      "text/plain": [
       "NomadDataset(dataset_id='HJdEI1q4SV-c5Di43BTT_Q', dataset_create_time=datetime.datetime(2024, 2, 14, 9, 39, 55, 876000), dataset_name='Martignac test dataset', dataset_type='DatasetType.owned', dataset_modified_time=datetime.datetime(2024, 2, 14, 9, 39, 55, 876000), user=NomadUser(name='Tristan Bereau'), doi=None, pid=None, m_annotations=None)"
      ]
     },
     "execution_count": 18,
     "metadata": {},
     "output_type": "execute_result"
    }
   ],
   "source": [
    "dataset = get_dataset_by_id(\"HJdEI1q4SV-c5Di43BTT_Q\", use_prod=False)\n",
    "dataset"
   ]
  },
  {
   "cell_type": "code",
   "execution_count": 19,
   "id": "f8c2bd29-1d21-4fef-af04-6630a3faf12a",
   "metadata": {},
   "outputs": [
    {
     "name": "stdout",
     "output_type": "stream",
     "text": [
      "NomadDataset(dataset_id='HJdEI1q4SV-c5Di43BTT_Q',\n",
      "             dataset_create_time=datetime.datetime(2024, 2, 14, 9, 39, 55, 876000),\n",
      "             dataset_name='Martignac test dataset',\n",
      "             dataset_type='DatasetType.owned',\n",
      "             dataset_modified_time=datetime.datetime(2024, 2, 14, 9, 39, 55, 876000),\n",
      "             user=NomadUser(name='Tristan Bereau'),\n",
      "             doi=None,\n",
      "             pid=None,\n",
      "             m_annotations=None)\n"
     ]
    }
   ],
   "source": [
    "pprint(dataset)"
   ]
  },
  {
   "cell_type": "code",
   "execution_count": 21,
   "id": "6c612de8-2e1a-4fdc-9629-062724fa525c",
   "metadata": {},
   "outputs": [
    {
     "data": {
      "text/html": [
       "<p><strong>Project:</strong> /Users/bereau/work/projects/martignac/scripts/martini_solute_gen<br><strong>Workspace:</strong> /Users/bereau/work/projects/martignac/scripts/martini_solute_gen/workspace<br><strong>Size:</strong> 1</p><div>\n",
       "<style scoped>\n",
       "    .dataframe tbody tr th:only-of-type {\n",
       "        vertical-align: middle;\n",
       "    }\n",
       "\n",
       "    .dataframe tbody tr th {\n",
       "        vertical-align: top;\n",
       "    }\n",
       "\n",
       "    .dataframe thead th {\n",
       "        text-align: right;\n",
       "    }\n",
       "</style>\n",
       "<table border=\"1\" class=\"dataframe\">\n",
       "  <thead>\n",
       "    <tr style=\"text-align: right;\">\n",
       "      <th></th>\n",
       "      <th>sp.type</th>\n",
       "      <th>sp.solute_name</th>\n",
       "      <th>doc.solute_itp</th>\n",
       "      <th>doc.solute_top</th>\n",
       "      <th>doc.solute_name</th>\n",
       "      <th>doc.gromacs_logs</th>\n",
       "      <th>doc.solute_gro</th>\n",
       "      <th>doc.nomad_workflow</th>\n",
       "      <th>doc.nomad_dataset_id</th>\n",
       "      <th>doc.nomad_upload_id</th>\n",
       "    </tr>\n",
       "  </thead>\n",
       "  <tbody>\n",
       "    <tr>\n",
       "      <th>bc3c7ca12d4e7b0fa984e8cbb813acbf</th>\n",
       "      <td>solute</td>\n",
       "      <td>P6</td>\n",
       "      <td>solute.itp</td>\n",
       "      <td>solute.top</td>\n",
       "      <td>P6</td>\n",
       "      <td>{'SoluteGenFlow': {'minimize': 'solute_min.log'}}</td>\n",
       "      <td>solute_min.gro</td>\n",
       "      <td>{'SoluteGenFlow': 'solute_generation.archive.y...</td>\n",
       "      <td>HJdEI1q4SV-c5Di43BTT_Q</td>\n",
       "      <td>LSfEAvdkTwucpZVr-hY1VA</td>\n",
       "    </tr>\n",
       "  </tbody>\n",
       "</table>\n",
       "</div>"
      ],
      "text/plain": [
       "SoluteGenFlow('/Users/bereau/work/projects/martignac/scripts/martini_solute_gen')"
      ]
     },
     "execution_count": 21,
     "metadata": {},
     "output_type": "execute_result"
    }
   ],
   "source": [
    "project = SoluteGenFlow.get_project()\n",
    "project"
   ]
  },
  {
   "cell_type": "code",
   "execution_count": 22,
   "id": "07c7f44c-990e-4685-b073-ef0671872555",
   "metadata": {},
   "outputs": [
    {
     "data": {
      "text/plain": [
       "[Job(project=SoluteGenFlow('/Users/bereau/work/projects/martignac/scripts/martini_solute_gen'), statepoint={'type': 'solute', 'solute_name': 'P6'})]"
      ]
     },
     "execution_count": 22,
     "metadata": {},
     "output_type": "execute_result"
    }
   ],
   "source": [
    "jobs = list(project.find_jobs())\n",
    "jobs"
   ]
  },
  {
   "cell_type": "code",
   "execution_count": 23,
   "id": "8b3e11ed-4b32-413b-b6cd-052d7eb963de",
   "metadata": {},
   "outputs": [
    {
     "data": {
      "text/plain": [
       "Job(project=SoluteGenFlow('/Users/bereau/work/projects/martignac/scripts/martini_solute_gen'), statepoint={'type': 'solute', 'solute_name': 'P6'})"
      ]
     },
     "execution_count": 23,
     "metadata": {},
     "output_type": "execute_result"
    }
   ],
   "source": [
    "job = jobs[0]\n",
    "job"
   ]
  },
  {
   "cell_type": "code",
   "execution_count": 24,
   "id": "a848546e-27bd-4e9c-a367-5e9f32d5eb08",
   "metadata": {},
   "outputs": [
    {
     "data": {
      "text/plain": [
       "{'type': 'solute', 'solute_name': 'P6'}"
      ]
     },
     "execution_count": 24,
     "metadata": {},
     "output_type": "execute_result"
    }
   ],
   "source": [
    "job.sp"
   ]
  },
  {
   "cell_type": "code",
   "execution_count": 25,
   "id": "a794c3ce-1b8d-4940-88c0-b33381a288e2",
   "metadata": {},
   "outputs": [
    {
     "data": {
      "text/plain": [
       "'bc3c7ca12d4e7b0fa984e8cbb813acbf'"
      ]
     },
     "execution_count": 25,
     "metadata": {},
     "output_type": "execute_result"
    }
   ],
   "source": [
    "job.id"
   ]
  },
  {
   "cell_type": "code",
   "execution_count": 26,
   "id": "8cabda6b-fc78-45a7-9587-d7fe912c88c7",
   "metadata": {},
   "outputs": [
    {
     "data": {
      "text/plain": [
       "{'solute_itp': 'solute.itp', 'solute_top': 'solute.top', 'solute_name': 'P6', 'gromacs_logs': {'SoluteGenFlow': {'minimize': 'solute_min.log'}}, 'solute_gro': 'solute_min.gro', 'nomad_workflow': {'SoluteGenFlow': 'solute_generation.archive.yaml'}, 'nomad_dataset_id': 'HJdEI1q4SV-c5Di43BTT_Q', 'nomad_upload_id': 'LSfEAvdkTwucpZVr-hY1VA'}"
      ]
     },
     "execution_count": 26,
     "metadata": {},
     "output_type": "execute_result"
    }
   ],
   "source": [
    "job.document"
   ]
  },
  {
   "cell_type": "code",
   "execution_count": 27,
   "id": "5bf90183-e3de-4f6f-b7bf-d8ed14e4ee4b",
   "metadata": {},
   "outputs": [
    {
     "data": {
      "text/plain": [
       "Job(project=SoluteGenFlow('/Users/bereau/work/projects/martignac/scripts/martini_solute_gen'), statepoint={'type': 'solute', 'solute_name': 'P6'})"
      ]
     },
     "execution_count": 27,
     "metadata": {},
     "output_type": "execute_result"
    }
   ],
   "source": [
    "job"
   ]
  },
  {
   "cell_type": "code",
   "execution_count": 28,
   "id": "41f26ffc-99b7-4d16-bc6b-d772427285dd",
   "metadata": {},
   "outputs": [
    {
     "data": {
      "text/plain": [
       "NomadWorkflow(project=SoluteGenFlow('/Users/bereau/work/projects/martignac/scripts/martini_solute_gen'), job=Job(project=SoluteGenFlow('/Users/bereau/work/projects/martignac/scripts/martini_solute_gen'), statepoint={'type': 'solute', 'solute_name': 'P6'}))"
      ]
     },
     "execution_count": 28,
     "metadata": {},
     "output_type": "execute_result"
    }
   ],
   "source": [
    "workflow = NomadWorkflow(project, jobs[0])\n",
    "workflow"
   ]
  },
  {
   "cell_type": "code",
   "execution_count": 29,
   "id": "51ec8da7-cb37-4413-94df-b52e194b6053",
   "metadata": {},
   "outputs": [
    {
     "data": {
      "image/png": "[encoded data removed]",
      "text/plain": [
       "<Figure size 640x480 with 1 Axes>"
      ]
     },
     "metadata": {},
     "output_type": "display_data"
    }
   ],
   "source": [
    "graph = workflow.graph\n",
    "nx.draw(graph, with_labels=True)\n",
    "plt.show()"
   ]
  },
  {
   "cell_type": "code",
   "execution_count": 30,
   "id": "93e95cd0-9c91-4d43-88a2-435c41a9e1e2",
   "metadata": {},
   "outputs": [
    {
     "name": "stderr",
     "output_type": "stream",
     "text": [
      "24-03-05 15:59:17 - martignac.nomad.uploads - INFO - retrieving upload LSfEAvdkTwucpZVr-hY1VA on test server\n",
      "24-03-05 15:59:17 - martignac.nomad.utils - INFO - Sending get request @ https://nomad-lab.eu/prod/v1/test/api/v1/uploads/LSfEAvdkTwucpZVr-hY1VA\n",
      "24-03-05 15:59:17 - martignac.nomad.users - INFO - retrieving user 7c85bdf1-8b53-40a8-81a4-04f26ff56f29 on prod server\n",
      "24-03-05 15:59:17 - martignac.nomad.utils - INFO - Sending get request @ https://nomad-lab.eu/prod/v1/test/api/v1/users/7c85bdf1-8b53-40a8-81a4-04f26ff56f29\n"
     ]
    },
    {
     "name": "stdout",
     "output_type": "stream",
     "text": [
      "NomadUpload(upload_id='LSfEAvdkTwucpZVr-hY1VA',\n",
      "            upload_create_time=datetime.datetime(2024, 3, 5, 14, 57, 50, 630000),\n",
      "            main_author=NomadUser(name='Tristan Bereau'),\n",
      "            process_running=False,\n",
      "            current_process='process_upload',\n",
      "            process_status='SUCCESS',\n",
      "            last_status_message='Process process_upload completed successfully',\n",
      "            errors=[],\n",
      "            warnings=[],\n",
      "            complete_time=datetime.datetime(2024, 3, 5, 14, 57, 52, 520000),\n",
      "            coauthors=['7c85bdf1-8b53-40a8-81a4-04f26ff56f29'],\n",
      "            coauthor_groups=[],\n",
      "            reviewers=[],\n",
      "            reviewer_groups=[],\n",
      "            writers=[NomadUser(name='Joseph Rudzinski'),\n",
      "                     NomadUser(name='Tristan Bereau')],\n",
      "            writer_groups=[],\n",
      "            viewers=[NomadUser(name='Joseph Rudzinski'),\n",
      "                     NomadUser(name='Tristan Bereau')],\n",
      "            viewer_groups=[],\n",
      "            published=False,\n",
      "            published_to=[],\n",
      "            with_embargo=False,\n",
      "            embargo_length=0.0,\n",
      "            license='CC BY 4.0',\n",
      "            entries=2,\n",
      "            n_entries=None,\n",
      "            upload_files_server_path='/nomad/test/fs/staging/L/LSfEAvdkTwucpZVr-hY1VA',\n",
      "            publish_time=None,\n",
      "            references=None,\n",
      "            datasets=None,\n",
      "            external_db=None,\n",
      "            upload_name=None,\n",
      "            comment=None)\n"
     ]
    }
   ],
   "source": [
    "nomad_upload = get_upload_by_id(job.document[\"nomad_upload_id\"])\n",
    "pprint(nomad_upload)"
   ]
  },
  {
   "cell_type": "code",
   "execution_count": 23,
   "id": "8b77d29a-611a-4a2b-8a6c-4595d5d2a645",
   "metadata": {},
   "outputs": [
    {
     "data": {
      "text/plain": [
       "2"
      ]
     },
     "execution_count": 23,
     "metadata": {},
     "output_type": "execute_result"
    }
   ],
   "source": [
    "nomad_upload.entries"
   ]
  },
  {
   "cell_type": "code",
   "execution_count": null,
   "id": "7a1986e4-5737-4cf8-a662-0bc101e135f3",
   "metadata": {},
   "outputs": [],
   "source": []
  }
 ],
 "metadata": {
  "kernelspec": {
   "display_name": "Python 3 (ipykernel)",
   "language": "python",
   "name": "python3"
  },
  "language_info": {
   "codemirror_mode": {
    "name": "ipython",
    "version": 3
   },
   "file_extension": ".py",
   "mimetype": "text/x-python",
   "name": "python",
   "nbconvert_exporter": "python",
   "pygments_lexer": "ipython3",
   "version": "3.9.18"
  }
 },
 "nbformat": 4,
 "nbformat_minor": 5
}
