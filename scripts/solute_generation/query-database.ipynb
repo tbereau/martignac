{
 "cells": [
  {
   "cell_type": "code",
   "execution_count": 1,
   "id": "d76ca878-6cbd-4df0-bd4d-e16c5a8f30e2",
   "metadata": {},
   "outputs": [
    {
     "name": "stderr",
     "output_type": "stream",
     "text": [
      "24-03-19 09:55:47 - MDAnalysis.coordinates.AMBER - WARNING - netCDF4 is not available. Writing AMBER ncdf files will be slow.\n"
     ]
    }
   ],
   "source": [
    "from pprint import pprint\n",
    "from dataclasses import asdict\n",
    "import pandas as pd\n",
    "import networkx as nx\n",
    "import matplotlib.pyplot as plt\n",
    "from martignac.workflows.solute_generation import SoluteGenFlow\n",
    "from martignac.utils.martini_flow_projects import MartiniFlowProject\n",
    "from martignac.nomad.uploads import get_upload_by_id, get_all_my_uploads\n",
    "from martignac.nomad.datasets import get_dataset_by_id\n",
    "from martignac.nomad.users import get_user_by_id\n",
    "from martignac.nomad.entries import (\n",
    "    query_entries, \n",
    "    get_entry_by_id, \n",
    "    get_entries_of_upload, \n",
    "    find_entries_corresponding_to_job, \n",
    "    download_raw_data_of_job,\n",
    "    get_entries_of_my_uploads,\n",
    "    get_entries_in_database\n",
    ")"
   ]
  },
  {
   "cell_type": "code",
   "execution_count": 2,
   "id": "2c09ddf1-8a1a-444d-82e5-1c45d40580b5",
   "metadata": {},
   "outputs": [
    {
     "data": {
      "text/plain": [
       "Job(project=SoluteGenFlow('/Users/bereau/work/projects/martignac/workspaces/solute_generation'), statepoint={'type': 'solute', 'solute_name': 'P6'})"
      ]
     },
     "execution_count": 2,
     "metadata": {},
     "output_type": "execute_result"
    }
   ],
   "source": [
    "job = list(SoluteGenFlow.get_project(path=SoluteGenFlow.workspace_path).find_jobs())[0]\n",
    "job"
   ]
  },
  {
   "cell_type": "code",
   "execution_count": 3,
   "id": "d10ebd52-3fa6-4cd8-b16d-0ae3fa0d95da",
   "metadata": {},
   "outputs": [
    {
     "data": {
      "text/plain": [
       "'bc3c7ca12d4e7b0fa984e8cbb813acbf'"
      ]
     },
     "execution_count": 3,
     "metadata": {},
     "output_type": "execute_result"
    }
   ],
   "source": [
    "job.id"
   ]
  },
  {
   "cell_type": "code",
   "execution_count": 22,
   "id": "c879bc5e-145f-4cb7-af17-e40953270a3c",
   "metadata": {},
   "outputs": [
    {
     "data": {
      "text/plain": [
       "\u001b[0;31mSignature:\u001b[0m \u001b[0mjob\u001b[0m\u001b[0;34m.\u001b[0m\u001b[0mdocument\u001b[0m\u001b[0;34m.\u001b[0m\u001b[0mupdate\u001b[0m\u001b[0;34m(\u001b[0m\u001b[0mother\u001b[0m\u001b[0;34m=\u001b[0m\u001b[0;32mNone\u001b[0m\u001b[0;34m,\u001b[0m \u001b[0;34m**\u001b[0m\u001b[0mkwargs\u001b[0m\u001b[0;34m)\u001b[0m\u001b[0;34m\u001b[0m\u001b[0;34m\u001b[0m\u001b[0m\n",
       "\u001b[0;31mDocstring:\u001b[0m\n",
       "D.update([E, ]**F) -> None.  Update D from mapping/iterable E and F.\n",
       "If E present and has a .keys() method, does:     for k in E: D[k] = E[k]\n",
       "If E present and lacks .keys() method, does:     for (k, v) in E: D[k] = v\n",
       "In either case, this is followed by: for k, v in F.items(): D[k] = v\n",
       "\u001b[0;31mFile:\u001b[0m      ~/work/projects/martignac/.venv/lib/python3.9/site-packages/synced_collections-1.0.0-py3.9.egg/synced_collections/data_types/synced_dict.py\n",
       "\u001b[0;31mType:\u001b[0m      method"
      ]
     },
     "metadata": {},
     "output_type": "display_data"
    }
   ],
   "source": [
    "job.document.update?"
   ]
  },
  {
   "cell_type": "code",
   "execution_count": 6,
   "id": "79d1fb5d-13a0-4de2-bdef-0762d200af8f",
   "metadata": {},
   "outputs": [
    {
     "name": "stderr",
     "output_type": "stream",
     "text": [
      "24-03-18 15:24:48 - martignac.nomad.utils - INFO - Sending post request @ https://nomad-lab.eu/prod/v1/test/api/v1/entries/query\n",
      "24-03-18 15:24:48 - martignac.nomad.entries - INFO - retrieving entry IWfLp8VCyT7z9t3BtVy21Q5WZSRW on test server\n",
      "24-03-18 15:24:48 - martignac.nomad.utils - INFO - Sending get request @ https://nomad-lab.eu/prod/v1/test/api/v1/entries/IWfLp8VCyT7z9t3BtVy21Q5WZSRW\n",
      "24-03-18 15:24:48 - martignac.nomad.users - INFO - retrieving user 30d3a108-d2cc-45ec-9ddb-0c1dc6a2c99b on prod server\n",
      "24-03-18 15:24:48 - martignac.nomad.utils - INFO - Sending get request @ https://nomad-lab.eu/prod/v1/test/api/v1/users/30d3a108-d2cc-45ec-9ddb-0c1dc6a2c99b\n"
     ]
    },
    {
     "data": {
      "text/html": [
       "<div>\n",
       "<style scoped>\n",
       "    .dataframe tbody tr th:only-of-type {\n",
       "        vertical-align: middle;\n",
       "    }\n",
       "\n",
       "    .dataframe tbody tr th {\n",
       "        vertical-align: top;\n",
       "    }\n",
       "\n",
       "    .dataframe thead th {\n",
       "        text-align: right;\n",
       "    }\n",
       "</style>\n",
       "<table border=\"1\" class=\"dataframe\">\n",
       "  <thead>\n",
       "    <tr style=\"text-align: right;\">\n",
       "      <th></th>\n",
       "      <th>entry_id</th>\n",
       "      <th>upload_id</th>\n",
       "      <th>references</th>\n",
       "      <th>origin</th>\n",
       "      <th>quantities</th>\n",
       "      <th>datasets</th>\n",
       "      <th>n_quantities</th>\n",
       "      <th>nomad_version</th>\n",
       "      <th>upload_create_time</th>\n",
       "      <th>nomad_commit</th>\n",
       "      <th>...</th>\n",
       "      <th>main_author.first_name</th>\n",
       "      <th>main_author.last_name</th>\n",
       "      <th>main_author.username</th>\n",
       "      <th>main_author.affiliation</th>\n",
       "      <th>main_author.affiliation_address</th>\n",
       "      <th>main_author.email</th>\n",
       "      <th>main_author.is_oasis_admin</th>\n",
       "      <th>main_author.is_admin</th>\n",
       "      <th>main_author.repo_user_id</th>\n",
       "      <th>main_author.created</th>\n",
       "    </tr>\n",
       "  </thead>\n",
       "  <tbody>\n",
       "    <tr>\n",
       "      <th>0</th>\n",
       "      <td>IWfLp8VCyT7z9t3BtVy21Q5WZSRW</td>\n",
       "      <td>Hbwh9S0-RLehQIh90nfhAQ</td>\n",
       "      <td>[]</td>\n",
       "      <td>Tristan Bereau</td>\n",
       "      <td>[, metadata, metadata.coauthor_groups, metadat...</td>\n",
       "      <td>[{'dataset_id': 'HJdEI1q4SV-c5Di43BTT_Q', 'dat...</td>\n",
       "      <td>0</td>\n",
       "      <td>1.2.2.dev365+g0c980916a</td>\n",
       "      <td>2024-02-14 09:43:58.640000+00:00</td>\n",
       "      <td></td>\n",
       "      <td>...</td>\n",
       "      <td>Tristan</td>\n",
       "      <td>Bereau</td>\n",
       "      <td>tbereau</td>\n",
       "      <td>Heidelberg University</td>\n",
       "      <td>Heidelberg, Germany</td>\n",
       "      <td>None</td>\n",
       "      <td>None</td>\n",
       "      <td>None</td>\n",
       "      <td>None</td>\n",
       "      <td>None</td>\n",
       "    </tr>\n",
       "  </tbody>\n",
       "</table>\n",
       "<p>1 rows × 62 columns</p>\n",
       "</div>"
      ],
      "text/plain": [
       "                       entry_id               upload_id references  \\\n",
       "0  IWfLp8VCyT7z9t3BtVy21Q5WZSRW  Hbwh9S0-RLehQIh90nfhAQ         []   \n",
       "\n",
       "           origin                                         quantities  \\\n",
       "0  Tristan Bereau  [, metadata, metadata.coauthor_groups, metadat...   \n",
       "\n",
       "                                            datasets  n_quantities  \\\n",
       "0  [{'dataset_id': 'HJdEI1q4SV-c5Di43BTT_Q', 'dat...             0   \n",
       "\n",
       "             nomad_version               upload_create_time nomad_commit  ...  \\\n",
       "0  1.2.2.dev365+g0c980916a 2024-02-14 09:43:58.640000+00:00               ...   \n",
       "\n",
       "  main_author.first_name main_author.last_name main_author.username  \\\n",
       "0                Tristan                Bereau              tbereau   \n",
       "\n",
       "  main_author.affiliation main_author.affiliation_address main_author.email  \\\n",
       "0   Heidelberg University             Heidelberg, Germany              None   \n",
       "\n",
       "   main_author.is_oasis_admin main_author.is_admin main_author.repo_user_id  \\\n",
       "0                        None                 None                     None   \n",
       "\n",
       "   main_author.created  \n",
       "0                 None  \n",
       "\n",
       "[1 rows x 62 columns]"
      ]
     },
     "execution_count": 6,
     "metadata": {},
     "output_type": "execute_result"
    }
   ],
   "source": [
    "entries = get_entries_in_database()\n",
    "pd.json_normalize(asdict(e) for e in entries)"
   ]
  },
  {
   "cell_type": "code",
   "execution_count": 7,
   "id": "e903383b-2cdf-4eaf-a3d0-80d17ba576bc",
   "metadata": {},
   "outputs": [
    {
     "data": {
      "text/html": [
       "<div>\n",
       "<style scoped>\n",
       "    .dataframe tbody tr th:only-of-type {\n",
       "        vertical-align: middle;\n",
       "    }\n",
       "\n",
       "    .dataframe tbody tr th {\n",
       "        vertical-align: top;\n",
       "    }\n",
       "\n",
       "    .dataframe thead th {\n",
       "        text-align: right;\n",
       "    }\n",
       "</style>\n",
       "<table border=\"1\" class=\"dataframe\">\n",
       "  <thead>\n",
       "    <tr style=\"text-align: right;\">\n",
       "      <th></th>\n",
       "      <th>entry_id</th>\n",
       "      <th>upload_id</th>\n",
       "      <th>references</th>\n",
       "      <th>origin</th>\n",
       "      <th>quantities</th>\n",
       "      <th>datasets</th>\n",
       "      <th>n_quantities</th>\n",
       "      <th>nomad_version</th>\n",
       "      <th>upload_create_time</th>\n",
       "      <th>nomad_commit</th>\n",
       "      <th>...</th>\n",
       "      <th>main_author.last_name</th>\n",
       "      <th>main_author.username</th>\n",
       "      <th>main_author.affiliation</th>\n",
       "      <th>main_author.affiliation_address</th>\n",
       "      <th>main_author.email</th>\n",
       "      <th>main_author.is_oasis_admin</th>\n",
       "      <th>main_author.is_admin</th>\n",
       "      <th>main_author.repo_user_id</th>\n",
       "      <th>main_author.created</th>\n",
       "      <th>results.properties.geometry_optimization.convergence_tolerance_force_maximum</th>\n",
       "    </tr>\n",
       "  </thead>\n",
       "  <tbody>\n",
       "    <tr>\n",
       "      <th>0</th>\n",
       "      <td>IWfLp8VCyT7z9t3BtVy21Q5WZSRW</td>\n",
       "      <td>Hbwh9S0-RLehQIh90nfhAQ</td>\n",
       "      <td>[]</td>\n",
       "      <td>Tristan Bereau</td>\n",
       "      <td>[, metadata, metadata.coauthor_groups, metadat...</td>\n",
       "      <td>[{'dataset_id': 'HJdEI1q4SV-c5Di43BTT_Q', 'dat...</td>\n",
       "      <td>0</td>\n",
       "      <td>1.2.2.dev365+g0c980916a</td>\n",
       "      <td>2024-02-14 09:43:58.640000+00:00</td>\n",
       "      <td></td>\n",
       "      <td>...</td>\n",
       "      <td>Bereau</td>\n",
       "      <td>tbereau</td>\n",
       "      <td>Heidelberg University</td>\n",
       "      <td>Heidelberg, Germany</td>\n",
       "      <td>None</td>\n",
       "      <td>None</td>\n",
       "      <td>None</td>\n",
       "      <td>None</td>\n",
       "      <td>None</td>\n",
       "      <td>NaN</td>\n",
       "    </tr>\n",
       "    <tr>\n",
       "      <th>1</th>\n",
       "      <td>WzTeM_gAU_3LyARE4isJHUk-Hykw</td>\n",
       "      <td>Rh_T1ALjQMGW062Lwn06kA</td>\n",
       "      <td>[]</td>\n",
       "      <td>Tristan Bereau</td>\n",
       "      <td>[, metadata, metadata.coauthor_groups, metadat...</td>\n",
       "      <td>[{'dataset_id': 'HJdEI1q4SV-c5Di43BTT_Q', 'dat...</td>\n",
       "      <td>52</td>\n",
       "      <td>1.2.2.dev365+g0c980916a</td>\n",
       "      <td>2024-03-15 09:38:00.440000+00:00</td>\n",
       "      <td></td>\n",
       "      <td>...</td>\n",
       "      <td>Bereau</td>\n",
       "      <td>tbereau</td>\n",
       "      <td>Heidelberg University</td>\n",
       "      <td>Heidelberg, Germany</td>\n",
       "      <td>None</td>\n",
       "      <td>None</td>\n",
       "      <td>None</td>\n",
       "      <td>None</td>\n",
       "      <td>None</td>\n",
       "      <td>NaN</td>\n",
       "    </tr>\n",
       "    <tr>\n",
       "      <th>2</th>\n",
       "      <td>c5_NBBaMfeRFZZruEbYRRq-lK096</td>\n",
       "      <td>Rh_T1ALjQMGW062Lwn06kA</td>\n",
       "      <td>[]</td>\n",
       "      <td>Tristan Bereau</td>\n",
       "      <td>[, metadata, metadata.coauthor_groups, metadat...</td>\n",
       "      <td>[{'dataset_id': 'HJdEI1q4SV-c5Di43BTT_Q', 'dat...</td>\n",
       "      <td>244</td>\n",
       "      <td>1.2.2.dev365+g0c980916a</td>\n",
       "      <td>2024-03-15 09:38:00.440000+00:00</td>\n",
       "      <td></td>\n",
       "      <td>...</td>\n",
       "      <td>Bereau</td>\n",
       "      <td>tbereau</td>\n",
       "      <td>Heidelberg University</td>\n",
       "      <td>Heidelberg, Germany</td>\n",
       "      <td>None</td>\n",
       "      <td>None</td>\n",
       "      <td>None</td>\n",
       "      <td>None</td>\n",
       "      <td>None</td>\n",
       "      <td>6.022141e+36</td>\n",
       "    </tr>\n",
       "  </tbody>\n",
       "</table>\n",
       "<p>3 rows × 64 columns</p>\n",
       "</div>"
      ],
      "text/plain": [
       "                       entry_id               upload_id references  \\\n",
       "0  IWfLp8VCyT7z9t3BtVy21Q5WZSRW  Hbwh9S0-RLehQIh90nfhAQ         []   \n",
       "1  WzTeM_gAU_3LyARE4isJHUk-Hykw  Rh_T1ALjQMGW062Lwn06kA         []   \n",
       "2  c5_NBBaMfeRFZZruEbYRRq-lK096  Rh_T1ALjQMGW062Lwn06kA         []   \n",
       "\n",
       "           origin                                         quantities  \\\n",
       "0  Tristan Bereau  [, metadata, metadata.coauthor_groups, metadat...   \n",
       "1  Tristan Bereau  [, metadata, metadata.coauthor_groups, metadat...   \n",
       "2  Tristan Bereau  [, metadata, metadata.coauthor_groups, metadat...   \n",
       "\n",
       "                                            datasets  n_quantities  \\\n",
       "0  [{'dataset_id': 'HJdEI1q4SV-c5Di43BTT_Q', 'dat...             0   \n",
       "1  [{'dataset_id': 'HJdEI1q4SV-c5Di43BTT_Q', 'dat...            52   \n",
       "2  [{'dataset_id': 'HJdEI1q4SV-c5Di43BTT_Q', 'dat...           244   \n",
       "\n",
       "             nomad_version               upload_create_time nomad_commit  ...  \\\n",
       "0  1.2.2.dev365+g0c980916a 2024-02-14 09:43:58.640000+00:00               ...   \n",
       "1  1.2.2.dev365+g0c980916a 2024-03-15 09:38:00.440000+00:00               ...   \n",
       "2  1.2.2.dev365+g0c980916a 2024-03-15 09:38:00.440000+00:00               ...   \n",
       "\n",
       "  main_author.last_name main_author.username main_author.affiliation  \\\n",
       "0                Bereau              tbereau   Heidelberg University   \n",
       "1                Bereau              tbereau   Heidelberg University   \n",
       "2                Bereau              tbereau   Heidelberg University   \n",
       "\n",
       "  main_author.affiliation_address main_author.email  \\\n",
       "0             Heidelberg, Germany              None   \n",
       "1             Heidelberg, Germany              None   \n",
       "2             Heidelberg, Germany              None   \n",
       "\n",
       "  main_author.is_oasis_admin  main_author.is_admin main_author.repo_user_id  \\\n",
       "0                       None                  None                     None   \n",
       "1                       None                  None                     None   \n",
       "2                       None                  None                     None   \n",
       "\n",
       "  main_author.created  \\\n",
       "0                None   \n",
       "1                None   \n",
       "2                None   \n",
       "\n",
       "   results.properties.geometry_optimization.convergence_tolerance_force_maximum  \n",
       "0                                                NaN                             \n",
       "1                                                NaN                             \n",
       "2                                       6.022141e+36                             \n",
       "\n",
       "[3 rows x 64 columns]"
      ]
     },
     "execution_count": 7,
     "metadata": {},
     "output_type": "execute_result"
    }
   ],
   "source": [
    "entries = get_entries_of_my_uploads()\n",
    "pd.json_normalize([{**asdict(e), \"nomad_url\": e.nomad_gui_url} for e in entries])"
   ]
  },
  {
   "cell_type": "code",
   "execution_count": null,
   "id": "0d4ab984-0142-4948-a9e8-b30a530fe6f3",
   "metadata": {},
   "outputs": [],
   "source": []
  }
 ],
 "metadata": {
  "kernelspec": {
   "display_name": "Python 3 (ipykernel)",
   "language": "python",
   "name": "python3"
  },
  "language_info": {
   "codemirror_mode": {
    "name": "ipython",
    "version": 3
   },
   "file_extension": ".py",
   "mimetype": "text/x-python",
   "name": "python",
   "nbconvert_exporter": "python",
   "pygments_lexer": "ipython3",
   "version": "3.9.18"
  }
 },
 "nbformat": 4,
 "nbformat_minor": 5
}
