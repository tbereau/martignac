{
 "cells": [
  {
   "cell_type": "code",
   "execution_count": 1,
   "id": "db071453-13a3-497e-84ac-20c6e55922af",
   "metadata": {},
   "outputs": [
    {
     "name": "stderr",
     "output_type": "stream",
     "text": [
      "24-08-14 17:07:17 - pymbar.timeseries - WARNING - Warning on use of the timeseries module: If the inherent timescales of the system are long compared to those being analyzed, this statistical inefficiency may be an underestimate.  The estimate presumes the use of many statistically independent samples.  Tests should be performed to assess whether this condition is satisfied.   Be cautious in the interpretation of the data.\n",
      "24-08-14 17:07:17 - pymbar.mbar_solvers - WARNING - \n",
      "********* JAX NOT FOUND *********\n",
      " PyMBAR can run faster with JAX  \n",
      " But will work fine without it   \n",
      "Either install with pip or conda:\n",
      "      pip install pybar[jax]     \n",
      "               OR                \n",
      "      conda install pymbar       \n",
      "*********************************\n",
      "24-08-14 17:07:17 - pymbar.mbar_solvers - INFO - JAX was either not detected or disabled, using standard NumPy and SciPy\n",
      "24-08-14 17:07:18 - MDAnalysis.coordinates.AMBER - WARNING - netCDF4 is not available. Writing AMBER ncdf files will be slow.\n"
     ]
    }
   ],
   "source": [
    "import numpy as np\n",
    "import pandas as pd\n",
    "import json\n",
    "from pprint import pprint\n",
    "from dataclasses import asdict\n",
    "import matplotlib.pyplot as plt\n",
    "\n",
    "from martignac.workflows.solute_in_solvent_alchemical import project\n",
    "from martignac.nomad.entries import get_entries_of_upload, get_entries_in_database\n",
    "from martignac.nomad.uploads import get_specific_file_from_upload, get_upload_by_id\n",
    "\n",
    "from martignac.workflow_interfaces.solute_generation import SoluteGenerationInterface\n",
    "from martignac.workflow_interfaces.solvent_generation import SolventGenerationInterface\n",
    "from martignac.workflow_interfaces.solute_in_solvent_generation import SoluteInSolventGenerationInterface\n",
    "from martignac.workflow_interfaces.solute_in_solvent_alchemical import SoluteInSolventAlchemicalInterface\n",
    "from martignac.workflow_interfaces.bilayer_generation import BilayerGenerationInterface\n",
    "from martignac.workflow_interfaces.solute_in_bilayer_umbrella import SoluteInBilayerInterface\n",
    "\n",
    "from martignac.nomad.utils import get_nomad_request"
   ]
  },
  {
   "cell_type": "code",
   "execution_count": 14,
   "id": "cd41e073-a286-4921-ae71-96ceea26e33a",
   "metadata": {},
   "outputs": [
    {
     "data": {
      "text/plain": [
       "[NomadEntry(entry_id='IWfLp8VCyT7z9t3BtVy21Q5WZSRW', upload_id='Hbwh9S0-RLehQIh90nfhAQ', references=[], origin='Tristan Bereau', n_quantities=0, nomad_version='1.2.2.dev365+g0c980916a', upload_create_time=datetime.datetime(2024, 2, 14, 9, 43, 58, 640000, tzinfo=datetime.timezone(datetime.timedelta(0), '+0000')), nomad_commit='', processing_errors=['Error creating MDAnalysis universe.', 'Error creating MDAnalysis universe.', 'Error creating MDAnalysis universe.', 'Error parsing interactions.', 'Error creating MDAnalysis universe.', 'Error creating MDAnalysis universe.', 'Error creating MDAnalysis universe.', 'Error creating MDAnalysis universe.', 'Error creating MDAnalysis universe.', 'Error creating MDAnalysis universe.', 'Error creating MDAnalysis universe.'], last_processing_time=datetime.datetime(2024, 2, 14, 9, 43, 59, 911000, tzinfo=datetime.timezone(datetime.timedelta(0), '+0000')), parser_name='parsers/gromacs', calc_id='IWfLp8VCyT7z9t3BtVy21Q5WZSRW', published=True, writers=[NomadUser(name='Tristan Bereau')], processed=True, mainfile='008bec4a5b5a9ef9dc344f7105eaf20f/fep_run-7.log', main_author=NomadUser(name='Tristan Bereau'), entry_create_time=datetime.datetime(2024, 2, 14, 9, 43, 59, 527000, tzinfo=datetime.timezone(datetime.timedelta(0), '+0000')), with_embargo=False, license='CC BY 4.0', entry_name='GROMACS MolecularDynamics simulation', entry_type='GROMACS MolecularDynamics', domain='dft', comment=None, upload_name=None, text_search_contents=[], publish_time=datetime.datetime(2024, 2, 14, 12, 23, 57, 957000, tzinfo=datetime.timezone(datetime.timedelta(0), '+0000')), entry_references=None, use_prod=False)]"
      ]
     },
     "execution_count": 14,
     "metadata": {},
     "output_type": "execute_result"
    }
   ],
   "source": [
    "entries = get_entries_in_database(\"HJdEI1q4SV-c5Di43BTT_Q\", use_prod=False)\n",
    "entries"
   ]
  },
  {
   "cell_type": "code",
   "execution_count": 15,
   "id": "19c13836-931d-42b6-a4ab-789c471e2efc",
   "metadata": {},
   "outputs": [],
   "source": [
    "upload_id = 'Ma3E_elDQuK98RBaDbYM_A'\n",
    "# job_id = \"a2ad31a1658772eaefad79a864db51a9\"\n",
    "# file_name = \"signac_job_document.json\"\n",
    "# response = get_specific_file_from_upload(upload_id, f\"{job_id}/{file_name}\", use_prod=False, with_authentication=True)"
   ]
  },
  {
   "cell_type": "code",
   "execution_count": 16,
   "id": "49550a1e-56f6-4958-8bf9-4044af31814a",
   "metadata": {},
   "outputs": [
    {
     "name": "stderr",
     "output_type": "stream",
     "text": [
      "24-08-14 17:09:34 - martignac.nomad.uploads - INFO - downloading file d64faa3ed70ea0379fb56f746fb8c93d/signac_job_document.json from upload Ma3E_elDQuK98RBaDbYM_A on test server\n",
      "24-08-14 17:09:34 - martignac.nomad.utils - INFO - Sending get request @ https://nomad-lab.eu/prod/v1/test/api/v1/uploads/Ma3E_elDQuK98RBaDbYM_A/raw/d64faa3ed70ea0379fb56f746fb8c93d/signac_job_document.json\n"
     ]
    },
    {
     "data": {
      "text/plain": [
       "SoluteInSolventAlchemicalInterface(fetched_nomad=True, files_symlinked=True, gromacs_logs={'production': 'solute_in_solvent_alchemical_production-2.log'}, itp_files='15259a565eb93668e9e40eb8cfd10f9b', mdp_files='89b51ecb08ca7fb84bfa3118d1ede5b6', nomad_upload_id='', nomad_workflow='solute_in_solvent_alchemical.archive.yaml', ready_for_nomad_upload=False, tasks={'compute_free_energy': 'run'}, upload_id='Ma3E_elDQuK98RBaDbYM_A', use_prod=False, with_authentication=True, alchemical_log='solute_in_solvent_alchemical_production-2.log', alchemical_xvg='solute_in_solvent_alchemical_production-2.xvg', _free_energy={'mean': -4.078107592274145, 'std': 0.09085059659645506}, num_lambda_points=3, system_prepared=True, workflows={'prepare_system': 'SoluteInSolventGenFlow'})"
      ]
     },
     "execution_count": 16,
     "metadata": {},
     "output_type": "execute_result"
    }
   ],
   "source": [
    "interface = SoluteInSolventAlchemicalInterface.from_upload(upload_id, find_first_job_id=True)\n",
    "interface"
   ]
  },
  {
   "cell_type": "code",
   "execution_count": 19,
   "id": "644e3581-da7b-44a4-8fda-d65384c22ca8",
   "metadata": {},
   "outputs": [
    {
     "data": {
      "text/plain": [
       "FreeEnergy(mean=-4.078107592274145, std=0.09085059659645506)"
      ]
     },
     "execution_count": 19,
     "metadata": {},
     "output_type": "execute_result"
    }
   ],
   "source": [
    "interface.free_energy"
   ]
  },
  {
   "cell_type": "code",
   "execution_count": 20,
   "id": "2894a431-402d-4c3b-9d57-875b968c16e5",
   "metadata": {},
   "outputs": [
    {
     "name": "stderr",
     "output_type": "stream",
     "text": [
      "24-08-14 17:09:41 - martignac.nomad.uploads - INFO - downloading file d64faa3ed70ea0379fb56f746fb8c93d/signac_job_document.json from upload Ma3E_elDQuK98RBaDbYM_A on test server\n",
      "24-08-14 17:09:41 - martignac.nomad.utils - INFO - Sending get request @ https://nomad-lab.eu/prod/v1/test/api/v1/uploads/Ma3E_elDQuK98RBaDbYM_A/raw/d64faa3ed70ea0379fb56f746fb8c93d/signac_job_document.json\n"
     ]
    },
    {
     "data": {
      "text/html": [
       "<div>\n",
       "<style scoped>\n",
       "    .dataframe tbody tr th:only-of-type {\n",
       "        vertical-align: middle;\n",
       "    }\n",
       "\n",
       "    .dataframe tbody tr th {\n",
       "        vertical-align: top;\n",
       "    }\n",
       "\n",
       "    .dataframe thead th {\n",
       "        text-align: right;\n",
       "    }\n",
       "</style>\n",
       "<table border=\"1\" class=\"dataframe\">\n",
       "  <thead>\n",
       "    <tr style=\"text-align: right;\">\n",
       "      <th></th>\n",
       "      <th>fetched_nomad</th>\n",
       "      <th>files_symlinked</th>\n",
       "      <th>itp_files</th>\n",
       "      <th>mdp_files</th>\n",
       "      <th>nomad_upload_id</th>\n",
       "      <th>nomad_workflow</th>\n",
       "      <th>ready_for_nomad_upload</th>\n",
       "      <th>upload_id</th>\n",
       "      <th>use_prod</th>\n",
       "      <th>with_authentication</th>\n",
       "      <th>alchemical_log</th>\n",
       "      <th>alchemical_xvg</th>\n",
       "      <th>num_lambda_points</th>\n",
       "      <th>system_prepared</th>\n",
       "      <th>gromacs_logs.production</th>\n",
       "      <th>tasks.compute_free_energy</th>\n",
       "      <th>_free_energy.mean</th>\n",
       "      <th>_free_energy.std</th>\n",
       "      <th>workflows.prepare_system</th>\n",
       "    </tr>\n",
       "  </thead>\n",
       "  <tbody>\n",
       "    <tr>\n",
       "      <th>0</th>\n",
       "      <td>True</td>\n",
       "      <td>True</td>\n",
       "      <td>15259a565eb93668e9e40eb8cfd10f9b</td>\n",
       "      <td>89b51ecb08ca7fb84bfa3118d1ede5b6</td>\n",
       "      <td></td>\n",
       "      <td>solute_in_solvent_alchemical.archive.yaml</td>\n",
       "      <td>False</td>\n",
       "      <td>Ma3E_elDQuK98RBaDbYM_A</td>\n",
       "      <td>False</td>\n",
       "      <td>True</td>\n",
       "      <td>solute_in_solvent_alchemical_production-2.log</td>\n",
       "      <td>solute_in_solvent_alchemical_production-2.xvg</td>\n",
       "      <td>3</td>\n",
       "      <td>True</td>\n",
       "      <td>solute_in_solvent_alchemical_production-2.log</td>\n",
       "      <td>run</td>\n",
       "      <td>-4.078108</td>\n",
       "      <td>0.090851</td>\n",
       "      <td>SoluteInSolventGenFlow</td>\n",
       "    </tr>\n",
       "  </tbody>\n",
       "</table>\n",
       "</div>"
      ],
      "text/plain": [
       "   fetched_nomad  files_symlinked                         itp_files  \\\n",
       "0           True             True  15259a565eb93668e9e40eb8cfd10f9b   \n",
       "\n",
       "                          mdp_files nomad_upload_id  \\\n",
       "0  89b51ecb08ca7fb84bfa3118d1ede5b6                   \n",
       "\n",
       "                              nomad_workflow  ready_for_nomad_upload  \\\n",
       "0  solute_in_solvent_alchemical.archive.yaml                   False   \n",
       "\n",
       "                upload_id  use_prod  with_authentication  \\\n",
       "0  Ma3E_elDQuK98RBaDbYM_A     False                 True   \n",
       "\n",
       "                                  alchemical_log  \\\n",
       "0  solute_in_solvent_alchemical_production-2.log   \n",
       "\n",
       "                                  alchemical_xvg  num_lambda_points  \\\n",
       "0  solute_in_solvent_alchemical_production-2.xvg                  3   \n",
       "\n",
       "   system_prepared                        gromacs_logs.production  \\\n",
       "0             True  solute_in_solvent_alchemical_production-2.log   \n",
       "\n",
       "  tasks.compute_free_energy  _free_energy.mean  _free_energy.std  \\\n",
       "0                       run          -4.078108          0.090851   \n",
       "\n",
       "  workflows.prepare_system  \n",
       "0   SoluteInSolventGenFlow  "
      ]
     },
     "execution_count": 20,
     "metadata": {},
     "output_type": "execute_result"
    }
   ],
   "source": [
    "pd.json_normalize(asdict(SoluteInSolventAlchemicalInterface.from_upload(upload_id, find_first_job_id=True)))"
   ]
  },
  {
   "cell_type": "code",
   "execution_count": 21,
   "id": "79b67e4d-1e3a-4485-9f69-5d9d02f3fd70",
   "metadata": {},
   "outputs": [
    {
     "name": "stderr",
     "output_type": "stream",
     "text": [
      "24-08-14 17:09:41 - martignac.nomad.uploads - INFO - downloading file signac_job_document.json from upload r5ioYKfbTw2iCFy8_qi-Ig on test server\n",
      "24-08-14 17:09:41 - martignac.nomad.utils - INFO - Sending get request @ https://nomad-lab.eu/prod/v1/test/api/v1/uploads/r5ioYKfbTw2iCFy8_qi-Ig/raw/signac_job_document.json\n"
     ]
    },
    {
     "data": {
      "text/plain": [
       "SoluteInSolventGenerationInterface(fetched_nomad=True, files_symlinked=True, gromacs_logs={'minimize': 'solute_in_solvent_minimize.log', 'equilibrate': 'solute_in_solvent_equilibrate.log'}, itp_files='15259a565eb93668e9e40eb8cfd10f9b', mdp_files='20b07a164f9519df9622051af672c209', nomad_upload_id='', nomad_workflow='full_workflow.solute_in_solvent_generation.archive.yaml', ready_for_nomad_upload=True, tasks={'solvate': 'run'}, upload_id='r5ioYKfbTw2iCFy8_qi-Ig', use_prod=False, with_authentication=True, solute_solvent_gro='solute_in_solvent_equilibrate.gro', solute_solvent_top='solute_in_solvent.top', workflows={'generate_solute': 'SoluteGenFlow', 'generate_solvent': 'SolventGenFlow'})"
      ]
     },
     "execution_count": 21,
     "metadata": {},
     "output_type": "execute_result"
    }
   ],
   "source": [
    "SoluteInSolventGenerationInterface.from_upload(\"r5ioYKfbTw2iCFy8_qi-Ig\")"
   ]
  },
  {
   "cell_type": "code",
   "execution_count": 22,
   "id": "34b43f51-3360-43b3-9b4d-38c103ac5f2a",
   "metadata": {},
   "outputs": [
    {
     "name": "stderr",
     "output_type": "stream",
     "text": [
      "24-08-14 17:09:42 - martignac.nomad.uploads - INFO - downloading file signac_job_document.json from upload vAi5DXTVT-yU6cTNOB9O_g on test server\n",
      "24-08-14 17:09:42 - martignac.nomad.utils - INFO - Sending get request @ https://nomad-lab.eu/prod/v1/test/api/v1/uploads/vAi5DXTVT-yU6cTNOB9O_g/raw/signac_job_document.json\n"
     ]
    },
    {
     "data": {
      "text/plain": [
       "BilayerGenerationInterface(fetched_nomad=True, files_symlinked=True, gromacs_logs={'minimize': 'bilayer_minimize.log', 'equilibrate': 'bilayer_equilibrate.log', 'production': 'bilayer_production.log'}, itp_files='f75fb22561a042c4c3a3d0374cf88dd4', mdp_files='71f9c4bba1e661b14a4df7f97283b60c', nomad_upload_id='', nomad_workflow='bilayer_generation.archive.yaml', ready_for_nomad_upload=True, tasks={'generate_initial_bilayer': 'run'}, upload_id='vAi5DXTVT-yU6cTNOB9O_g', use_prod=False, with_authentication=True, lipid_names=['POPC'], bilayer_gro='bilayer_production.gro', bilayer_top='bilayer.top')"
      ]
     },
     "execution_count": 22,
     "metadata": {},
     "output_type": "execute_result"
    }
   ],
   "source": [
    "BilayerGenerationInterface.from_upload(\"vAi5DXTVT-yU6cTNOB9O_g\")"
   ]
  },
  {
   "cell_type": "code",
   "execution_count": 23,
   "id": "29194dc5-1425-46fe-82c3-df8b05761ea3",
   "metadata": {},
   "outputs": [
    {
     "name": "stderr",
     "output_type": "stream",
     "text": [
      "24-08-14 17:09:42 - martignac.nomad.uploads - INFO - downloading file fff2e4663a4600f9aee8cdc958056107/signac_job_document.json from upload h4Mdu3IiT4u9M9GcJbPD-g on test server\n",
      "24-08-14 17:09:42 - martignac.nomad.utils - INFO - Sending get request @ https://nomad-lab.eu/prod/v1/test/api/v1/uploads/h4Mdu3IiT4u9M9GcJbPD-g/raw/fff2e4663a4600f9aee8cdc958056107/signac_job_document.json\n"
     ]
    },
    {
     "data": {
      "text/plain": [
       "SoluteInBilayerInterface(fetched_nomad=True, files_symlinked=True, gromacs_logs={'minimize': 'solute_in_bilayer_minimize-1.05.log', 'equilibrate': 'solute_in_bilayer_equilibrate-1.05.log', 'production': 'solute_in_bilayer_production-1.05.log'}, itp_files='f75fb22561a042c4c3a3d0374cf88dd4', mdp_files='c007793be3151fc54f36966a50ac59d8', nomad_upload_id='', nomad_workflow='solute_in_bilayer.archive.yaml', ready_for_nomad_upload=True, tasks={'insert_solute_in_box': 'run', 'convert_box_to_gro': 'run', 'update_topology_file': 'run', 'compute_wham': 'run', 'analyze_wham': 'run'}, upload_id='h4Mdu3IiT4u9M9GcJbPD-g', use_prod=False, with_authentication=True, umbrella_pullx_xvg='solute_in_bilayer_production-1.05_pullx.xvg', umbrella_pullf_xvg='solute_in_bilayer_production-1.05_pullf.xvg', umbrella_log='solute_in_bilayer_production-1.05.log', free_energy={'job_id': '201a562a50f3eb0f0021158c37d1eeab', 'profile': 'wham_profile.npy', 'hist': 'wham_hist.npy', 'bootstrap': 'wham_bstrap.npy'}, bilayer_z_mean=50.17511115839318, workflows={'generate_solute': 'SoluteGenFlow', 'generate_bilayer': 'BilayerGenFlow', 'translate_solute': 'SoluteInBilayerUmbrellaFlow'}, solute_translated_gro='solute_in_bilayer_solute_translated.gro', solute_bilayer_top='solute_in_bilayer.top', tpr_file='solute_in_bilayer_production-1.05.tpr')"
      ]
     },
     "execution_count": 23,
     "metadata": {},
     "output_type": "execute_result"
    }
   ],
   "source": [
    "upload_id = \"h4Mdu3IiT4u9M9GcJbPD-g\"\n",
    "interface = SoluteInBilayerInterface.from_upload(upload_id, find_first_job_id=True)\n",
    "interface"
   ]
  },
  {
   "cell_type": "code",
   "execution_count": 24,
   "id": "652eaaa5-60df-452e-8b00-fb444fd1e2a5",
   "metadata": {},
   "outputs": [
    {
     "name": "stderr",
     "output_type": "stream",
     "text": [
      "24-08-14 17:09:42 - martignac.nomad.uploads - INFO - downloading file 201a562a50f3eb0f0021158c37d1eeab/wham_bstrap.npy from upload h4Mdu3IiT4u9M9GcJbPD-g on test server\n",
      "24-08-14 17:09:43 - martignac.nomad.utils - INFO - Sending get request @ https://nomad-lab.eu/prod/v1/test/api/v1/uploads/h4Mdu3IiT4u9M9GcJbPD-g/raw/201a562a50f3eb0f0021158c37d1eeab/wham_bstrap.npy\n"
     ]
    },
    {
     "data": {
      "image/png": "[encoded data removed]",
      "text/plain": [
       "<Figure size 640x480 with 1 Axes>"
      ]
     },
     "metadata": {},
     "output_type": "display_data"
    }
   ],
   "source": [
    "wham_pmf = interface.get_wham_npy()\n",
    "plt.plot(wham_pmf[0], wham_pmf[1], \"o-\");"
   ]
  },
  {
   "cell_type": "code",
   "execution_count": null,
   "id": "b5c7e33b-93b5-4e26-994c-903f8fe3283e",
   "metadata": {},
   "outputs": [],
   "source": []
  }
 ],
 "metadata": {
  "kernelspec": {
   "display_name": "Python 3 (ipykernel)",
   "language": "python",
   "name": "python3"
  },
  "language_info": {
   "codemirror_mode": {
    "name": "ipython",
    "version": 3
   },
   "file_extension": ".py",
   "mimetype": "text/x-python",
   "name": "python",
   "nbconvert_exporter": "python",
   "pygments_lexer": "ipython3",
   "version": "3.9.19"
  }
 },
 "nbformat": 4,
 "nbformat_minor": 5
}
