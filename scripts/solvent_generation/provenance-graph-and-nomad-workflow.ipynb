{
 "cells": [
  {
   "cell_type": "code",
   "execution_count": 147,
   "id": "eff8a453-1990-4134-a6f9-0eb5251ae610",
   "metadata": {},
   "outputs": [],
   "source": [
    "import yaml\n",
    "import networkx as nx\n",
    "import matplotlib.pyplot as plt\n",
    "from martignac.workflows.solvent_generation import SolventGenFlow\n",
    "from martignac.nomad.workflows import NomadWorkflow"
   ]
  },
  {
   "cell_type": "code",
   "execution_count": 175,
   "id": "6c612de8-2e1a-4fdc-9629-062724fa525c",
   "metadata": {},
   "outputs": [
    {
     "data": {
      "text/html": [
       "<p><strong>Project:</strong> /Users/bereau/work/projects/martignac/scripts/martini_solvent_gen<br><strong>Workspace:</strong> /Users/bereau/work/projects/martignac/scripts/martini_solvent_gen/workspace<br><strong>Size:</strong> 1</p><div>\n",
       "<style scoped>\n",
       "    .dataframe tbody tr th:only-of-type {\n",
       "        vertical-align: middle;\n",
       "    }\n",
       "\n",
       "    .dataframe tbody tr th {\n",
       "        vertical-align: top;\n",
       "    }\n",
       "\n",
       "    .dataframe thead th {\n",
       "        text-align: right;\n",
       "    }\n",
       "</style>\n",
       "<table border=\"1\" class=\"dataframe\">\n",
       "  <thead>\n",
       "    <tr style=\"text-align: right;\">\n",
       "      <th></th>\n",
       "      <th>sp.type</th>\n",
       "      <th>sp.solvent_name</th>\n",
       "      <th>doc.gromacs_logs</th>\n",
       "      <th>doc.solvent_top</th>\n",
       "      <th>doc.solvent_name</th>\n",
       "      <th>doc.solvent_gro</th>\n",
       "    </tr>\n",
       "  </thead>\n",
       "  <tbody>\n",
       "    <tr>\n",
       "      <th>3af62c304ca8f079d8a551f0710b7f2a</th>\n",
       "      <td>solvent</td>\n",
       "      <td>OCO</td>\n",
       "      <td>{'minimize': 'solvent_min.log', 'equilibrate':...</td>\n",
       "      <td>solvent_gen_box.top</td>\n",
       "      <td>OCO</td>\n",
       "      <td>solvent_prod.gro</td>\n",
       "    </tr>\n",
       "  </tbody>\n",
       "</table>\n",
       "</div>"
      ],
      "text/plain": [
       "SolventGenFlow('/Users/bereau/work/projects/martignac/scripts/martini_solvent_gen')"
      ]
     },
     "execution_count": 175,
     "metadata": {},
     "output_type": "execute_result"
    }
   ],
   "source": [
    "project = SolventGenFlow.get_project()\n",
    "project"
   ]
  },
  {
   "cell_type": "code",
   "execution_count": 176,
   "id": "82139b54-1c06-4be8-8a48-db8f332ecaec",
   "metadata": {},
   "outputs": [
    {
     "data": {
      "text/plain": [
       "'SolventGenFlow'"
      ]
     },
     "execution_count": 176,
     "metadata": {},
     "output_type": "execute_result"
    }
   ],
   "source": [
    "project.__class__.__name__"
   ]
  },
  {
   "cell_type": "code",
   "execution_count": 177,
   "id": "07c7f44c-990e-4685-b073-ef0671872555",
   "metadata": {},
   "outputs": [
    {
     "data": {
      "text/plain": [
       "[Job(project=SolventGenFlow('/Users/bereau/work/projects/martignac/scripts/martini_solvent_gen'), statepoint={'type': 'solvent', 'solvent_name': 'OCO'})]"
      ]
     },
     "execution_count": 177,
     "metadata": {},
     "output_type": "execute_result"
    }
   ],
   "source": [
    "jobs = list(project.find_jobs())\n",
    "jobs"
   ]
  },
  {
   "cell_type": "code",
   "execution_count": 178,
   "id": "8b3e11ed-4b32-413b-b6cd-052d7eb963de",
   "metadata": {},
   "outputs": [
    {
     "data": {
      "text/plain": [
       "Job(project=SolventGenFlow('/Users/bereau/work/projects/martignac/scripts/martini_solvent_gen'), statepoint={'type': 'solvent', 'solvent_name': 'OCO'})"
      ]
     },
     "execution_count": 178,
     "metadata": {},
     "output_type": "execute_result"
    }
   ],
   "source": [
    "job = jobs[0]\n",
    "job"
   ]
  },
  {
   "cell_type": "code",
   "execution_count": 184,
   "id": "1775145c-24e7-47a0-95e4-4c804d0cedbb",
   "metadata": {},
   "outputs": [
    {
     "data": {
      "text/plain": [
       "'SolventGenFlow'"
      ]
     },
     "execution_count": 184,
     "metadata": {},
     "output_type": "execute_result"
    }
   ],
   "source": [
    "job.project.__class__.__name__"
   ]
  },
  {
   "cell_type": "code",
   "execution_count": 154,
   "id": "41f26ffc-99b7-4d16-bc6b-d772427285dd",
   "metadata": {},
   "outputs": [
    {
     "data": {
      "text/plain": [
       "NomadWorkflow(project=SolventGenFlow('/Users/bereau/work/projects/martignac/scripts/martini_solvent_gen'), job=Job(project=SolventGenFlow('/Users/bereau/work/projects/martignac/scripts/martini_solvent_gen'), statepoint={'type': 'solvent', 'solvent_name': 'OCO'}))"
      ]
     },
     "execution_count": 154,
     "metadata": {},
     "output_type": "execute_result"
    }
   ],
   "source": [
    "workflow = NomadWorkflow(project, jobs[0])\n",
    "workflow"
   ]
  },
  {
   "cell_type": "code",
   "execution_count": 155,
   "id": "51ec8da7-cb37-4413-94df-b52e194b6053",
   "metadata": {},
   "outputs": [
    {
     "data": {
      "image/png": "[encoded data removed]",
      "text/plain": [
       "<Figure size 640x480 with 1 Axes>"
      ]
     },
     "metadata": {},
     "output_type": "display_data"
    }
   ],
   "source": [
    "graph = workflow.graph\n",
    "nx.draw(graph, with_labels=True)\n",
    "plt.show()"
   ]
  },
  {
   "cell_type": "code",
   "execution_count": null,
   "id": "93e95cd0-9c91-4d43-88a2-435c41a9e1e2",
   "metadata": {},
   "outputs": [],
   "source": []
  }
 ],
 "metadata": {
  "kernelspec": {
   "display_name": "Python 3 (ipykernel)",
   "language": "python",
   "name": "python3"
  },
  "language_info": {
   "codemirror_mode": {
    "name": "ipython",
    "version": 3
   },
   "file_extension": ".py",
   "mimetype": "text/x-python",
   "name": "python",
   "nbconvert_exporter": "python",
   "pygments_lexer": "ipython3",
   "version": "3.9.19"
  }
 },
 "nbformat": 4,
 "nbformat_minor": 5
}
